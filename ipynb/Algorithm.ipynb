{
 "cells": [
  {
   "cell_type": "code",
   "execution_count": null,
   "metadata": {},
   "outputs": [],
   "source": [
    "import pandas as pd\n",
    "import numpy as np\n",
    "import py_pcha\n",
    "from py_pcha import PCHA\n",
    "import matplotlib.pyplot as plt\n",
    "from numpy.matlib import repmat"
   ]
  },
  {
   "cell_type": "code",
   "execution_count": null,
   "metadata": {},
   "outputs": [],
   "source": [
    "data=pd.read_csv(\"/Users/markomiholjcic/Documents/GitHub/ArchetypalAnalysis/data/us_states_covid19_daily.csv\")\n",
    "data"
   ]
  },
  {
   "cell_type": "code",
   "execution_count": null,
   "metadata": {},
   "outputs": [],
   "source": [
    "data=pd.read_csv(\"/Users/u0984549/Documents/GitHub/ArchetypalAnalysis/data/us_states_covid19_daily.csv\")\n",
    "data"
   ]
  },
  {
   "cell_type": "markdown",
   "metadata": {},
   "source": [
    "Data for 50 states, DC, and 5 territories on December 6, 2020. Select states and territories with missing values were removed. "
   ]
  },
  {
   "cell_type": "code",
   "execution_count": null,
   "metadata": {},
   "outputs": [],
   "source": [
    "dec6 = data.loc[data['date'] == 20201206]\n",
    "dec6 = dec6[['positive','negative','totalTestResults','recovered', 'death']]\n",
    "dec6 = dec6.dropna()\n",
    "dec6"
   ]
  },
  {
   "cell_type": "code",
   "execution_count": null,
   "metadata": {},
   "outputs": [],
   "source": [
    "dec6.to_csv('/Users/markomiholjcic/Documents/GitHub/ArchetypalAnalysis/data/COVID19.csv', index = False)"
   ]
  },
  {
   "cell_type": "code",
   "execution_count": null,
   "metadata": {},
   "outputs": [],
   "source": [
    "dec6.to_csv('/Users/u0984549/Documents/GitHub/ArchetypalAnalysis/data/COVID19.csv', index = False)"
   ]
  },
  {
   "cell_type": "code",
   "execution_count": null,
   "metadata": {},
   "outputs": [],
   "source": [
    "U = np.array([1,2,3])\n",
    "X = np.array([[2,3,4,5], [5,6,7,8], [1,4,5,6]])\n",
    "\n",
    "print(X)\n",
    "print(X.T)\n",
    "\n",
    "#(X[:, U] * X[:, U])"
   ]
  },
  {
   "cell_type": "code",
   "execution_count": null,
   "metadata": {},
   "outputs": [],
   "source": [
    "np.dot(X, X.T)"
   ]
  },
  {
   "cell_type": "code",
   "execution_count": null,
   "metadata": {},
   "outputs": [],
   "source": [
    "repmat(np.mat(np.diag(X)).T, 1, 5)"
   ]
  },
  {
   "cell_type": "code",
   "execution_count": null,
   "metadata": {},
   "outputs": [],
   "source": [
    "repmat(np.mat(np.diag(X)), 5, 1)"
   ]
  },
  {
   "cell_type": "code",
   "execution_count": null,
   "metadata": {},
   "outputs": [],
   "source": [
    "int(np.ceil(5 * np.random.rand()))"
   ]
  },
  {
   "cell_type": "code",
   "execution_count": null,
   "metadata": {},
   "outputs": [],
   "source": [
    "len(range(0,5))"
   ]
  },
  {
   "cell_type": "code",
   "execution_count": null,
   "metadata": {},
   "outputs": [],
   "source": [
    "np.array(range(5))"
   ]
  },
  {
   "cell_type": "code",
   "execution_count": null,
   "metadata": {},
   "outputs": [],
   "source": [
    "t = np.diag(X)\n",
    "print(t)\n",
    "np.where(t != 2)[0]"
   ]
  },
  {
   "cell_type": "code",
   "execution_count": null,
   "metadata": {},
   "outputs": [],
   "source": [
    "repmat(np.diag(X), 5, 1)"
   ]
  },
  {
   "cell_type": "code",
   "execution_count": null,
   "metadata": {},
   "outputs": [],
   "source": [
    "X[:,U]*X[:,U]"
   ]
  },
  {
   "cell_type": "code",
   "execution_count": null,
   "metadata": {},
   "outputs": [],
   "source": [
    "ind_t = 2\n",
    "ind_t[0]"
   ]
  },
  {
   "cell_type": "code",
   "execution_count": null,
   "metadata": {},
   "outputs": [],
   "source": [
    "X"
   ]
  },
  {
   "cell_type": "code",
   "execution_count": null,
   "metadata": {},
   "outputs": [],
   "source": [
    "X[[ind_t],:] * X[ind_t]"
   ]
  },
  {
   "cell_type": "code",
   "execution_count": null,
   "metadata": {},
   "outputs": [],
   "source": [
    "np(X + X[ind_t])"
   ]
  },
  {
   "cell_type": "code",
   "execution_count": null,
   "metadata": {},
   "outputs": [],
   "source": [
    "np.lib.scimath.sqrt(X + X[ind_t])"
   ]
  },
  {
   "cell_type": "code",
   "execution_count": null,
   "metadata": {},
   "outputs": [],
   "source": [
    "Kt = np.array([[1,2], [5,6], [8,9]])\n",
    "Kt = pd.DataFrame(Kt)\n",
    "Kt.to_csv('/Users/markomiholjcic/Documents/GitHub/ArchetypalAnalysis/data/small.csv', index = False)"
   ]
  },
  {
   "cell_type": "code",
   "execution_count": null,
   "metadata": {},
   "outputs": [],
   "source": [
    "e = np.ones((4, 1))\n",
    "e"
   ]
  },
  {
   "cell_type": "code",
   "execution_count": null,
   "metadata": {},
   "outputs": [],
   "source": [
    "CtXtXC = [2,3]\n",
    "S = [3,4]\n",
    "XCtX = [1,1]\n",
    "SST = 5\n",
    "J = 5\n",
    "g = (np.dot(CtXtXC, S) - XCtX) / (SST / J)\n",
    "g"
   ]
  },
  {
   "cell_type": "code",
   "execution_count": null,
   "metadata": {},
   "outputs": [],
   "source": [
    "a = np.arange(10)\n",
    "a.clip(min=5)"
   ]
  },
  {
   "cell_type": "code",
   "execution_count": null,
   "metadata": {},
   "outputs": [],
   "source": [
    "a = range(2)\n",
    "print(a)"
   ]
  },
  {
   "cell_type": "code",
   "execution_count": null,
   "metadata": {},
   "outputs": [],
   "source": [
    "X = np.matrix([[1, 2, 3],\n",
    "    [4, 5, 6], [7,8,9]])\n",
    "U = np.matrix([[0,1,2],[0,1,2],[0,1,2],[0,1,2],[0,1,2]])\n",
    "print(U)\n",
    "print(X)\n",
    "print(X[:, U])"
   ]
  },
  {
   "cell_type": "code",
   "execution_count": null,
   "metadata": {},
   "outputs": [],
   "source": [
    "X"
   ]
  },
  {
   "cell_type": "code",
   "execution_count": null,
   "metadata": {},
   "outputs": [],
   "source": [
    "U"
   ]
  },
  {
   "cell_type": "code",
   "execution_count": null,
   "metadata": {},
   "outputs": [],
   "source": [
    "U * X"
   ]
  },
  {
   "cell_type": "code",
   "execution_count": null,
   "metadata": {},
   "outputs": [],
   "source": [
    "C = C * np.diag(alphaC)"
   ]
  },
  {
   "cell_type": "code",
   "execution_count": null,
   "metadata": {},
   "outputs": [],
   "source": [
    "X * X"
   ]
  },
  {
   "cell_type": "code",
   "execution_count": null,
   "metadata": {},
   "outputs": [],
   "source": [
    "(np.diag(X * X)).T"
   ]
  },
  {
   "cell_type": "code",
   "execution_count": null,
   "metadata": {},
   "outputs": [],
   "source": [
    "alphaC = np.sum(X, axis = 0).A[0]\n",
    "alphaC"
   ]
  },
  {
   "cell_type": "code",
   "execution_count": null,
   "metadata": {},
   "outputs": [],
   "source": [
    "delta = 0.1\n",
    "delta"
   ]
  },
  {
   "cell_type": "code",
   "execution_count": null,
   "metadata": {},
   "outputs": [],
   "source": [
    "alphaC = np.array([1, 5, 8])\n",
    "print(alphaC)"
   ]
  },
  {
   "cell_type": "code",
   "execution_count": null,
   "metadata": {},
   "outputs": [],
   "source": [
    "alphaC = [10, 11, 8]\n",
    "alphaC"
   ]
  },
  {
   "cell_type": "code",
   "execution_count": null,
   "metadata": {},
   "outputs": [],
   "source": [
    "alphaC[alphaC > (10 - delta)] = (1+delta)\n",
    "alphaC"
   ]
  },
  {
   "cell_type": "code",
   "execution_count": null,
   "metadata": {},
   "outputs": [],
   "source": [
    "alphaC[alphaC > 1 - delta] = (1-0.1)\n",
    "alphaC"
   ]
  },
  {
   "cell_type": "code",
   "execution_count": null,
   "metadata": {},
   "outputs": [],
   "source": [
    "arr = np.arange(5, 30, 2)\n",
    "arr"
   ]
  },
  {
   "cell_type": "code",
   "execution_count": null,
   "metadata": {},
   "outputs": [],
   "source": [
    "newArr = arr[arr < 10]\n",
    "newArr"
   ]
  },
  {
   "cell_type": "code",
   "execution_count": null,
   "metadata": {},
   "outputs": [],
   "source": [
    "arr = arr[arr> 11]\n",
    "arr"
   ]
  },
  {
   "cell_type": "code",
   "execution_count": null,
   "metadata": {},
   "outputs": [],
   "source": [
    "arr[arr > 11] = 3\n",
    "arr"
   ]
  },
  {
   "cell_type": "code",
   "execution_count": null,
   "metadata": {},
   "outputs": [],
   "source": [
    "C = np.ones((5, 3))*2\n",
    "alpha = np.ones((1,3))*5\n",
    "print(C)\n",
    "print(alpha)"
   ]
  },
  {
   "cell_type": "code",
   "execution_count": null,
   "metadata": {},
   "outputs": [],
   "source": [
    "C = C * np.diag(alphaC)"
   ]
  },
  {
   "cell_type": "code",
   "execution_count": null,
   "metadata": {},
   "outputs": [],
   "source": [
    "np.diag(1 / alphaC)"
   ]
  },
  {
   "cell_type": "code",
   "execution_count": null,
   "metadata": {},
   "outputs": [],
   "source": [
    "np.dot(X, np.diag(1 / alphaC))"
   ]
  },
  {
   "cell_type": "code",
   "execution_count": null,
   "metadata": {},
   "outputs": [],
   "source": [
    "np.sum(X, axis=0).A[0]"
   ]
  },
  {
   "cell_type": "code",
   "execution_count": null,
   "metadata": {},
   "outputs": [],
   "source": [
    "X[[2,1,0], :]"
   ]
  },
  {
   "cell_type": "code",
   "execution_count": null,
   "metadata": {},
   "outputs": [],
   "source": [
    "X[:, [2,1,0]]"
   ]
  },
  {
   "cell_type": "code",
   "execution_count": null,
   "metadata": {},
   "outputs": [],
   "source": [
    "X*U.T"
   ]
  },
  {
   "cell_type": "code",
   "execution_count": null,
   "metadata": {},
   "outputs": [],
   "source": [
    "np.sum(np.multiply(X[:, U],X[:, U]))"
   ]
  },
  {
   "cell_type": "code",
   "execution_count": null,
   "metadata": {},
   "outputs": [],
   "source": [
    "[int(np.ceil(len(U) * np.random.rand()))]"
   ]
  },
  {
   "cell_type": "code",
   "execution_count": null,
   "metadata": {},
   "outputs": [],
   "source": [
    "noc = 3\n",
    "I = [1,2]\n",
    "i = [3]\n",
    "j = 3"
   ]
  },
  {
   "cell_type": "code",
   "execution_count": null,
   "metadata": {},
   "outputs": [],
   "source": [
    "len(I)"
   ]
  },
  {
   "cell_type": "code",
   "execution_count": null,
   "metadata": {},
   "outputs": [],
   "source": [
    "Kt = np.array([[1,2], [5,6], [8,9]])\n",
    "print(Kt)\n",
    "i = [1]\n",
    "[I,J] = Kt.shape\n",
    "print(I)\n",
    "print(J)"
   ]
  },
  {
   "cell_type": "code",
   "execution_count": null,
   "metadata": {},
   "outputs": [],
   "source": [
    "index = np.array(range(J))\n",
    "index[i] = -1\n",
    "index\n",
    "\n",
    "ind_t = i\n",
    "sum_dist = np.zeros((1, J), np.complex128)\n",
    "sum_dist"
   ]
  },
  {
   "cell_type": "code",
   "execution_count": null,
   "metadata": {},
   "outputs": [],
   "source": [
    "np.random.random((noc, len(U)))"
   ]
  },
  {
   "cell_type": "code",
   "execution_count": null,
   "metadata": {},
   "outputs": [],
   "source": [
    "result = Kt**2\n",
    "result"
   ]
  },
  {
   "cell_type": "code",
   "execution_count": null,
   "metadata": {},
   "outputs": [],
   "source": [
    "Kt2 = np.sum(Kt**2, axis=0)\n",
    "print(Kt2)\n"
   ]
  },
  {
   "cell_type": "code",
   "execution_count": null,
   "metadata": {},
   "outputs": [],
   "source": [
    "Kq = np.dot(Kt[:, i[0]], Kt)\n",
    "Kq"
   ]
  },
  {
   "cell_type": "code",
   "execution_count": null,
   "metadata": {},
   "outputs": [],
   "source": [
    "np.lib.scimath.sqrt(Kt2 - 2 * Kq + Kt2[i[0]])"
   ]
  },
  {
   "cell_type": "code",
   "execution_count": null,
   "metadata": {},
   "outputs": [],
   "source": [
    "sum_dist -= np.lib.scimath.sqrt(Kt2 - 2 * Kq + Kt2[i[0]])\n",
    "sum_dist"
   ]
  },
  {
   "cell_type": "code",
   "execution_count": null,
   "metadata": {},
   "outputs": [],
   "source": [
    "index[i[0]] = i[0]\n",
    "index"
   ]
  },
  {
   "cell_type": "code",
   "execution_count": null,
   "metadata": {},
   "outputs": [],
   "source": [
    "i = i[1:]\n",
    "i"
   ]
  },
  {
   "cell_type": "code",
   "execution_count": null,
   "metadata": {},
   "outputs": [],
   "source": [
    "index"
   ]
  },
  {
   "cell_type": "code",
   "execution_count": null,
   "metadata": {},
   "outputs": [],
   "source": [
    "t = np.where(index != 3)[0]\n",
    "t"
   ]
  },
  {
   "cell_type": "code",
   "execution_count": null,
   "metadata": {},
   "outputs": [],
   "source": [
    "Kt[:, ind_t].T"
   ]
  },
  {
   "cell_type": "code",
   "execution_count": null,
   "metadata": {},
   "outputs": [],
   "source": [
    "Kq = np.dot(Kt[:, ind_t].T, Kt)\n",
    "Kq"
   ]
  },
  {
   "cell_type": "code",
   "execution_count": null,
   "metadata": {},
   "outputs": [],
   "source": [
    "np.dot(np.ones((noc, 1)), np.mat(np.sum(S, axis=0)))"
   ]
  },
  {
   "cell_type": "code",
   "execution_count": null,
   "metadata": {},
   "outputs": [],
   "source": [
    "np.ones((noc, 1))"
   ]
  },
  {
   "cell_type": "code",
   "execution_count": null,
   "metadata": {},
   "outputs": [],
   "source": [
    "np.sum(S, axis=0)"
   ]
  },
  {
   "cell_type": "code",
   "execution_count": null,
   "metadata": {},
   "outputs": [],
   "source": [
    "np.mat(np.sum(S, axis=0))"
   ]
  },
  {
   "cell_type": "code",
   "execution_count": null,
   "metadata": {},
   "outputs": [],
   "source": [
    "ind"
   ]
  },
  {
   "cell_type": "code",
   "execution_count": null,
   "metadata": {},
   "outputs": [],
   "source": [
    "S"
   ]
  },
  {
   "cell_type": "code",
   "execution_count": null,
   "metadata": {},
   "outputs": [],
   "source": [
    "np.sum(S, axis=0)"
   ]
  },
  {
   "cell_type": "code",
   "execution_count": null,
   "metadata": {},
   "outputs": [],
   "source": [
    "np.sum(S, axis=1)"
   ]
  },
  {
   "cell_type": "code",
   "execution_count": null,
   "metadata": {},
   "outputs": [],
   "source": [
    "l = [1,9,3,4,5,6]\n",
    "max(zip(range(len(l)),l), key = lambda x:x[1])"
   ]
  },
  {
   "cell_type": "code",
   "execution_count": null,
   "metadata": {},
   "outputs": [],
   "source": [
    "sum_dist"
   ]
  },
  {
   "cell_type": "code",
   "execution_count": null,
   "metadata": {},
   "outputs": [],
   "source": [
    "index"
   ]
  },
  {
   "cell_type": "code",
   "execution_count": null,
   "metadata": {},
   "outputs": [],
   "source": [
    "t = np.where(index != -1)[0]\n",
    "t"
   ]
  },
  {
   "cell_type": "code",
   "execution_count": null,
   "metadata": {},
   "outputs": [],
   "source": [
    "sum_dist = np.zeros((1,5), np.complex128)\n",
    "sum_dist[0][0] += 2\n",
    "sum_dist[0][4] += 5\n",
    "\n",
    "print(sum_dist)\n",
    "sum_dist[:,[2,3,4]][0].real\n"
   ]
  },
  {
   "cell_type": "code",
   "execution_count": null,
   "metadata": {},
   "outputs": [],
   "source": [
    "index = np.array([0,2,-1,4,5])"
   ]
  },
  {
   "cell_type": "code",
   "execution_count": null,
   "metadata": {},
   "outputs": [],
   "source": [
    "i = 2\n",
    "i"
   ]
  },
  {
   "cell_type": "code",
   "execution_count": null,
   "metadata": {},
   "outputs": [],
   "source": [
    "t = np.where(index != -1)[0]"
   ]
  },
  {
   "cell_type": "code",
   "execution_count": null,
   "metadata": {},
   "outputs": [],
   "source": [
    "sum_dist"
   ]
  },
  {
   "cell_type": "code",
   "execution_count": null,
   "metadata": {},
   "outputs": [],
   "source": [
    "max(sum_dist[:,[0,1,3,4]][0].real)"
   ]
  },
  {
   "cell_type": "code",
   "execution_count": null,
   "metadata": {},
   "outputs": [],
   "source": [
    "vals"
   ]
  },
  {
   "cell_type": "code",
   "execution_count": null,
   "metadata": {},
   "outputs": [],
   "source": [
    "print(pd.__version__)"
   ]
  },
  {
   "cell_type": "code",
   "execution_count": null,
   "metadata": {},
   "outputs": [],
   "source": [
    "from scipy.sparse import csr_matrix"
   ]
  },
  {
   "cell_type": "code",
   "execution_count": null,
   "metadata": {},
   "outputs": [],
   "source": [
    "j = [0,1,2]\n",
    "np.diag(j)"
   ]
  },
  {
   "cell_type": "code",
   "execution_count": null,
   "metadata": {},
   "outputs": [],
   "source": [
    "i = [1,2,0]"
   ]
  },
  {
   "cell_type": "code",
   "execution_count": null,
   "metadata": {},
   "outputs": [],
   "source": [
    "csr_matrix((np.ones(len(i)), (i, j)), shape=(5, 3)).todense()"
   ]
  },
  {
   "cell_type": "code",
   "execution_count": null,
   "metadata": {},
   "outputs": [],
   "source": [
    "U = np.matrix([[0,1,2],[2,3,4]])\n",
    "U.A[1]"
   ]
  },
  {
   "cell_type": "code",
   "execution_count": null,
   "metadata": {},
   "outputs": [],
   "source": [
    "np.log(np.random.random((3, len(U))))"
   ]
  },
  {
   "cell_type": "code",
   "execution_count": null,
   "metadata": {},
   "outputs": [],
   "source": [
    "X = np.ones((3, 5))*2\n",
    "S = np.ones((3, 5))*8\n",
    "g = S*X\n",
    "1/g"
   ]
  },
  {
   "cell_type": "code",
   "execution_count": null,
   "metadata": {},
   "outputs": [],
   "source": [
    "r = np.sum(g,axis = 0)\n",
    "print(r)\n",
    "r.shape"
   ]
  },
  {
   "cell_type": "code",
   "execution_count": null,
   "metadata": {},
   "outputs": [],
   "source": [
    "np.sum(XCtX.A * S.A)"
   ]
  },
  {
   "cell_type": "code",
   "execution_count": null,
   "metadata": {},
   "outputs": [],
   "source": [
    "e = np.ones((5, 1))\n",
    "e is array"
   ]
  },
  {
   "cell_type": "code",
   "execution_count": null,
   "metadata": {},
   "outputs": [],
   "source": [
    "r = np.sum(g * g, axis=0)\n",
    "r.shape"
   ]
  },
  {
   "cell_type": "code",
   "execution_count": null,
   "metadata": {},
   "outputs": [],
   "source": [
    "e * np.sum(g * g, axis=0)"
   ]
  },
  {
   "cell_type": "code",
   "execution_count": null,
   "metadata": {},
   "outputs": [],
   "source": [
    "S[0][0] = 0\n",
    "S[1][2] =0\n",
    "S[2][3] = 1\n",
    "S"
   ]
  },
  {
   "cell_type": "code",
   "execution_count": null,
   "metadata": {},
   "outputs": [],
   "source": [
    "np.sum(S, axis=1)"
   ]
  },
  {
   "cell_type": "code",
   "execution_count": null,
   "metadata": {},
   "outputs": [],
   "source": [
    "sorted(enumerate(np.sum(S, axis=1)), key=lambda x: x[0], reverse=1)"
   ]
  },
  {
   "cell_type": "code",
   "execution_count": null,
   "metadata": {},
   "outputs": [],
   "source": [
    "ind, vals = zip(\n",
    "        *sorted(enumerate(np.sum(S, axis=1)), key=lambda x: x[0], reverse=1)\n",
    "    )"
   ]
  },
  {
   "cell_type": "code",
   "execution_count": null,
   "metadata": {},
   "outputs": [],
   "source": [
    "ind"
   ]
  },
  {
   "cell_type": "code",
   "execution_count": null,
   "metadata": {},
   "outputs": [],
   "source": [
    "vals"
   ]
  },
  {
   "cell_type": "code",
   "execution_count": null,
   "metadata": {},
   "outputs": [],
   "source": []
  },
  {
   "cell_type": "code",
   "execution_count": null,
   "metadata": {},
   "outputs": [],
   "source": [
    "dec6_wo_st = dec6[['positive','negative','totalTestResults','recovered', 'death']]\n",
    "dec6_wo_st = dec6_wo_st.to_numpy()\n",
    "dec6_wo_st"
   ]
  },
  {
   "cell_type": "code",
   "execution_count": 5,
   "metadata": {},
   "outputs": [],
   "source": [
    "XC, S, C, SSE, varexpl = PCHA(dec6_wo_st, noc=3, I = None, delta=0.1)"
   ]
  },
  {
   "cell_type": "code",
   "execution_count": 6,
   "metadata": {},
   "outputs": [
    {
     "data": {
      "text/plain": [
       "matrix([[3.62547274e+03, 1.07775608e+06, 1.04205396e+06],\n",
       "        [8.54697280e+04, 1.64501650e+06, 1.42112621e+06],\n",
       "        [7.54784891e+04, 1.76312050e+06, 1.61497740e+06],\n",
       "        [3.14652900e+04, 2.37046302e+06, 2.01881307e+06],\n",
       "        [8.28697659e+03, 3.47809970e+06, 1.60882963e+06],\n",
       "        [7.45418651e+03, 3.42203515e+06, 3.29437676e+06],\n",
       "        [8.61613603e+03, 7.34619391e+05, 7.11495592e+05],\n",
       "        [9.74864628e+03, 7.78284004e+05, 4.00853778e+05],\n",
       "        [3.06035609e+03, 8.65735133e+04, 7.95709027e+04],\n",
       "        [6.06248481e+03, 7.01762910e+05, 2.95152778e+05],\n",
       "        [8.02376885e+04, 1.09857354e+06, 8.85199763e+05],\n",
       "        [2.18117823e+04, 4.90380497e+05, 3.98027520e+05],\n",
       "        [1.14265640e+05, 4.57713271e+06, 1.92826391e+06],\n",
       "        [2.69310201e+03, 8.45174223e+05, 6.76891653e+05],\n",
       "        [1.60024147e+04, 2.73195753e+06, 2.56853949e+06],\n",
       "        [1.03940040e+05, 3.60801993e+06, 3.35695529e+06],\n",
       "        [8.97614901e+04, 8.97008512e+06, 3.25072695e+06],\n",
       "        [6.79958595e+03, 4.68539105e+06, 2.22559390e+06],\n",
       "        [5.11347214e+03, 9.14162642e+05, 9.00830001e+05],\n",
       "        [1.03274180e+05, 6.96493465e+06, 6.53847198e+06],\n",
       "        [1.54864992e+05, 4.43160069e+06, 2.30113529e+06],\n",
       "        [1.53903379e+01, 1.71156711e+04, 1.70099603e+04],\n",
       "        [6.58465805e+04, 1.14730827e+06, 9.82394868e+05],\n",
       "        [2.53101913e+04, 6.88202516e+05, 6.20338422e+05],\n",
       "        [1.59499822e+05, 5.61117803e+06, 5.21627875e+06],\n",
       "        [3.87003173e+04, 1.13200533e+06, 2.74492936e+05],\n",
       "        [3.52381181e+04, 1.45634356e+06, 6.31739774e+05],\n",
       "        [9.98135945e+03, 8.61456977e+05, 4.15975586e+05],\n",
       "        [3.15547150e+04, 6.28670119e+06, 5.91878768e+06],\n",
       "        [1.92516434e+04, 1.64794701e+06, 1.53988574e+06],\n",
       "        [5.73024770e+04, 2.05943141e+07, 1.98888285e+07],\n",
       "        [1.62954150e+05, 6.47559746e+06, 6.00067794e+06],\n",
       "        [9.16834576e+04, 2.22527779e+06, 2.00882708e+06],\n",
       "        [3.43186675e+03, 2.09007479e+06, 2.00561329e+06],\n",
       "        [1.24072088e+05, 3.34909657e+06, 2.92903463e+06],\n",
       "        [2.41112578e+04, 3.62637521e+05, 3.05972031e+05],\n",
       "        [2.66576323e+03, 1.60881851e+06, 4.82922323e+05],\n",
       "        [6.17367180e+04, 2.52814834e+06, 2.29608960e+06],\n",
       "        [3.45059268e+04, 3.39990763e+05, 2.54004556e+05],\n",
       "        [1.81104402e+05, 4.69044203e+06, 4.28992307e+06],\n",
       "        [5.22559488e+05, 1.13607900e+07, 1.01116455e+07],\n",
       "        [7.63650943e+04, 1.92220463e+06, 1.18032140e+06],\n",
       "        [1.46321141e+04, 3.49214028e+06, 3.26881754e+06],\n",
       "        [7.61946658e+02, 2.92924768e+04, 2.76599553e+04],\n",
       "        [1.50333272e+03, 5.83790819e+05, 2.28864727e+05],\n",
       "        [1.75071687e+05, 4.62314945e+06, 2.19672389e+06],\n",
       "        [1.78208845e+04, 1.22334079e+06, 1.16836392e+06],\n",
       "        [1.48370586e+04, 4.17619898e+05, 1.44576288e+05]])"
      ]
     },
     "execution_count": 6,
     "metadata": {},
     "output_type": "execute_result"
    }
   ],
   "source": [
    "XC"
   ]
  },
  {
   "cell_type": "code",
   "execution_count": 7,
   "metadata": {},
   "outputs": [],
   "source": [
    "def furthest_sum(K, noc, i, exclude=[]):\n",
    "    \n",
    "    def max_ind_val(l):\n",
    "        return max(zip(range(len(l)), l), key=lambda x: x[1])\n",
    "    \n",
    "    I, J = K.shape\n",
    "    index = np.array(range(J))\n",
    "    index[exclude] = 0\n",
    "    index[i] = -1\n",
    "    ind_t = i\n",
    "    sum_dist = np.zeros((1, J), np.complex128)\n",
    "\n",
    "    if J > noc * I:\n",
    "        Kt = K\n",
    "        Kt2 = np.sum(Kt**2, axis=0)\n",
    "        for k in range(1, noc + 11):\n",
    "            if k > noc - 1:\n",
    "                Kq = np.dot(Kt[:, i[0]], Kt)\n",
    "                sum_dist -= np.lib.scimath.sqrt(Kt2 - 2 * Kq + Kt2[i[0]])\n",
    "                index[i[0]] = i[0]\n",
    "                i = i[1:]\n",
    "            t = np.where(index != -1)[0]\n",
    "            Kq = np.dot(Kt[:, ind_t].T, Kt)\n",
    "            sum_dist += np.lib.scimath.sqrt(Kt2 - 2 * Kq + Kt2[ind_t])\n",
    "            ind, val = max_ind_val(sum_dist[:, t][0].real)\n",
    "            ind_t = t[ind]\n",
    "            i.append(ind_t)\n",
    "            index[ind_t] = -1\n",
    "    else:\n",
    "        if I != J or np.sum(K - K.T) != 0:  # Generate kernel if K not one\n",
    "            Kt = K\n",
    "            K = np.dot(Kt.T, Kt)\n",
    "            K = np.lib.scimath.sqrt(\n",
    "                repmat(np.diag(K), J, 1) - 2 * K + \\\n",
    "                repmat(np.mat(np.diag(K)).T, 1, J)\n",
    "            )\n",
    "\n",
    "        Kt2 = np.diag(K)  # Horizontal\n",
    "        for k in range(1, noc + 11):\n",
    "            if k > noc - 1:\n",
    "                sum_dist -= np.lib.scimath.sqrt(Kt2 - 2 * K[i[0], :] + Kt2[i[0]])\n",
    "                index[i[0]] = i[0]\n",
    "                i = i[1:]\n",
    "            t = np.where(index != -1)[0]\n",
    "            sum_dist += np.lib.scimath.sqrt(Kt2 - 2 * K[ind_t, :] + Kt2[ind_t])\n",
    "            ind, val = max_ind_val(sum_dist[:, t][0].real)\n",
    "            ind_t = t[ind]\n",
    "            i.append(ind_t)\n",
    "            index[ind_t] = -1\n",
    "\n",
    "    return i\n"
   ]
  },
  {
   "cell_type": "code",
   "execution_count": null,
   "metadata": {},
   "outputs": [],
   "source": [
    "\"\"\"Principal Convex Hull Analysis (PCHA) / Archetypal Analysis.\"\"\"\n",
    "\n",
    "import numpy as np\n",
    "from scipy.sparse import csr_matrix\n",
    "from datetime import datetime as dt\n",
    "import time\n",
    "\n",
    "#from py_pcha.furthest_sum import furthest_sum\n",
    "\n",
    "\n",
    "def PCHAm(X, noc, I=None, U=None, delta=0, verbose=False, conv_crit=1E-6, maxiter=500):\n",
    "    \"\"\"Return archetypes of dataset.\n",
    "    Note: Commonly data is formatted to have shape (examples, dimensions).\n",
    "    This function takes input and returns output of the transposed shape,\n",
    "    (dimensions, examples).\n",
    "    Parameters\n",
    "    ----------\n",
    "    X : numpy.2darray\n",
    "        Data matrix in which to find archetypes\n",
    "    noc : int\n",
    "        Number of archetypes to find\n",
    "    I : 1d-array\n",
    "        Entries of X to use for dictionary in C (optional)\n",
    "    U : 1d-array\n",
    "        Entries of X to model in S (optional)\n",
    "    Output\n",
    "    ------\n",
    "    XC : numpy.2darray\n",
    "        I x noc feature matrix (i.e. XC=X[:,I]*C forming the archetypes)\n",
    "    S : numpy.2darray\n",
    "        noc x length(U) matrix, S>=0 |S_j|_1=1\n",
    "    C : numpy.2darray\n",
    "        noc x length(U) matrix, S>=0 |S_j|_1=1\n",
    "    SSE : float\n",
    "        Sum of Squared Errors\n",
    "    varexlp : float\n",
    "        Percent variation explained by the model\n",
    "    \"\"\"\n",
    "    def S_update(S, XCtX, CtXtXC, muS, SST, SSE, niter):\n",
    "        \"\"\"Update S for one iteration of the algorithm.\"\"\"\n",
    "        noc, J = S.shape\n",
    "        e = np.ones((noc, 1))\n",
    "        #print(e.ndim)\n",
    "        for k in range(niter):\n",
    "            SSE_old = SSE\n",
    "            g = (np.dot(CtXtXC, S) - XCtX) / (SST / J)\n",
    "            #print(np.sum(g.A * S.A, axis=0))\n",
    "            g = g - e * np.sum(g.A * S.A, axis=0)\n",
    "            #print(g)\n",
    "\n",
    "            S_old = S\n",
    "            while True:\n",
    "                S = (S_old - g * muS).clip(min=0)\n",
    "                S = S / np.dot(e, np.sum(S, axis=0))\n",
    "                SSt = S * S.T\n",
    "                SSE = SST - 2 * np.sum(XCtX.A * S.A) + np.sum(CtXtXC.A * SSt.A)\n",
    "                if SSE <= SSE_old * (1 + 1e-9):\n",
    "                    muS = muS * 1.2\n",
    "                    break\n",
    "                else:\n",
    "                    muS = muS / 2\n",
    "\n",
    "        return S, SSE, muS, SSt\n",
    "\n",
    "    def C_update(X, XSt, XC, SSt, C, delta, muC, mualpha, SST, SSE, niter=1):\n",
    "        \"\"\"Update C for one iteration of the algorithm.\"\"\"\n",
    "        J, nos = C.shape\n",
    "\n",
    "        if delta != 0:\n",
    "            alphaC = np.sum(C, axis=0).A[0]\n",
    "            C = np.dot(C, np.diag(1 / alphaC))\n",
    "\n",
    "        e = np.ones((J, 1))\n",
    "        XtXSt = np.dot(X.T, XSt)\n",
    "\n",
    "        for k in range(niter):\n",
    "\n",
    "            # Update C\n",
    "            SSE_old = SSE\n",
    "            print(SSE)\n",
    "            g = (np.dot(X.T, np.dot(XC, SSt)) - XtXSt) / SST\n",
    "\n",
    "            if delta != 0:\n",
    "                g = np.dot(g, np.diag(alphaC))\n",
    "            g = g.A - e * np.sum(g.A * C.A, axis=0)\n",
    "\n",
    "            C_old = C\n",
    "            while True:\n",
    "                C = (C_old - muC * g).clip(min=0)\n",
    "                nC = np.sum(C, axis=0) + np.finfo(float).eps\n",
    "                C = np.dot(C, np.diag(1 / nC.A[0]))\n",
    "\n",
    "                if delta != 0:\n",
    "                    Ct = C * np.diag(alphaC)\n",
    "                else:\n",
    "                    Ct = C\n",
    "\n",
    "                XC = np.dot(X, Ct)\n",
    "                CtXtXC = np.dot(XC.T, XC)\n",
    "                SSE = SST - 2 * np.sum(XC.A * XSt.A) + np.sum(CtXtXC.A * SSt.A)\n",
    "\n",
    "                if SSE <= SSE_old * (1 + 1e-9):\n",
    "                    muC = muC * 1.2\n",
    "                    break\n",
    "                else:\n",
    "                    muC = muC / 2\n",
    "\n",
    "            # Update alphaC\n",
    "            SSE_old = SSE\n",
    "            if delta != 0:\n",
    "                g = (np.diag(CtXtXC * SSt).T / alphaC - np.sum(C.A * XtXSt.A)) / (SST * J)\n",
    "                alphaC_old = alphaC\n",
    "                while True:\n",
    "                    alphaC = alphaC_old - mualpha * g\n",
    "                    alphaC[alphaC < 1 - delta] = 1 - delta\n",
    "                    alphaC[alphaC > 1 + delta] = 1 + delta\n",
    "\n",
    "                    XCt = np.dot(XC, np.diag(alphaC / alphaC_old))\n",
    "                    CtXtXC = np.dot(XCt.T, XCt)\n",
    "                    SSE = SST - 2 * np.sum(XCt.A * XSt.A) + np.sum(CtXtXC.A * SSt.A)\n",
    "\n",
    "                    if SSE <= SSE_old * (1 + 1e-9):\n",
    "                        mualpha = mualpha * 1.2\n",
    "                        XC = XCt\n",
    "                        break\n",
    "                    else:\n",
    "                        mualpha = mualpha / 2\n",
    "\n",
    "        if delta != 0:\n",
    "            C = C * np.diag(alphaC)\n",
    "\n",
    "        return C, SSE, muC, mualpha, CtXtXC, XC\n",
    "\n",
    "    N, M = X.shape\n",
    "    \n",
    "\n",
    "    if I is None:\n",
    "        I = range(M)\n",
    "    if U is None:\n",
    "        U = range(M)\n",
    "\n",
    "    SST = np.sum(X[:, U] * X[:, U])\n",
    "\n",
    "    # Initialize C\n",
    "    try:\n",
    "        i = furthest_sum(X[:, I], noc, [int(np.ceil(len(I) * np.random.rand()))])\n",
    "    except IndexError:\n",
    "        class InitializationException(Exception): pass\n",
    "        raise InitializationException(\"Initialization does not converge. Too few examples in dataset.\")\n",
    "\n",
    "    #print(i)\n",
    "        \n",
    "    j = range(noc)\n",
    "    C = csr_matrix((np.ones(len(i)), (i, j)), shape=(len(I), noc)).todense()\n",
    "    #print(C)\n",
    "    \n",
    "    XC = np.dot(X[:, I], C)\n",
    "    #print(X[:,I])\n",
    "\n",
    "    muS, muC, mualpha = 1, 1, 1\n",
    "\n",
    "    # Initialise S\n",
    "    XCtX = np.dot(XC.T, X[:, U])\n",
    "    CtXtXC = np.dot(XC.T, XC)\n",
    "    S = -np.log(np.random.random((noc, len(U))))\n",
    "    S = S / np.dot(np.ones((noc, 1)), np.mat(np.sum(S, axis=0)))\n",
    "    SSt = np.dot(S, S.T)\n",
    "    SSE = SST - 2 * np.sum(XCtX.A * S.A) + np.sum(CtXtXC.A * SSt.A)\n",
    "    S, SSE, muS, SSt = S_update(S, XCtX, CtXtXC, muS, SST, SSE, 25)\n",
    "\n",
    "    # Set PCHA parameters\n",
    "    iter_ = 0\n",
    "    dSSE = np.inf\n",
    "    t1 = dt.now()\n",
    "    varexpl = (SST - SSE) / SST\n",
    "\n",
    "    if verbose:\n",
    "        print('\\nPrincipal Convex Hull Analysis / Archetypal Analysis')\n",
    "        print('A ' + str(noc) + ' component model will be fitted')\n",
    "        print('To stop algorithm press control C\\n')\n",
    "\n",
    "    dheader = '%10s | %10s | %10s | %10s | %10s | %10s | %10s | %10s' % ('Iteration', 'Expl. var.', 'Cost func.', 'Delta SSEf.', 'muC', 'mualpha', 'muS', ' Time(s)   ')\n",
    "    dline = '-----------+------------+------------+-------------+------------+------------+------------+------------+'\n",
    "\n",
    "    while np.abs(dSSE) >= conv_crit * np.abs(SSE) and iter_ < maxiter and varexpl < 0.9999:\n",
    "        if verbose and iter_ % 100 == 0:\n",
    "            print(dline)\n",
    "            print(dheader)\n",
    "            print(dline)\n",
    "        told = t1\n",
    "        iter_ += 1\n",
    "        SSE_old = SSE\n",
    "\n",
    "        # C (and alpha) update\n",
    "        XSt = np.dot(X[:, U], S.T)\n",
    "        C, SSE, muC, mualpha, CtXtXC, XC = C_update(\n",
    "            X[:, I], XSt, XC, SSt, C, delta, muC, mualpha, SST, SSE, 10\n",
    "        )\n",
    "        #print(C)\n",
    "\n",
    "        # S update\n",
    "        XCtX = np.dot(XC.T, X[:, U])\n",
    "        S, SSE, muS, SSt = S_update(\n",
    "            S, XCtX, CtXtXC, muS, SST, SSE, 10\n",
    "        )\n",
    "\n",
    "        # Evaluate and display iteration\n",
    "        dSSE = SSE_old - SSE\n",
    "        print(dSSE)\n",
    "        t1 = dt.now()\n",
    "        if iter_ % 1 == 0:\n",
    "            time.sleep(0.000001)\n",
    "            varexpl = (SST - SSE) / SST\n",
    "            if verbose:\n",
    "                print('%10.0f | %10.4f | %10.4e | %10.4e | %10.4e | %10.4e | %10.4e | %10.4f \\n' % (iter_, varexpl, SSE, dSSE/np.abs(SSE), muC, mualpha, muS, (t1-told).seconds))\n",
    "\n",
    "    # Display final iteration\n",
    "    varexpl = (SST - SSE) / SST\n",
    "    if verbose:\n",
    "        print(dline)\n",
    "        print(dline)\n",
    "        print('%10.0f | %10.4f | %10.4e | %10.4e | %10.4e | %10.4e | %10.4e | %10.4f \\n' % (iter_, varexpl, SSE, dSSE/np.abs(SSE), muC, mualpha, muS, (t1-told).seconds))\n",
    "\n",
    "    #print(S)\n",
    "    #print(C)\n",
    "    #print(XC)\n",
    "        \n",
    "    # Sort components according to importance\n",
    "    ind, vals = zip(\n",
    "        *sorted(enumerate(np.sum(S, axis=1)), key=lambda x: x[0], reverse=1)\n",
    "    )\n",
    "    S = S[ind, :]\n",
    "    C = C[:, ind]\n",
    "    XC = XC[:, ind]\n",
    "\n",
    "    return XC, S, C, SSE, varexpl"
   ]
  },
  {
   "cell_type": "code",
   "execution_count": 9,
   "metadata": {},
   "outputs": [
    {
     "name": "stdout",
     "output_type": "stream",
     "text": [
      "5424894852539.0\n",
      "5370130220903.5\n",
      "5313150647184.5\n",
      "5247144364941.5\n",
      "5171021251326.75\n",
      "5083838629812.25\n",
      "4984810107357.25\n",
      "4873501144858.0\n",
      "4751320465372.75\n",
      "4646259977230.25\n",
      "1013087594582.75\n",
      "4411807257956.25\n",
      "4237446404335.0\n",
      "4054063439681.0\n",
      "3864494504441.5\n",
      "3672125935448.0\n",
      "3480730093016.5\n",
      "3294254933740.75\n",
      "3116592750570.5\n",
      "2951355350482.0\n",
      "2801676490328.75\n",
      "1952649731572.75\n",
      "2459157526383.5\n",
      "2254248986132.5\n",
      "2087904963014.25\n",
      "1958046106530.5\n",
      "1861750311165.5\n",
      "1794820625128.75\n",
      "1751510002431.75\n",
      "1724855141346.75\n",
      "1707890110874.0\n",
      "1695258619321.5\n",
      "984047171525.25\n",
      "1475110354858.25\n",
      "1378828673945.5\n",
      "1356499193357.0\n",
      "1337070725731.75\n",
      "1320130965392.75\n",
      "1306275898349.0\n",
      "1295841697888.25\n",
      "1288891631593.5\n",
      "1285020596973.5\n",
      "1283772119147.25\n",
      "281361973868.0\n",
      "1193748380990.25\n",
      "1154213475231.25\n",
      "1150979172541.5\n",
      "1149010773296.0\n",
      "1148627787016.5\n",
      "1148627786530.5\n",
      "1148627786515.5\n",
      "1148627786513.25\n",
      "1148627786513.25\n",
      "1148627786516.5\n",
      "64788194570.0\n",
      "1128960186420.25\n",
      "1126964684467.0\n",
      "1124062559446.0\n",
      "1124051578000.25\n",
      "1124050920509.5\n",
      "1124050843578.25\n",
      "1124050661060.0\n",
      "1124050659273.25\n",
      "1124050659135.75\n",
      "1124050659123.0\n",
      "7505501123.0\n",
      "1121454685297.25\n",
      "1121390259409.25\n",
      "1121042434595.25\n",
      "1121040510573.25\n",
      "1121040510292.25\n",
      "1121040510284.5\n",
      "1121040510282.75\n",
      "1121040510283.5\n",
      "1121040510284.75\n",
      "1121040510290.25\n",
      "1208437533.0\n",
      "1120246247764.25\n",
      "1120245883718.75\n",
      "1120244393086.75\n",
      "1120243970725.25\n",
      "1120243099344.5\n",
      "1120242779551.0\n",
      "1120241294973.0\n",
      "1120240900737.5\n",
      "1120240038325.5\n",
      "1120239763549.5\n",
      "326070956.75\n",
      "1119920176807.5\n",
      "1119920120353.75\n",
      "1119918323599.5\n",
      "1119917974393.25\n",
      "1119917019804.25\n",
      "1119916610378.0\n",
      "1119916061160.75\n",
      "1119915645499.25\n",
      "1119914789703.75\n",
      "1119914397624.25\n",
      "167139662.0\n",
      "1119753037145.5\n",
      "1119752729323.5\n",
      "1119751512895.25\n",
      "1119751087614.0\n",
      "1119750422445.5\n",
      "1119750226280.25\n",
      "1119748884196.25\n",
      "1119748486209.25\n",
      "1119747798881.25\n",
      "1119747663149.5\n",
      "89611045.5\n",
      "1119663426100.0\n",
      "1119663017007.75\n",
      "1119662079254.0\n",
      "1119661571961.25\n",
      "1119660991293.5\n",
      "1119660439601.75\n",
      "1119659685756.75\n",
      "1119659435772.5\n",
      "1119657855409.75\n",
      "1119657539461.5\n",
      "50077538.75\n",
      "1119613348561.25\n",
      "1119612870248.5\n",
      "1119612275748.5\n",
      "1119611790094.75\n",
      "1119610987454.5\n",
      "1119610529915.5\n",
      "1119609934468.25\n",
      "1119609519559.5\n",
      "1119608619048.75\n",
      "1119608183561.75\n",
      "28153667.5\n",
      "1119585194893.75\n",
      "1119584880630.25\n",
      "1119583728206.25\n",
      "1119583286237.25\n",
      "1119582650365.25\n",
      "1119582521005.25\n",
      "1119581138989.5\n",
      "1119580728109.75\n",
      "1119580066603.5\n",
      "1119580030392.25\n",
      "18264915.5\n",
      "1119566929978.25\n",
      "1119566535261.25\n",
      "1119565799292.25\n",
      "1119565324254.0\n",
      "1119564830091.25\n",
      "1119564321511.0\n",
      "1119563665443.5\n",
      "1119563012273.0\n",
      "1119562213520.0\n",
      "1119561862253.5\n",
      "12825895.75\n",
      "1119554104082.5\n",
      "1119553611325.5\n",
      "1119553058187.0\n",
      "1119552573912.25\n",
      "1119551874954.0\n",
      "1119551412438.25\n",
      "1119550860509.0\n",
      "1119550346595.0\n",
      "1119549641121.25\n",
      "1119549488155.25\n",
      "9420710.25\n",
      "1119544683372.25\n",
      "1119544550562.75\n",
      "1119543320957.25\n",
      "1119542874120.5\n",
      "1119542281958.0\n",
      "1119542052554.75\n",
      "1119540988695.5\n",
      "1119540574590.0\n",
      "1119539987351.0\n",
      "1119539923022.0\n",
      "7767618.75\n",
      "1119536915753.5\n",
      "1119536527968.5\n",
      "1119535919879.5\n",
      "1119535432194.25\n",
      "1119534994440.25\n",
      "1119534530302.0\n",
      "1119533943128.25\n",
      "1119533303798.5\n",
      "1119532529110.75\n",
      "1119531792526.75\n",
      "7115624.25\n",
      "1119529800129.25\n",
      "1119529330426.25\n",
      "1119528870274.75\n",
      "1119528429844.25\n",
      "1119527824948.0\n",
      "1119527414268.5\n",
      "1119526559198.5\n",
      "1119526354176.75\n",
      "1119525523325.75\n",
      "1119525095583.0\n",
      "5745198.5\n",
      "1119524054930.75\n",
      "1119523678434.25\n",
      "1119523090690.25\n",
      "1119522680262.25\n",
      "1119522196121.25\n",
      "1119521817243.75\n",
      "1119521236726.75\n",
      "1119520847570.5\n",
      "1119520360914.5\n",
      "1119520035189.5\n",
      "4955226.25\n",
      "1119519099704.5\n",
      "1119518728021.75\n",
      "1119518227224.0\n",
      "1119518119240.0\n",
      "1119517178584.5\n",
      "1119516841088.5\n",
      "1119516345540.5\n",
      "1119515924581.75\n",
      "1119515568886.75\n",
      "1119515181753.0\n",
      "4576668.0\n",
      "1119514523036.5\n",
      "1119513972618.75\n",
      "1119513334583.25\n",
      "1119512582098.75\n",
      "1119511700474.5\n",
      "1119510712121.25\n",
      "1119509709028.0\n",
      "1119509500940.5\n",
      "1119508910478.5\n",
      "1119508514239.0\n",
      "6542362.5\n",
      "1119507980674.0\n",
      "1119507635744.25\n",
      "1119507141337.25\n",
      "1119506882633.75\n",
      "1119506168941.5\n",
      "1119506063016.5\n",
      "1119505336866.5\n",
      "1119504970081.75\n",
      "1119504579435.25\n",
      "1119504306865.0\n",
      "4235137.0\n",
      "1119503745537.0\n",
      "1119503403288.0\n",
      "1119503002391.0\n",
      "1119502712118.25\n",
      "1119502242517.75\n",
      "1119501922237.75\n",
      "1119501520554.75\n",
      "1119501252859.75\n",
      "1119500806832.25\n",
      "1119500510471.75\n",
      "3696604.0\n",
      "1119500048933.0\n",
      "1119499965801.25\n",
      "1119499270861.0\n",
      "1119499005726.25\n",
      "1119498598365.5\n",
      "1119498227025.0\n",
      "1119497934642.25\n",
      "1119497622568.0\n",
      "1119497242527.25\n",
      "1119496814566.0\n",
      "3781731.25\n",
      "1119496267201.75\n",
      "1119495671019.25\n",
      "1119494974444.75\n",
      "1119494205008.75\n",
      "1119493462235.75\n",
      "1119493328871.25\n",
      "1119492828815.25\n",
      "1119492481817.0\n",
      "1119492175206.75\n",
      "1119491914656.75\n",
      "4809488.25\n",
      "1119491457713.5\n",
      "1119491288934.25\n",
      "1119490740429.0\n",
      "1119490713475.25\n",
      "1119490081426.75\n",
      "1119489767034.75\n",
      "1119489443057.25\n",
      "1119489249552.25\n",
      "1119488882112.75\n",
      "1119488603817.0\n",
      "3213841.75\n",
      "1119488243871.75\n",
      "1119488030031.0\n",
      "1119487655504.5\n",
      "1119487393616.75\n",
      "1119487064254.0\n",
      "1119486853045.25\n",
      "1119486488989.5\n",
      "1119486246242.5\n",
      "1119485915036.25\n",
      "1119485775429.25\n",
      "2864426.0\n",
      "1119485379445.75\n",
      "1119485172527.25\n",
      "1119484837302.0\n",
      "1119484508472.0\n",
      "1119484268214.75\n",
      "1119484017289.75\n",
      "1119483711241.25\n",
      "1119483371291.25\n",
      "1119482981376.25\n",
      "1119482522346.25\n",
      "3431860.25\n",
      "1119481947585.5\n",
      "1119481340535.0\n",
      "1119480820207.75\n",
      "1119480745479.25\n",
      "1119480318285.5\n",
      "1119480010041.0\n",
      "1119479754373.75\n",
      "1119479554007.0\n",
      "1119479237033.25\n",
      "1119479146936.0\n",
      "3243357.5\n",
      "1119478704228.0\n",
      "1119478348653.75\n",
      "1119478172221.0\n",
      "1119477974087.0\n",
      "1119477749453.75\n",
      "1119477503268.5\n",
      "1119477216254.25\n",
      "1119476875552.75\n",
      "1119476471618.75\n",
      "1119475993914.0\n",
      "3310494.25\n",
      "1119475393733.75\n",
      "1119474721694.0\n",
      "1119474093435.5\n",
      "1119474088676.75\n",
      "1119473715950.75\n",
      "1119473531246.0\n",
      "1119473262731.25\n",
      "1119472997814.75\n",
      "1119472815426.75\n",
      "1119472619151.25\n",
      "3021199.75\n",
      "1119472372534.0\n",
      "1119472123255.0\n",
      "1119471830954.25\n",
      "1119471484850.75\n",
      "1119471076033.0\n",
      "1119470597839.25\n",
      "1119470072665.5\n",
      "1119469883556.5\n",
      "1119469613385.25\n",
      "1119469332500.25\n",
      "3279685.25\n",
      "1119469092848.75\n",
      "1119468928837.0\n",
      "1119468677329.5\n",
      "1119468526402.5\n",
      "1119468299691.0\n",
      "1119468248910.75\n",
      "1119468015697.0\n",
      "1119467763680.0\n",
      "1119467551013.5\n",
      "1119467435882.0\n",
      "1915280.25\n",
      "1119467177568.5\n",
      "1119466990564.25\n",
      "1119466788039.5\n",
      "1119466596580.75\n",
      "1119466361267.0\n",
      "1119466101354.0\n",
      "1119465804009.5\n",
      "1119465472515.75\n",
      "1119465200602.0\n",
      "1119465034598.25\n",
      "2378129.75\n",
      "1119464799438.75\n",
      "1119464676681.5\n",
      "1119464446773.75\n",
      "1119464290476.0\n",
      "1119464083880.0\n",
      "1119463917347.0\n",
      "1119463681809.75\n",
      "1119463563982.5\n",
      "1119463387030.0\n",
      "1119463100839.0\n",
      "1869785.25\n",
      "1119462929653.5\n",
      "1119462780017.25\n",
      "1119462584858.25\n",
      "1119462376129.75\n",
      "1119462151183.75\n",
      "1119461889576.25\n",
      "1119461589512.5\n",
      "1119461290678.75\n",
      "1119461093743.75\n",
      "1119460788448.0\n",
      "2277417.75\n",
      "1119460652235.75\n",
      "1119460531639.25\n",
      "1119460393597.75\n",
      "1119460252489.0\n",
      "1119460091973.0\n",
      "1119459901290.0\n",
      "1119459674991.75\n",
      "1119459407010.5\n",
      "1119459090554.75\n",
      "1119458718522.25\n",
      "2393653.25\n",
      "1119458258582.5\n",
      "1119457869833.5\n",
      "1119457430275.0\n",
      "1119457256115.5\n",
      "1119457077052.75\n",
      "1119456899207.75\n",
      "1119456790586.0\n",
      "1119456672884.75\n",
      "1119456563941.0\n",
      "1119456434361.0\n",
      "2000274.5\n",
      "1119456258308.0\n",
      "1119456069489.25\n",
      "1119455845780.25\n",
      "1119455581433.0\n",
      "1119455270263.25\n",
      "1119454908126.75\n",
      "1119454536056.75\n",
      "1119454437852.5\n",
      "1119454277921.25\n",
      "1119454169186.75\n",
      "2262368.25\n",
      "1119453995939.75\n",
      "1119453848176.0\n",
      "1119453690479.0\n",
      "1119453507332.5\n",
      "1119453297496.5\n",
      "1119453089546.0\n",
      "1119453050576.0\n",
      "1119452761086.0\n",
      "1119452681604.25\n",
      "1119452592245.75\n",
      "1525200.0\n",
      "1119452470739.75\n",
      "1119452370079.0\n",
      "1119452258016.75\n",
      "1119452124941.75\n",
      "1119451967013.0\n",
      "1119451779988.5\n",
      "1119451559141.5\n",
      "1119451299607.0\n",
      "1119451001093.5\n",
      "1119450756647.5\n",
      "1952718.0\n",
      "1119450518021.75\n",
      "1119450367243.25\n",
      "1119450219785.5\n",
      "1119450060292.0\n",
      "1119449974340.75\n",
      "1119449883497.0\n",
      "1119449806502.75\n",
      "1119449715036.75\n",
      "1119449606240.5\n",
      "1119449477057.0\n",
      "1206441.0\n",
      "1119449311580.75\n",
      "1119449125403.75\n",
      "1119448906146.0\n",
      "1119448649976.5\n",
      "1119448370492.25\n",
      "1119448255508.25\n",
      "1119448114137.25\n",
      "1119448085060.0\n",
      "1119447903109.25\n",
      "1119447796425.0\n",
      "1645985.25\n",
      "1119447665595.5\n",
      "1119447540500.5\n",
      "1119447406219.75\n",
      "1119447326303.0\n",
      "1119447319820.5\n",
      "1119447041517.25\n",
      "1119446978635.25\n",
      "1119446908930.0\n",
      "1119446830769.25\n",
      "1119446761603.25\n",
      "992359.0\n"
     ]
    }
   ],
   "source": [
    "XC2, S2, C2, SSE2, varexpl2 = PCHAm(dec6_wo_st, noc=3, I = None, delta=0)"
   ]
  },
  {
   "cell_type": "code",
   "execution_count": 28,
   "metadata": {},
   "outputs": [
    {
     "data": {
      "text/plain": [
       "0.9993767918374076"
      ]
     },
     "execution_count": 28,
     "metadata": {},
     "output_type": "execute_result"
    }
   ],
   "source": [
    "varexpl2"
   ]
  },
  {
   "cell_type": "code",
   "execution_count": null,
   "metadata": {},
   "outputs": [],
   "source": [
    "ans = 0\n",
    "\n",
    "for i in range(len(XC)):\n",
    "    a = XC[i] - XC2[i]\n",
    "    ans = ans + a\n",
    "    \n",
    "print(ans)"
   ]
  },
  {
   "cell_type": "code",
   "execution_count": null,
   "metadata": {},
   "outputs": [],
   "source": [
    "ans = 0\n",
    "\n",
    "for i in range(len(S)):\n",
    "    a = S[i] - S2[i]\n",
    "    ans = ans + a\n",
    "    \n",
    "print(ans)"
   ]
  },
  {
   "cell_type": "code",
   "execution_count": null,
   "metadata": {},
   "outputs": [],
   "source": [
    "ans = 0\n",
    "\n",
    "for i in range(len(C)):\n",
    "    a = C[i] - C2[i]\n",
    "    ans = ans + a\n",
    "    \n",
    "print(ans)"
   ]
  }
 ],
 "metadata": {
  "kernelspec": {
   "display_name": "Python 3",
   "language": "python",
   "name": "python3"
  },
  "language_info": {
   "codemirror_mode": {
    "name": "ipython",
    "version": 3
   },
   "file_extension": ".py",
   "mimetype": "text/x-python",
   "name": "python",
   "nbconvert_exporter": "python",
   "pygments_lexer": "ipython3",
   "version": "3.8.3"
  }
 },
 "nbformat": 4,
 "nbformat_minor": 4
}
