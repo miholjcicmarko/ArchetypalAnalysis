{
 "cells": [
  {
   "cell_type": "code",
   "execution_count": 3,
   "metadata": {},
   "outputs": [],
   "source": [
    "import pandas as pd\n",
    "import numpy as np\n",
    "#import py_pcha\n",
    "#from py_pcha import PCHA\n",
    "import matplotlib.pyplot as plt\n",
    "from numpy.matlib import repmat"
   ]
  },
  {
   "cell_type": "code",
   "execution_count": null,
   "metadata": {},
   "outputs": [],
   "source": [
    "data=pd.read_csv(\"/Users/markomiholjcic/Documents/GitHub/ArchetypalAnalysis/data/us_states_covid19_daily.csv\")\n",
    "data"
   ]
  },
  {
   "cell_type": "code",
   "execution_count": null,
   "metadata": {},
   "outputs": [],
   "source": [
    "data=pd.read_csv(\"/Users/u0984549/Documents/GitHub/ArchetypalAnalysis/data/us_states_covid19_daily.csv\")\n",
    "data"
   ]
  },
  {
   "cell_type": "markdown",
   "metadata": {},
   "source": [
    "Data for 50 states, DC, and 5 territories on December 6, 2020. Select states and territories with missing values were removed. "
   ]
  },
  {
   "cell_type": "code",
   "execution_count": null,
   "metadata": {},
   "outputs": [],
   "source": [
    "dec6 = data.loc[data['date'] == 20201206]\n",
    "dec6 = dec6[['positive','negative','totalTestResults','recovered', 'death']]\n",
    "dec6 = dec6.dropna()\n",
    "dec6"
   ]
  },
  {
   "cell_type": "code",
   "execution_count": null,
   "metadata": {},
   "outputs": [],
   "source": [
    "dec6.to_csv('/Users/markomiholjcic/Documents/GitHub/ArchetypalAnalysis/data/COVID19.csv', index = False)"
   ]
  },
  {
   "cell_type": "code",
   "execution_count": null,
   "metadata": {},
   "outputs": [],
   "source": [
    "dec6.to_csv('/Users/u0984549/Documents/GitHub/ArchetypalAnalysis/data/COVID19.csv', index = False)"
   ]
  },
  {
   "cell_type": "code",
   "execution_count": 13,
   "metadata": {},
   "outputs": [
    {
     "name": "stdout",
     "output_type": "stream",
     "text": [
      "[[2 3 4 5]\n",
      " [5 6 7 8]\n",
      " [1 4 5 6]]\n",
      "[[2 5 1]\n",
      " [3 6 4]\n",
      " [4 7 5]\n",
      " [5 8 6]]\n"
     ]
    }
   ],
   "source": [
    "U = np.array([1,2,3])\n",
    "X = np.array([[2,3,4,5], [5,6,7,8], [1,4,5,6]])\n",
    "\n",
    "print(X)\n",
    "print(X.T)\n",
    "\n",
    "#(X[:, U] * X[:, U])"
   ]
  },
  {
   "cell_type": "code",
   "execution_count": 14,
   "metadata": {},
   "outputs": [
    {
     "data": {
      "text/plain": [
       "array([[ 54,  96,  64],\n",
       "       [ 96, 174, 112],\n",
       "       [ 64, 112,  78]])"
      ]
     },
     "execution_count": 14,
     "metadata": {},
     "output_type": "execute_result"
    }
   ],
   "source": [
    "np.dot(X, X.T)"
   ]
  },
  {
   "cell_type": "code",
   "execution_count": 19,
   "metadata": {},
   "outputs": [
    {
     "data": {
      "text/plain": [
       "matrix([[2, 2, 2, 2, 2],\n",
       "        [6, 6, 6, 6, 6],\n",
       "        [5, 5, 5, 5, 5]])"
      ]
     },
     "execution_count": 19,
     "metadata": {},
     "output_type": "execute_result"
    }
   ],
   "source": [
    "repmat(np.mat(np.diag(X)).T, 1, 5)"
   ]
  },
  {
   "cell_type": "code",
   "execution_count": 25,
   "metadata": {},
   "outputs": [
    {
     "name": "stdout",
     "output_type": "stream",
     "text": [
      "[2 6 5]\n"
     ]
    },
    {
     "data": {
      "text/plain": [
       "array([1, 2])"
      ]
     },
     "execution_count": 25,
     "metadata": {},
     "output_type": "execute_result"
    }
   ],
   "source": [
    "t = np.diag(X)\n",
    "print(t)\n",
    "np.where(t != 2)[0]"
   ]
  },
  {
   "cell_type": "code",
   "execution_count": 21,
   "metadata": {},
   "outputs": [
    {
     "data": {
      "text/plain": [
       "array([[2, 6, 5],\n",
       "       [2, 6, 5],\n",
       "       [2, 6, 5],\n",
       "       [2, 6, 5],\n",
       "       [2, 6, 5]])"
      ]
     },
     "execution_count": 21,
     "metadata": {},
     "output_type": "execute_result"
    }
   ],
   "source": [
    "repmat(np.diag(X), 5, 1)"
   ]
  },
  {
   "cell_type": "code",
   "execution_count": null,
   "metadata": {},
   "outputs": [],
   "source": [
    "X[:,U]*X[:,U]"
   ]
  },
  {
   "cell_type": "code",
   "execution_count": 27,
   "metadata": {},
   "outputs": [],
   "source": [
    "ind_t = 2"
   ]
  },
  {
   "cell_type": "code",
   "execution_count": 30,
   "metadata": {},
   "outputs": [
    {
     "data": {
      "text/plain": [
       "array([[2, 3, 4, 5],\n",
       "       [5, 6, 7, 8],\n",
       "       [1, 4, 5, 6]])"
      ]
     },
     "execution_count": 30,
     "metadata": {},
     "output_type": "execute_result"
    }
   ],
   "source": [
    "X"
   ]
  },
  {
   "cell_type": "code",
   "execution_count": 42,
   "metadata": {},
   "outputs": [
    {
     "data": {
      "text/plain": [
       "array([[ 1, 16, 25, 36]])"
      ]
     },
     "execution_count": 42,
     "metadata": {},
     "output_type": "execute_result"
    }
   ],
   "source": [
    "X[[ind_t],:] * X[ind_t]"
   ]
  },
  {
   "cell_type": "code",
   "execution_count": 40,
   "metadata": {},
   "outputs": [
    {
     "ename": "TypeError",
     "evalue": "'module' object is not callable",
     "output_type": "error",
     "traceback": [
      "\u001b[0;31m---------------------------------------------------------------------------\u001b[0m",
      "\u001b[0;31mTypeError\u001b[0m                                 Traceback (most recent call last)",
      "\u001b[0;32m<ipython-input-40-4e937610bcdf>\u001b[0m in \u001b[0;36m<module>\u001b[0;34m()\u001b[0m\n\u001b[0;32m----> 1\u001b[0;31m \u001b[0mnp\u001b[0m\u001b[0;34m(\u001b[0m\u001b[0mX\u001b[0m \u001b[0;34m+\u001b[0m \u001b[0mX\u001b[0m\u001b[0;34m[\u001b[0m\u001b[0mind_t\u001b[0m\u001b[0;34m]\u001b[0m\u001b[0;34m)\u001b[0m\u001b[0;34m\u001b[0m\u001b[0m\n\u001b[0m",
      "\u001b[0;31mTypeError\u001b[0m: 'module' object is not callable"
     ]
    }
   ],
   "source": [
    "np(X + X[ind_t])"
   ]
  },
  {
   "cell_type": "code",
   "execution_count": 28,
   "metadata": {},
   "outputs": [
    {
     "data": {
      "text/plain": [
       "array([[1.73205081, 2.64575131, 3.        , 3.31662479],\n",
       "       [2.44948974, 3.16227766, 3.46410162, 3.74165739],\n",
       "       [1.41421356, 2.82842712, 3.16227766, 3.46410162]])"
      ]
     },
     "execution_count": 28,
     "metadata": {},
     "output_type": "execute_result"
    }
   ],
   "source": [
    "np.lib.scimath.sqrt(X + X[ind_t])"
   ]
  },
  {
   "cell_type": "code",
   "execution_count": null,
   "metadata": {},
   "outputs": [],
   "source": [
    "Kt = np.array([[1,2], [5,6], [8,9]])\n",
    "Kt = pd.DataFrame(Kt)\n",
    "Kt.to_csv('/Users/markomiholjcic/Documents/GitHub/ArchetypalAnalysis/data/small.csv', index = False)"
   ]
  },
  {
   "cell_type": "code",
   "execution_count": null,
   "metadata": {},
   "outputs": [],
   "source": [
    "e = np.ones((4, 1))\n",
    "e"
   ]
  },
  {
   "cell_type": "code",
   "execution_count": null,
   "metadata": {},
   "outputs": [],
   "source": [
    "CtXtXC = [2,3]\n",
    "S = [3,4]\n",
    "XCtX = [1,1]\n",
    "SST = 5\n",
    "J = 5\n",
    "g = (np.dot(CtXtXC, S) - XCtX) / (SST / J)\n",
    "g"
   ]
  },
  {
   "cell_type": "code",
   "execution_count": null,
   "metadata": {},
   "outputs": [],
   "source": [
    "a = np.arange(10)\n",
    "a.clip(min=5)"
   ]
  },
  {
   "cell_type": "code",
   "execution_count": null,
   "metadata": {},
   "outputs": [],
   "source": [
    "a = range(2)\n",
    "print(a)"
   ]
  },
  {
   "cell_type": "code",
   "execution_count": null,
   "metadata": {},
   "outputs": [],
   "source": [
    "X = np.matrix([[1, 2, 3],\n",
    "    [4, 5, 6], [7,8,9]])\n",
    "U = [0,1,2]\n",
    "print(U)\n",
    "print(X)\n",
    "print(X[:, U])"
   ]
  },
  {
   "cell_type": "code",
   "execution_count": null,
   "metadata": {},
   "outputs": [],
   "source": [
    "np.sum(np.multiply(X[:, U],X[:, U]))"
   ]
  },
  {
   "cell_type": "code",
   "execution_count": null,
   "metadata": {},
   "outputs": [],
   "source": [
    "[int(np.ceil(len(U) * np.random.rand()))]"
   ]
  },
  {
   "cell_type": "code",
   "execution_count": null,
   "metadata": {},
   "outputs": [],
   "source": [
    "noc = 3\n",
    "I = [1,2]\n",
    "i = [3]\n",
    "j = 3"
   ]
  },
  {
   "cell_type": "code",
   "execution_count": null,
   "metadata": {},
   "outputs": [],
   "source": [
    "len(I)"
   ]
  },
  {
   "cell_type": "code",
   "execution_count": null,
   "metadata": {},
   "outputs": [],
   "source": [
    "Kt = np.array([[1,2], [5,6], [8,9]])\n",
    "print(Kt)\n",
    "i = [1]\n",
    "[I,J] = Kt.shape\n",
    "print(I)\n",
    "print(J)"
   ]
  },
  {
   "cell_type": "code",
   "execution_count": null,
   "metadata": {},
   "outputs": [],
   "source": [
    "index = np.array(range(J))\n",
    "index[i] = -1\n",
    "index\n",
    "\n",
    "ind_t = i\n",
    "sum_dist = np.zeros((1, J), np.complex128)\n",
    "sum_dist"
   ]
  },
  {
   "cell_type": "code",
   "execution_count": null,
   "metadata": {},
   "outputs": [],
   "source": [
    "np.random.random((noc, len(U)))"
   ]
  },
  {
   "cell_type": "code",
   "execution_count": null,
   "metadata": {},
   "outputs": [],
   "source": [
    "result = Kt**2\n",
    "result"
   ]
  },
  {
   "cell_type": "code",
   "execution_count": null,
   "metadata": {},
   "outputs": [],
   "source": [
    "Kt2 = np.sum(Kt**2, axis=0)\n",
    "print(Kt2)\n"
   ]
  },
  {
   "cell_type": "code",
   "execution_count": null,
   "metadata": {},
   "outputs": [],
   "source": [
    "Kq = np.dot(Kt[:, i[0]], Kt)\n",
    "Kq"
   ]
  },
  {
   "cell_type": "code",
   "execution_count": null,
   "metadata": {},
   "outputs": [],
   "source": [
    "np.lib.scimath.sqrt(Kt2 - 2 * Kq + Kt2[i[0]])"
   ]
  },
  {
   "cell_type": "code",
   "execution_count": null,
   "metadata": {},
   "outputs": [],
   "source": [
    "sum_dist -= np.lib.scimath.sqrt(Kt2 - 2 * Kq + Kt2[i[0]])\n",
    "sum_dist"
   ]
  },
  {
   "cell_type": "code",
   "execution_count": null,
   "metadata": {},
   "outputs": [],
   "source": [
    "index[i[0]] = i[0]\n",
    "index"
   ]
  },
  {
   "cell_type": "code",
   "execution_count": null,
   "metadata": {},
   "outputs": [],
   "source": [
    "i = i[1:]\n",
    "i"
   ]
  },
  {
   "cell_type": "code",
   "execution_count": null,
   "metadata": {},
   "outputs": [],
   "source": [
    "index"
   ]
  },
  {
   "cell_type": "code",
   "execution_count": null,
   "metadata": {},
   "outputs": [],
   "source": [
    "t = np.where(index != 3)[0]\n",
    "t"
   ]
  },
  {
   "cell_type": "code",
   "execution_count": null,
   "metadata": {},
   "outputs": [],
   "source": [
    "Kt[:, ind_t].T"
   ]
  },
  {
   "cell_type": "code",
   "execution_count": null,
   "metadata": {},
   "outputs": [],
   "source": [
    "Kq = np.dot(Kt[:, ind_t].T, Kt)\n",
    "Kq"
   ]
  },
  {
   "cell_type": "code",
   "execution_count": null,
   "metadata": {},
   "outputs": [],
   "source": [
    "np.dot(np.ones((noc, 1)), np.mat(np.sum(S, axis=0)))"
   ]
  },
  {
   "cell_type": "code",
   "execution_count": null,
   "metadata": {},
   "outputs": [],
   "source": [
    "np.ones((noc, 1))"
   ]
  },
  {
   "cell_type": "code",
   "execution_count": null,
   "metadata": {},
   "outputs": [],
   "source": [
    "np.sum(S, axis=0)"
   ]
  },
  {
   "cell_type": "code",
   "execution_count": null,
   "metadata": {},
   "outputs": [],
   "source": [
    "np.mat(np.sum(S, axis=0))"
   ]
  },
  {
   "cell_type": "code",
   "execution_count": null,
   "metadata": {},
   "outputs": [],
   "source": [
    "ind"
   ]
  },
  {
   "cell_type": "code",
   "execution_count": null,
   "metadata": {},
   "outputs": [],
   "source": [
    "S"
   ]
  },
  {
   "cell_type": "code",
   "execution_count": null,
   "metadata": {},
   "outputs": [],
   "source": [
    "np.sum(S, axis=0)"
   ]
  },
  {
   "cell_type": "code",
   "execution_count": null,
   "metadata": {},
   "outputs": [],
   "source": [
    "np.sum(S, axis=1)"
   ]
  },
  {
   "cell_type": "code",
   "execution_count": null,
   "metadata": {},
   "outputs": [],
   "source": [
    "l = [1,9,3,4,5,6]\n",
    "max(zip(range(len(l)),l), key = lambda x:x[1])"
   ]
  },
  {
   "cell_type": "code",
   "execution_count": null,
   "metadata": {},
   "outputs": [],
   "source": [
    "sum_dist"
   ]
  },
  {
   "cell_type": "code",
   "execution_count": null,
   "metadata": {},
   "outputs": [],
   "source": [
    "index"
   ]
  },
  {
   "cell_type": "code",
   "execution_count": null,
   "metadata": {},
   "outputs": [],
   "source": [
    "t = np.where(index != -1)[0]\n",
    "t"
   ]
  },
  {
   "cell_type": "code",
   "execution_count": null,
   "metadata": {},
   "outputs": [],
   "source": [
    "sum_dist = np.zeros((1,5), np.complex128)\n",
    "sum_dist[0][0] += 2\n",
    "sum_dist[0][4] += 5\n",
    "\n",
    "print(sum_dist)\n",
    "sum_dist[:,[2,3,4]][0].real\n"
   ]
  },
  {
   "cell_type": "code",
   "execution_count": null,
   "metadata": {},
   "outputs": [],
   "source": [
    "index = np.array([0,2,-1,4,5])"
   ]
  },
  {
   "cell_type": "code",
   "execution_count": null,
   "metadata": {},
   "outputs": [],
   "source": [
    "i = 2\n",
    "i"
   ]
  },
  {
   "cell_type": "code",
   "execution_count": null,
   "metadata": {},
   "outputs": [],
   "source": [
    "t = np.where(index != -1)[0]"
   ]
  },
  {
   "cell_type": "code",
   "execution_count": null,
   "metadata": {},
   "outputs": [],
   "source": [
    "sum_dist"
   ]
  },
  {
   "cell_type": "code",
   "execution_count": null,
   "metadata": {},
   "outputs": [],
   "source": [
    "max(sum_dist[:,[0,1,3,4]][0].real)"
   ]
  },
  {
   "cell_type": "code",
   "execution_count": null,
   "metadata": {},
   "outputs": [],
   "source": [
    "vals"
   ]
  },
  {
   "cell_type": "code",
   "execution_count": null,
   "metadata": {},
   "outputs": [],
   "source": [
    "print(pd.__version__)"
   ]
  },
  {
   "cell_type": "code",
   "execution_count": null,
   "metadata": {},
   "outputs": [],
   "source": [
    "dec6_wo_st = dec6[['positive','negative','totalTestResults','recovered', 'death']]\n",
    "dec6_wo_st = dec6_wo_st.to_numpy()\n",
    "dec6_wo_st"
   ]
  },
  {
   "cell_type": "code",
   "execution_count": null,
   "metadata": {},
   "outputs": [],
   "source": [
    "XC, S, C, SSE, varexpl = PCHA(dec6_wo_st, noc=3, I = None, delta=0.1)"
   ]
  },
  {
   "cell_type": "code",
   "execution_count": null,
   "metadata": {},
   "outputs": [],
   "source": [
    "S"
   ]
  },
  {
   "cell_type": "code",
   "execution_count": null,
   "metadata": {},
   "outputs": [],
   "source": [
    "XC.shape"
   ]
  },
  {
   "cell_type": "code",
   "execution_count": null,
   "metadata": {},
   "outputs": [],
   "source": [
    "varexpl"
   ]
  },
  {
   "cell_type": "code",
   "execution_count": null,
   "metadata": {},
   "outputs": [],
   "source": [
    "C"
   ]
  },
  {
   "cell_type": "code",
   "execution_count": null,
   "metadata": {},
   "outputs": [],
   "source": [
    "def furthest_sum(K, noc, i, exclude=[]):\n",
    "    \n",
    "    def max_ind_val(l):\n",
    "        return max(zip(range(len(l)), l), key=lambda x: x[1])\n",
    "    \n",
    "    I, J = K.shape\n",
    "    index = np.array(range(J))\n",
    "    index[exclude] = 0\n",
    "    index[i] = -1\n",
    "    ind_t = i\n",
    "    sum_dist = np.zeros((1, J), np.complex128)\n",
    "\n",
    "    if J > noc * I:\n",
    "        Kt = K\n",
    "        Kt2 = np.sum(Kt**2, axis=0)\n",
    "        for k in range(1, noc + 11):\n",
    "            if k > noc - 1:\n",
    "                Kq = np.dot(Kt[:, i[0]], Kt)\n",
    "                sum_dist -= np.lib.scimath.sqrt(Kt2 - 2 * Kq + Kt2[i[0]])\n",
    "                index[i[0]] = i[0]\n",
    "                i = i[1:]\n",
    "            t = np.where(index != -1)[0]\n",
    "            Kq = np.dot(Kt[:, ind_t].T, Kt)\n",
    "            sum_dist += np.lib.scimath.sqrt(Kt2 - 2 * Kq + Kt2[ind_t])\n",
    "            ind, val = max_ind_val(sum_dist[:, t][0].real)\n",
    "            ind_t = t[ind]\n",
    "            i.append(ind_t)\n",
    "            index[ind_t] = -1\n",
    "    else:\n",
    "        if I != J or np.sum(K - K.T) != 0:  # Generate kernel if K not one\n",
    "            Kt = K\n",
    "            K = np.dot(Kt.T, Kt)\n",
    "            K = np.lib.scimath.sqrt(\n",
    "                repmat(np.diag(K), J, 1) - 2 * K + \\\n",
    "                repmat(np.mat(np.diag(K)).T, 1, J)\n",
    "            )\n",
    "\n",
    "        Kt2 = np.diag(K)  # Horizontal\n",
    "        for k in range(1, noc + 11):\n",
    "            if k > noc - 1:\n",
    "                sum_dist -= np.lib.scimath.sqrt(Kt2 - 2 * K[i[0], :] + Kt2[i[0]])\n",
    "                index[i[0]] = i[0]\n",
    "                i = i[1:]\n",
    "            t = np.where(index != -1)[0]\n",
    "            sum_dist += np.lib.scimath.sqrt(Kt2 - 2 * K[ind_t, :] + Kt2[ind_t])\n",
    "            ind, val = max_ind_val(sum_dist[:, t][0].real)\n",
    "            ind_t = t[ind]\n",
    "            i.append(ind_t)\n",
    "            index[ind_t] = -1\n",
    "\n",
    "    return i\n"
   ]
  },
  {
   "cell_type": "code",
   "execution_count": null,
   "metadata": {},
   "outputs": [],
   "source": [
    "\"\"\"Principal Convex Hull Analysis (PCHA) / Archetypal Analysis.\"\"\"\n",
    "\n",
    "import numpy as np\n",
    "from scipy.sparse import csr_matrix\n",
    "from datetime import datetime as dt\n",
    "import time\n",
    "\n",
    "from py_pcha.furthest_sum import furthest_sum\n",
    "\n",
    "\n",
    "def PCHAm(X, noc, I=None, U=None, delta=0, verbose=False, conv_crit=1E-6, maxiter=500):\n",
    "    \"\"\"Return archetypes of dataset.\n",
    "    Note: Commonly data is formatted to have shape (examples, dimensions).\n",
    "    This function takes input and returns output of the transposed shape,\n",
    "    (dimensions, examples).\n",
    "    Parameters\n",
    "    ----------\n",
    "    X : numpy.2darray\n",
    "        Data matrix in which to find archetypes\n",
    "    noc : int\n",
    "        Number of archetypes to find\n",
    "    I : 1d-array\n",
    "        Entries of X to use for dictionary in C (optional)\n",
    "    U : 1d-array\n",
    "        Entries of X to model in S (optional)\n",
    "    Output\n",
    "    ------\n",
    "    XC : numpy.2darray\n",
    "        I x noc feature matrix (i.e. XC=X[:,I]*C forming the archetypes)\n",
    "    S : numpy.2darray\n",
    "        noc x length(U) matrix, S>=0 |S_j|_1=1\n",
    "    C : numpy.2darray\n",
    "        noc x length(U) matrix, S>=0 |S_j|_1=1\n",
    "    SSE : float\n",
    "        Sum of Squared Errors\n",
    "    varexlp : float\n",
    "        Percent variation explained by the model\n",
    "    \"\"\"\n",
    "    def S_update(S, XCtX, CtXtXC, muS, SST, SSE, niter):\n",
    "        \"\"\"Update S for one iteration of the algorithm.\"\"\"\n",
    "        noc, J = S.shape\n",
    "        e = np.ones((noc, 1))\n",
    "        for k in range(niter):\n",
    "            SSE_old = SSE\n",
    "            g = (np.dot(CtXtXC, S) - XCtX) / (SST / J)\n",
    "            g = g - e * np.sum(g.A * S.A, axis=0)\n",
    "\n",
    "            S_old = S\n",
    "            while True:\n",
    "                S = (S_old - g * muS).clip(min=0)\n",
    "                S = S / np.dot(e, np.sum(S, axis=0))\n",
    "                SSt = S * S.T\n",
    "                SSE = SST - 2 * np.sum(XCtX.A * S.A) + np.sum(CtXtXC.A * SSt.A)\n",
    "                if SSE <= SSE_old * (1 + 1e-9):\n",
    "                    muS = muS * 1.2\n",
    "                    break\n",
    "                else:\n",
    "                    muS = muS / 2\n",
    "\n",
    "        return S, SSE, muS, SSt\n",
    "\n",
    "    def C_update(X, XSt, XC, SSt, C, delta, muC, mualpha, SST, SSE, niter=1):\n",
    "        \"\"\"Update C for one iteration of the algorithm.\"\"\"\n",
    "        J, nos = C.shape\n",
    "\n",
    "        if delta != 0:\n",
    "            alphaC = np.sum(C, axis=0).A[0]\n",
    "            C = np.dot(C, np.diag(1 / alphaC))\n",
    "\n",
    "        e = np.ones((J, 1))\n",
    "        XtXSt = np.dot(X.T, XSt)\n",
    "\n",
    "        for k in range(niter):\n",
    "\n",
    "            # Update C\n",
    "            SSE_old = SSE\n",
    "            g = (np.dot(X.T, np.dot(XC, SSt)) - XtXSt) / SST\n",
    "\n",
    "            if delta != 0:\n",
    "                g = np.dot(g, np.diag(alphaC))\n",
    "            g = g.A - e * np.sum(g.A * C.A, axis=0)\n",
    "\n",
    "            C_old = C\n",
    "            while True:\n",
    "                C = (C_old - muC * g).clip(min=0)\n",
    "                nC = np.sum(C, axis=0) + np.finfo(float).eps\n",
    "                C = np.dot(C, np.diag(1 / nC.A[0]))\n",
    "\n",
    "                if delta != 0:\n",
    "                    Ct = C * np.diag(alphaC)\n",
    "                else:\n",
    "                    Ct = C\n",
    "\n",
    "                XC = np.dot(X, Ct)\n",
    "                CtXtXC = np.dot(XC.T, XC)\n",
    "                SSE = SST - 2 * np.sum(XC.A * XSt.A) + np.sum(CtXtXC.A * SSt.A)\n",
    "\n",
    "                if SSE <= SSE_old * (1 + 1e-9):\n",
    "                    muC = muC * 1.2\n",
    "                    break\n",
    "                else:\n",
    "                    muC = muC / 2\n",
    "\n",
    "            # Update alphaC\n",
    "            SSE_old = SSE\n",
    "            if delta != 0:\n",
    "                g = (np.diag(CtXtXC * SSt).T / alphaC - np.sum(C.A * XtXSt.A)) / (SST * J)\n",
    "                alphaC_old = alphaC\n",
    "                while True:\n",
    "                    alphaC = alphaC_old - mualpha * g\n",
    "                    alphaC[alphaC < 1 - delta] = 1 - delta\n",
    "                    alphaC[alphaC > 1 + delta] = 1 + delta\n",
    "\n",
    "                    XCt = np.dot(XC, np.diag(alphaC / alphaC_old))\n",
    "                    CtXtXC = np.dot(XCt.T, XCt)\n",
    "                    SSE = SST - 2 * np.sum(XCt.A * XSt.A) + np.sum(CtXtXC.A * SSt.A)\n",
    "\n",
    "                    if SSE <= SSE_old * (1 + 1e-9):\n",
    "                        mualpha = mualpha * 1.2\n",
    "                        XC = XCt\n",
    "                        break\n",
    "                    else:\n",
    "                        mualpha = mualpha / 2\n",
    "\n",
    "        if delta != 0:\n",
    "            C = C * np.diag(alphaC)\n",
    "\n",
    "        return C, SSE, muC, mualpha, CtXtXC, XC\n",
    "\n",
    "    N, M = X.shape\n",
    "    \n",
    "\n",
    "    if I is None:\n",
    "        I = range(M)\n",
    "    if U is None:\n",
    "        U = range(M)\n",
    "\n",
    "    SST = np.sum(X[:, U] * X[:, U])\n",
    "\n",
    "    # Initialize C\n",
    "    try:\n",
    "        i = furthest_sum(X[:, I], noc, [int(np.ceil(len(I) * np.random.rand()))])\n",
    "    except IndexError:\n",
    "        class InitializationException(Exception): pass\n",
    "        raise InitializationException(\"Initialization does not converge. Too few examples in dataset.\")\n",
    "\n",
    "    j = range(noc)\n",
    "    C = csr_matrix((np.ones(len(i)), (i, j)), shape=(len(I), noc)).todense()\n",
    "    print(C)\n",
    "    \n",
    "    XC = np.dot(X[:, I], C)\n",
    "\n",
    "    muS, muC, mualpha = 1, 1, 1\n",
    "\n",
    "    # Initialise S\n",
    "    XCtX = np.dot(XC.T, X[:, U])\n",
    "    CtXtXC = np.dot(XC.T, XC)\n",
    "    S = -np.log(np.random.random((noc, len(U))))\n",
    "    S = S / np.dot(np.ones((noc, 1)), np.mat(np.sum(S, axis=0)))\n",
    "    SSt = np.dot(S, S.T)\n",
    "    SSE = SST - 2 * np.sum(XCtX.A * S.A) + np.sum(CtXtXC.A * SSt.A)\n",
    "    S, SSE, muS, SSt = S_update(S, XCtX, CtXtXC, muS, SST, SSE, 25)\n",
    "\n",
    "    # Set PCHA parameters\n",
    "    iter_ = 0\n",
    "    dSSE = np.inf\n",
    "    t1 = dt.now()\n",
    "    varexpl = (SST - SSE) / SST\n",
    "\n",
    "    if verbose:\n",
    "        print('\\nPrincipal Convex Hull Analysis / Archetypal Analysis')\n",
    "        print('A ' + str(noc) + ' component model will be fitted')\n",
    "        print('To stop algorithm press control C\\n')\n",
    "\n",
    "    dheader = '%10s | %10s | %10s | %10s | %10s | %10s | %10s | %10s' % ('Iteration', 'Expl. var.', 'Cost func.', 'Delta SSEf.', 'muC', 'mualpha', 'muS', ' Time(s)   ')\n",
    "    dline = '-----------+------------+------------+-------------+------------+------------+------------+------------+'\n",
    "\n",
    "    while np.abs(dSSE) >= conv_crit * np.abs(SSE) and iter_ < maxiter and varexpl < 0.9999:\n",
    "        if verbose and iter_ % 100 == 0:\n",
    "            print(dline)\n",
    "            print(dheader)\n",
    "            print(dline)\n",
    "        told = t1\n",
    "        iter_ += 1\n",
    "        SSE_old = SSE\n",
    "\n",
    "        # C (and alpha) update\n",
    "        XSt = np.dot(X[:, U], S.T)\n",
    "        C, SSE, muC, mualpha, CtXtXC, XC = C_update(\n",
    "            X[:, I], XSt, XC, SSt, C, delta, muC, mualpha, SST, SSE, 10\n",
    "        )\n",
    "\n",
    "        # S update\n",
    "        XCtX = np.dot(XC.T, X[:, U])\n",
    "        S, SSE, muS, SSt = S_update(\n",
    "            S, XCtX, CtXtXC, muS, SST, SSE, 10\n",
    "        )\n",
    "\n",
    "        # Evaluate and display iteration\n",
    "        dSSE = SSE_old - SSE\n",
    "        t1 = dt.now()\n",
    "        if iter_ % 1 == 0:\n",
    "            time.sleep(0.000001)\n",
    "            varexpl = (SST - SSE) / SST\n",
    "            if verbose:\n",
    "                print('%10.0f | %10.4f | %10.4e | %10.4e | %10.4e | %10.4e | %10.4e | %10.4f \\n' % (iter_, varexpl, SSE, dSSE/np.abs(SSE), muC, mualpha, muS, (t1-told).seconds))\n",
    "\n",
    "    # Display final iteration\n",
    "    varexpl = (SST - SSE) / SST\n",
    "    if verbose:\n",
    "        print(dline)\n",
    "        print(dline)\n",
    "        print('%10.0f | %10.4f | %10.4e | %10.4e | %10.4e | %10.4e | %10.4e | %10.4f \\n' % (iter_, varexpl, SSE, dSSE/np.abs(SSE), muC, mualpha, muS, (t1-told).seconds))\n",
    "\n",
    "    print(S)\n",
    "    print(C)\n",
    "    print(XC)\n",
    "        \n",
    "    # Sort components according to importance\n",
    "    ind, vals = zip(\n",
    "        *sorted(enumerate(np.sum(S, axis=1)), key=lambda x: x[0], reverse=1)\n",
    "    )\n",
    "    S = S[ind, :]\n",
    "    C = C[:, ind]\n",
    "    XC = XC[:, ind]\n",
    "\n",
    "    return XC, S, C, SSE, varexpl"
   ]
  },
  {
   "cell_type": "code",
   "execution_count": null,
   "metadata": {},
   "outputs": [],
   "source": [
    "XC2, S2, C2, SSE2, varexpl2 = PCHAm(dec6_wo_st, noc=3, I = None, delta=0.1)\n"
   ]
  },
  {
   "cell_type": "code",
   "execution_count": null,
   "metadata": {},
   "outputs": [],
   "source": [
    "XC2"
   ]
  },
  {
   "cell_type": "code",
   "execution_count": null,
   "metadata": {},
   "outputs": [],
   "source": [
    "C2"
   ]
  },
  {
   "cell_type": "code",
   "execution_count": null,
   "metadata": {},
   "outputs": [],
   "source": [
    "C2[:,0]"
   ]
  },
  {
   "cell_type": "code",
   "execution_count": null,
   "metadata": {},
   "outputs": [],
   "source": [
    "XC2"
   ]
  },
  {
   "cell_type": "code",
   "execution_count": null,
   "metadata": {},
   "outputs": [],
   "source": [
    "ans = 0\n",
    "\n",
    "for i in range(len(XC)):\n",
    "    a = XC[i] - XC2[i]\n",
    "    ans = ans + a\n",
    "    \n",
    "print(ans)"
   ]
  },
  {
   "cell_type": "code",
   "execution_count": null,
   "metadata": {},
   "outputs": [],
   "source": [
    "ans = 0\n",
    "\n",
    "for i in range(len(S)):\n",
    "    a = S[i] - S2[i]\n",
    "    ans = ans + a\n",
    "    \n",
    "print(ans)"
   ]
  },
  {
   "cell_type": "code",
   "execution_count": null,
   "metadata": {},
   "outputs": [],
   "source": [
    "ans = 0\n",
    "\n",
    "for i in range(len(C)):\n",
    "    a = C[i] - C2[i]\n",
    "    ans = ans + a\n",
    "    \n",
    "print(ans)"
   ]
  },
  {
   "cell_type": "code",
   "execution_count": null,
   "metadata": {},
   "outputs": [],
   "source": []
  },
  {
   "cell_type": "markdown",
   "metadata": {},
   "source": [
    "Attempts to understand"
   ]
  },
  {
   "cell_type": "code",
   "execution_count": null,
   "metadata": {},
   "outputs": [],
   "source": [
    "#dimensions = 7\n",
    "#examples = 2\n",
    "#X = np.random.random((dimensions, examples)) * 10\n",
    "I_list = ['rd','be','gn','bl','cf','dg','co','pi','yu','we','oi','or','mq','mt','nz']\n",
    "\n",
    "a = [[5, 0],[5, 1],[10 ,1],[2, 4],[6, 1],\n",
    "     [0, 1],[1, 7],[3,1],[3,2],[3,3],\n",
    "     [4,1],[2,2],[2,3],[3,5],[7,1]]\n",
    "a\n",
    "\n",
    "arr_a = np.array(a)\n",
    "\n",
    "x = arr_a[:,0]\n",
    "y = arr_a[:,1]\n",
    "print(x)\n",
    "print(y)\n",
    "plt.scatter(x,y)"
   ]
  },
  {
   "cell_type": "code",
   "execution_count": null,
   "metadata": {},
   "outputs": [],
   "source": [
    "XC, S, C, SSE, varexpl = PCHA(arr_a, noc=2, I = None, delta=0.1)"
   ]
  },
  {
   "cell_type": "code",
   "execution_count": null,
   "metadata": {},
   "outputs": [],
   "source": [
    "XC"
   ]
  },
  {
   "cell_type": "code",
   "execution_count": null,
   "metadata": {},
   "outputs": [],
   "source": [
    "S"
   ]
  },
  {
   "cell_type": "code",
   "execution_count": null,
   "metadata": {},
   "outputs": [],
   "source": [
    "C"
   ]
  },
  {
   "cell_type": "code",
   "execution_count": null,
   "metadata": {},
   "outputs": [],
   "source": [
    "SSE"
   ]
  },
  {
   "cell_type": "code",
   "execution_count": null,
   "metadata": {},
   "outputs": [],
   "source": [
    "varexpl"
   ]
  },
  {
   "cell_type": "code",
   "execution_count": null,
   "metadata": {},
   "outputs": [],
   "source": [
    "XC*C"
   ]
  },
  {
   "cell_type": "code",
   "execution_count": null,
   "metadata": {},
   "outputs": [],
   "source": []
  },
  {
   "cell_type": "code",
   "execution_count": null,
   "metadata": {},
   "outputs": [],
   "source": []
  }
 ],
 "metadata": {
  "kernelspec": {
   "display_name": "Python 2",
   "language": "python",
   "name": "python2"
  }
 },
 "nbformat": 4,
 "nbformat_minor": 4
}
