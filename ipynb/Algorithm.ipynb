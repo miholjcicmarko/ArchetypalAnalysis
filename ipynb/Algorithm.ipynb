{
 "cells": [
  {
   "cell_type": "code",
   "execution_count": 2,
   "metadata": {},
   "outputs": [],
   "source": [
    "import pandas as pd\n",
    "import numpy as np\n",
    "import py_pcha\n",
    "from py_pcha import PCHA\n",
    "import matplotlib.pyplot as plt\n",
    "from numpy.matlib import repmat"
   ]
  },
  {
   "cell_type": "code",
   "execution_count": null,
   "metadata": {},
   "outputs": [],
   "source": [
    "dimensions = 15\n",
    "examples = 100\n",
    "X = np.random.random((dimensions, examples))"
   ]
  },
  {
   "cell_type": "code",
   "execution_count": null,
   "metadata": {},
   "outputs": [],
   "source": [
    "X.shape"
   ]
  },
  {
   "cell_type": "code",
   "execution_count": null,
   "metadata": {},
   "outputs": [],
   "source": [
    "import pixiedust"
   ]
  },
  {
   "cell_type": "code",
   "execution_count": null,
   "metadata": {},
   "outputs": [],
   "source": [
    "from pip._internal import main\n",
    "main([\"install\", \"msgpack\"])\n",
    "main([\"install\", \"pixiedust\"])"
   ]
  },
  {
   "cell_type": "code",
   "execution_count": null,
   "metadata": {},
   "outputs": [],
   "source": [
    "pip install --upgrade ipython"
   ]
  },
  {
   "cell_type": "code",
   "execution_count": 3,
   "metadata": {},
   "outputs": [
    {
     "data": {
      "text/html": [
       "<div>\n",
       "<style scoped>\n",
       "    .dataframe tbody tr th:only-of-type {\n",
       "        vertical-align: middle;\n",
       "    }\n",
       "\n",
       "    .dataframe tbody tr th {\n",
       "        vertical-align: top;\n",
       "    }\n",
       "\n",
       "    .dataframe thead th {\n",
       "        text-align: right;\n",
       "    }\n",
       "</style>\n",
       "<table border=\"1\" class=\"dataframe\">\n",
       "  <thead>\n",
       "    <tr style=\"text-align: right;\">\n",
       "      <th></th>\n",
       "      <th>date</th>\n",
       "      <th>state</th>\n",
       "      <th>positive</th>\n",
       "      <th>probableCases</th>\n",
       "      <th>negative</th>\n",
       "      <th>pending</th>\n",
       "      <th>totalTestResultsSource</th>\n",
       "      <th>totalTestResults</th>\n",
       "      <th>hospitalizedCurrently</th>\n",
       "      <th>hospitalizedCumulative</th>\n",
       "      <th>...</th>\n",
       "      <th>posNeg</th>\n",
       "      <th>deathIncrease</th>\n",
       "      <th>hospitalizedIncrease</th>\n",
       "      <th>hash</th>\n",
       "      <th>commercialScore</th>\n",
       "      <th>negativeRegularScore</th>\n",
       "      <th>negativeScore</th>\n",
       "      <th>positiveScore</th>\n",
       "      <th>score</th>\n",
       "      <th>grade</th>\n",
       "    </tr>\n",
       "  </thead>\n",
       "  <tbody>\n",
       "    <tr>\n",
       "      <th>0</th>\n",
       "      <td>20201206</td>\n",
       "      <td>AK</td>\n",
       "      <td>35720.0</td>\n",
       "      <td>NaN</td>\n",
       "      <td>1042056.0</td>\n",
       "      <td>NaN</td>\n",
       "      <td>totalTestsViral</td>\n",
       "      <td>1077776.0</td>\n",
       "      <td>164.0</td>\n",
       "      <td>799.0</td>\n",
       "      <td>...</td>\n",
       "      <td>1077776</td>\n",
       "      <td>0</td>\n",
       "      <td>0</td>\n",
       "      <td>7b1d31e2756687bb9259b29195f1db6cdb321ea6</td>\n",
       "      <td>0</td>\n",
       "      <td>0</td>\n",
       "      <td>0</td>\n",
       "      <td>0</td>\n",
       "      <td>0</td>\n",
       "      <td>NaN</td>\n",
       "    </tr>\n",
       "    <tr>\n",
       "      <th>1</th>\n",
       "      <td>20201206</td>\n",
       "      <td>AL</td>\n",
       "      <td>269877.0</td>\n",
       "      <td>45962.0</td>\n",
       "      <td>1421126.0</td>\n",
       "      <td>NaN</td>\n",
       "      <td>totalTestsPeopleViral</td>\n",
       "      <td>1645041.0</td>\n",
       "      <td>1927.0</td>\n",
       "      <td>26331.0</td>\n",
       "      <td>...</td>\n",
       "      <td>1691003</td>\n",
       "      <td>12</td>\n",
       "      <td>0</td>\n",
       "      <td>19454ed8fe28fc0a7948fc0771b2f3c846c1c92e</td>\n",
       "      <td>0</td>\n",
       "      <td>0</td>\n",
       "      <td>0</td>\n",
       "      <td>0</td>\n",
       "      <td>0</td>\n",
       "      <td>NaN</td>\n",
       "    </tr>\n",
       "    <tr>\n",
       "      <th>2</th>\n",
       "      <td>20201206</td>\n",
       "      <td>AR</td>\n",
       "      <td>170924.0</td>\n",
       "      <td>22753.0</td>\n",
       "      <td>1614979.0</td>\n",
       "      <td>NaN</td>\n",
       "      <td>totalTestsViral</td>\n",
       "      <td>1763150.0</td>\n",
       "      <td>1076.0</td>\n",
       "      <td>9401.0</td>\n",
       "      <td>...</td>\n",
       "      <td>1785903</td>\n",
       "      <td>40</td>\n",
       "      <td>21</td>\n",
       "      <td>25fc83bffff5b32ba1a737be8e087fad9f4fde33</td>\n",
       "      <td>0</td>\n",
       "      <td>0</td>\n",
       "      <td>0</td>\n",
       "      <td>0</td>\n",
       "      <td>0</td>\n",
       "      <td>NaN</td>\n",
       "    </tr>\n",
       "    <tr>\n",
       "      <th>3</th>\n",
       "      <td>20201206</td>\n",
       "      <td>AS</td>\n",
       "      <td>0.0</td>\n",
       "      <td>NaN</td>\n",
       "      <td>2140.0</td>\n",
       "      <td>NaN</td>\n",
       "      <td>totalTestsViral</td>\n",
       "      <td>2140.0</td>\n",
       "      <td>NaN</td>\n",
       "      <td>NaN</td>\n",
       "      <td>...</td>\n",
       "      <td>2140</td>\n",
       "      <td>0</td>\n",
       "      <td>0</td>\n",
       "      <td>8c39eec317586b0c34fc2903e6a3891ecb00469e</td>\n",
       "      <td>0</td>\n",
       "      <td>0</td>\n",
       "      <td>0</td>\n",
       "      <td>0</td>\n",
       "      <td>0</td>\n",
       "      <td>NaN</td>\n",
       "    </tr>\n",
       "    <tr>\n",
       "      <th>4</th>\n",
       "      <td>20201206</td>\n",
       "      <td>AZ</td>\n",
       "      <td>364276.0</td>\n",
       "      <td>12590.0</td>\n",
       "      <td>2018813.0</td>\n",
       "      <td>NaN</td>\n",
       "      <td>totalTestsPeopleViral</td>\n",
       "      <td>2370499.0</td>\n",
       "      <td>2977.0</td>\n",
       "      <td>28248.0</td>\n",
       "      <td>...</td>\n",
       "      <td>2383089</td>\n",
       "      <td>25</td>\n",
       "      <td>242</td>\n",
       "      <td>7cf59da9e4bc31d905e179211313d08879880a85</td>\n",
       "      <td>0</td>\n",
       "      <td>0</td>\n",
       "      <td>0</td>\n",
       "      <td>0</td>\n",
       "      <td>0</td>\n",
       "      <td>NaN</td>\n",
       "    </tr>\n",
       "    <tr>\n",
       "      <th>...</th>\n",
       "      <td>...</td>\n",
       "      <td>...</td>\n",
       "      <td>...</td>\n",
       "      <td>...</td>\n",
       "      <td>...</td>\n",
       "      <td>...</td>\n",
       "      <td>...</td>\n",
       "      <td>...</td>\n",
       "      <td>...</td>\n",
       "      <td>...</td>\n",
       "      <td>...</td>\n",
       "      <td>...</td>\n",
       "      <td>...</td>\n",
       "      <td>...</td>\n",
       "      <td>...</td>\n",
       "      <td>...</td>\n",
       "      <td>...</td>\n",
       "      <td>...</td>\n",
       "      <td>...</td>\n",
       "      <td>...</td>\n",
       "      <td>...</td>\n",
       "    </tr>\n",
       "    <tr>\n",
       "      <th>15628</th>\n",
       "      <td>20200124</td>\n",
       "      <td>WA</td>\n",
       "      <td>0.0</td>\n",
       "      <td>NaN</td>\n",
       "      <td>0.0</td>\n",
       "      <td>NaN</td>\n",
       "      <td>totalTestEncountersViral</td>\n",
       "      <td>0.0</td>\n",
       "      <td>NaN</td>\n",
       "      <td>NaN</td>\n",
       "      <td>...</td>\n",
       "      <td>0</td>\n",
       "      <td>0</td>\n",
       "      <td>0</td>\n",
       "      <td>82726df68eb97c98a4a6ee792349e547023147d5</td>\n",
       "      <td>0</td>\n",
       "      <td>0</td>\n",
       "      <td>0</td>\n",
       "      <td>0</td>\n",
       "      <td>0</td>\n",
       "      <td>NaN</td>\n",
       "    </tr>\n",
       "    <tr>\n",
       "      <th>15629</th>\n",
       "      <td>20200123</td>\n",
       "      <td>MA</td>\n",
       "      <td>NaN</td>\n",
       "      <td>NaN</td>\n",
       "      <td>NaN</td>\n",
       "      <td>NaN</td>\n",
       "      <td>totalTestsViral</td>\n",
       "      <td>2.0</td>\n",
       "      <td>NaN</td>\n",
       "      <td>NaN</td>\n",
       "      <td>...</td>\n",
       "      <td>0</td>\n",
       "      <td>0</td>\n",
       "      <td>0</td>\n",
       "      <td>76bc987d054b119a4e05a4a43742249c0b0568b6</td>\n",
       "      <td>0</td>\n",
       "      <td>0</td>\n",
       "      <td>0</td>\n",
       "      <td>0</td>\n",
       "      <td>0</td>\n",
       "      <td>NaN</td>\n",
       "    </tr>\n",
       "    <tr>\n",
       "      <th>15630</th>\n",
       "      <td>20200123</td>\n",
       "      <td>WA</td>\n",
       "      <td>0.0</td>\n",
       "      <td>NaN</td>\n",
       "      <td>0.0</td>\n",
       "      <td>NaN</td>\n",
       "      <td>totalTestEncountersViral</td>\n",
       "      <td>0.0</td>\n",
       "      <td>NaN</td>\n",
       "      <td>NaN</td>\n",
       "      <td>...</td>\n",
       "      <td>0</td>\n",
       "      <td>0</td>\n",
       "      <td>0</td>\n",
       "      <td>1c2229c239ffad5e5fdd9d76c641dc9166caf6ba</td>\n",
       "      <td>0</td>\n",
       "      <td>0</td>\n",
       "      <td>0</td>\n",
       "      <td>0</td>\n",
       "      <td>0</td>\n",
       "      <td>NaN</td>\n",
       "    </tr>\n",
       "    <tr>\n",
       "      <th>15631</th>\n",
       "      <td>20200122</td>\n",
       "      <td>MA</td>\n",
       "      <td>NaN</td>\n",
       "      <td>NaN</td>\n",
       "      <td>NaN</td>\n",
       "      <td>NaN</td>\n",
       "      <td>totalTestsViral</td>\n",
       "      <td>1.0</td>\n",
       "      <td>NaN</td>\n",
       "      <td>NaN</td>\n",
       "      <td>...</td>\n",
       "      <td>0</td>\n",
       "      <td>0</td>\n",
       "      <td>0</td>\n",
       "      <td>01f5dcd6631859503ef1b62d81d49e41d12fc1bd</td>\n",
       "      <td>0</td>\n",
       "      <td>0</td>\n",
       "      <td>0</td>\n",
       "      <td>0</td>\n",
       "      <td>0</td>\n",
       "      <td>NaN</td>\n",
       "    </tr>\n",
       "    <tr>\n",
       "      <th>15632</th>\n",
       "      <td>20200122</td>\n",
       "      <td>WA</td>\n",
       "      <td>0.0</td>\n",
       "      <td>NaN</td>\n",
       "      <td>0.0</td>\n",
       "      <td>NaN</td>\n",
       "      <td>totalTestEncountersViral</td>\n",
       "      <td>0.0</td>\n",
       "      <td>NaN</td>\n",
       "      <td>NaN</td>\n",
       "      <td>...</td>\n",
       "      <td>0</td>\n",
       "      <td>0</td>\n",
       "      <td>0</td>\n",
       "      <td>4502685e582e68071bfe8f7e1b307bc09c16728d</td>\n",
       "      <td>0</td>\n",
       "      <td>0</td>\n",
       "      <td>0</td>\n",
       "      <td>0</td>\n",
       "      <td>0</td>\n",
       "      <td>NaN</td>\n",
       "    </tr>\n",
       "  </tbody>\n",
       "</table>\n",
       "<p>15633 rows × 55 columns</p>\n",
       "</div>"
      ],
      "text/plain": [
       "           date state  positive  probableCases   negative  pending  \\\n",
       "0      20201206    AK   35720.0            NaN  1042056.0      NaN   \n",
       "1      20201206    AL  269877.0        45962.0  1421126.0      NaN   \n",
       "2      20201206    AR  170924.0        22753.0  1614979.0      NaN   \n",
       "3      20201206    AS       0.0            NaN     2140.0      NaN   \n",
       "4      20201206    AZ  364276.0        12590.0  2018813.0      NaN   \n",
       "...         ...   ...       ...            ...        ...      ...   \n",
       "15628  20200124    WA       0.0            NaN        0.0      NaN   \n",
       "15629  20200123    MA       NaN            NaN        NaN      NaN   \n",
       "15630  20200123    WA       0.0            NaN        0.0      NaN   \n",
       "15631  20200122    MA       NaN            NaN        NaN      NaN   \n",
       "15632  20200122    WA       0.0            NaN        0.0      NaN   \n",
       "\n",
       "         totalTestResultsSource  totalTestResults  hospitalizedCurrently  \\\n",
       "0               totalTestsViral         1077776.0                  164.0   \n",
       "1         totalTestsPeopleViral         1645041.0                 1927.0   \n",
       "2               totalTestsViral         1763150.0                 1076.0   \n",
       "3               totalTestsViral            2140.0                    NaN   \n",
       "4         totalTestsPeopleViral         2370499.0                 2977.0   \n",
       "...                         ...               ...                    ...   \n",
       "15628  totalTestEncountersViral               0.0                    NaN   \n",
       "15629           totalTestsViral               2.0                    NaN   \n",
       "15630  totalTestEncountersViral               0.0                    NaN   \n",
       "15631           totalTestsViral               1.0                    NaN   \n",
       "15632  totalTestEncountersViral               0.0                    NaN   \n",
       "\n",
       "       hospitalizedCumulative  ...   posNeg  deathIncrease  \\\n",
       "0                       799.0  ...  1077776              0   \n",
       "1                     26331.0  ...  1691003             12   \n",
       "2                      9401.0  ...  1785903             40   \n",
       "3                         NaN  ...     2140              0   \n",
       "4                     28248.0  ...  2383089             25   \n",
       "...                       ...  ...      ...            ...   \n",
       "15628                     NaN  ...        0              0   \n",
       "15629                     NaN  ...        0              0   \n",
       "15630                     NaN  ...        0              0   \n",
       "15631                     NaN  ...        0              0   \n",
       "15632                     NaN  ...        0              0   \n",
       "\n",
       "       hospitalizedIncrease                                      hash  \\\n",
       "0                         0  7b1d31e2756687bb9259b29195f1db6cdb321ea6   \n",
       "1                         0  19454ed8fe28fc0a7948fc0771b2f3c846c1c92e   \n",
       "2                        21  25fc83bffff5b32ba1a737be8e087fad9f4fde33   \n",
       "3                         0  8c39eec317586b0c34fc2903e6a3891ecb00469e   \n",
       "4                       242  7cf59da9e4bc31d905e179211313d08879880a85   \n",
       "...                     ...                                       ...   \n",
       "15628                     0  82726df68eb97c98a4a6ee792349e547023147d5   \n",
       "15629                     0  76bc987d054b119a4e05a4a43742249c0b0568b6   \n",
       "15630                     0  1c2229c239ffad5e5fdd9d76c641dc9166caf6ba   \n",
       "15631                     0  01f5dcd6631859503ef1b62d81d49e41d12fc1bd   \n",
       "15632                     0  4502685e582e68071bfe8f7e1b307bc09c16728d   \n",
       "\n",
       "       commercialScore negativeRegularScore negativeScore positiveScore score  \\\n",
       "0                    0                    0             0             0     0   \n",
       "1                    0                    0             0             0     0   \n",
       "2                    0                    0             0             0     0   \n",
       "3                    0                    0             0             0     0   \n",
       "4                    0                    0             0             0     0   \n",
       "...                ...                  ...           ...           ...   ...   \n",
       "15628                0                    0             0             0     0   \n",
       "15629                0                    0             0             0     0   \n",
       "15630                0                    0             0             0     0   \n",
       "15631                0                    0             0             0     0   \n",
       "15632                0                    0             0             0     0   \n",
       "\n",
       "       grade  \n",
       "0        NaN  \n",
       "1        NaN  \n",
       "2        NaN  \n",
       "3        NaN  \n",
       "4        NaN  \n",
       "...      ...  \n",
       "15628    NaN  \n",
       "15629    NaN  \n",
       "15630    NaN  \n",
       "15631    NaN  \n",
       "15632    NaN  \n",
       "\n",
       "[15633 rows x 55 columns]"
      ]
     },
     "execution_count": 3,
     "metadata": {},
     "output_type": "execute_result"
    }
   ],
   "source": [
    "data=pd.read_csv(\"/Users/markomiholjcic/Documents/GitHub/ArchetypalAnalysis/data/us_states_covid19_daily.csv\")\n",
    "data"
   ]
  },
  {
   "cell_type": "code",
   "execution_count": 8,
   "metadata": {},
   "outputs": [
    {
     "data": {
      "text/html": [
       "<div>\n",
       "<style scoped>\n",
       "    .dataframe tbody tr th:only-of-type {\n",
       "        vertical-align: middle;\n",
       "    }\n",
       "\n",
       "    .dataframe tbody tr th {\n",
       "        vertical-align: top;\n",
       "    }\n",
       "\n",
       "    .dataframe thead th {\n",
       "        text-align: right;\n",
       "    }\n",
       "</style>\n",
       "<table border=\"1\" class=\"dataframe\">\n",
       "  <thead>\n",
       "    <tr style=\"text-align: right;\">\n",
       "      <th></th>\n",
       "      <th>date</th>\n",
       "      <th>state</th>\n",
       "      <th>positive</th>\n",
       "      <th>negative</th>\n",
       "      <th>totalTestResults</th>\n",
       "      <th>recovered</th>\n",
       "      <th>death</th>\n",
       "    </tr>\n",
       "  </thead>\n",
       "  <tbody>\n",
       "    <tr>\n",
       "      <th>0</th>\n",
       "      <td>20201206</td>\n",
       "      <td>AK</td>\n",
       "      <td>35720.0</td>\n",
       "      <td>1042056.0</td>\n",
       "      <td>1077776.0</td>\n",
       "      <td>7165.0</td>\n",
       "      <td>143.0</td>\n",
       "    </tr>\n",
       "    <tr>\n",
       "      <th>1</th>\n",
       "      <td>20201206</td>\n",
       "      <td>AL</td>\n",
       "      <td>269877.0</td>\n",
       "      <td>1421126.0</td>\n",
       "      <td>1645041.0</td>\n",
       "      <td>168387.0</td>\n",
       "      <td>3889.0</td>\n",
       "    </tr>\n",
       "    <tr>\n",
       "      <th>2</th>\n",
       "      <td>20201206</td>\n",
       "      <td>AR</td>\n",
       "      <td>170924.0</td>\n",
       "      <td>1614979.0</td>\n",
       "      <td>1763150.0</td>\n",
       "      <td>149490.0</td>\n",
       "      <td>2660.0</td>\n",
       "    </tr>\n",
       "    <tr>\n",
       "      <th>4</th>\n",
       "      <td>20201206</td>\n",
       "      <td>AZ</td>\n",
       "      <td>364276.0</td>\n",
       "      <td>2018813.0</td>\n",
       "      <td>2370499.0</td>\n",
       "      <td>56382.0</td>\n",
       "      <td>6950.0</td>\n",
       "    </tr>\n",
       "    <tr>\n",
       "      <th>6</th>\n",
       "      <td>20201206</td>\n",
       "      <td>CO</td>\n",
       "      <td>260581.0</td>\n",
       "      <td>1608829.0</td>\n",
       "      <td>3478160.0</td>\n",
       "      <td>13941.0</td>\n",
       "      <td>2724.0</td>\n",
       "    </tr>\n",
       "    <tr>\n",
       "      <th>...</th>\n",
       "      <td>...</td>\n",
       "      <td>...</td>\n",
       "      <td>...</td>\n",
       "      <td>...</td>\n",
       "      <td>...</td>\n",
       "      <td>...</td>\n",
       "      <td>...</td>\n",
       "    </tr>\n",
       "    <tr>\n",
       "      <th>14289</th>\n",
       "      <td>20200326</td>\n",
       "      <td>DE</td>\n",
       "      <td>130.0</td>\n",
       "      <td>36.0</td>\n",
       "      <td>3148.0</td>\n",
       "      <td>4.0</td>\n",
       "      <td>3.0</td>\n",
       "    </tr>\n",
       "    <tr>\n",
       "      <th>14294</th>\n",
       "      <td>20200326</td>\n",
       "      <td>IA</td>\n",
       "      <td>179.0</td>\n",
       "      <td>2578.0</td>\n",
       "      <td>2757.0</td>\n",
       "      <td>15.0</td>\n",
       "      <td>1.0</td>\n",
       "    </tr>\n",
       "    <tr>\n",
       "      <th>14325</th>\n",
       "      <td>20200326</td>\n",
       "      <td>SD</td>\n",
       "      <td>46.0</td>\n",
       "      <td>1973.0</td>\n",
       "      <td>2019.0</td>\n",
       "      <td>16.0</td>\n",
       "      <td>1.0</td>\n",
       "    </tr>\n",
       "    <tr>\n",
       "      <th>14338</th>\n",
       "      <td>20200325</td>\n",
       "      <td>AR</td>\n",
       "      <td>280.0</td>\n",
       "      <td>1437.0</td>\n",
       "      <td>1717.0</td>\n",
       "      <td>11.0</td>\n",
       "      <td>2.0</td>\n",
       "    </tr>\n",
       "    <tr>\n",
       "      <th>14361</th>\n",
       "      <td>20200325</td>\n",
       "      <td>MN</td>\n",
       "      <td>502.0</td>\n",
       "      <td>11188.0</td>\n",
       "      <td>11690.0</td>\n",
       "      <td>121.0</td>\n",
       "      <td>1.0</td>\n",
       "    </tr>\n",
       "  </tbody>\n",
       "</table>\n",
       "<p>11101 rows × 7 columns</p>\n",
       "</div>"
      ],
      "text/plain": [
       "           date state  positive   negative  totalTestResults  recovered  \\\n",
       "0      20201206    AK   35720.0  1042056.0         1077776.0     7165.0   \n",
       "1      20201206    AL  269877.0  1421126.0         1645041.0   168387.0   \n",
       "2      20201206    AR  170924.0  1614979.0         1763150.0   149490.0   \n",
       "4      20201206    AZ  364276.0  2018813.0         2370499.0    56382.0   \n",
       "6      20201206    CO  260581.0  1608829.0         3478160.0    13941.0   \n",
       "...         ...   ...       ...        ...               ...        ...   \n",
       "14289  20200326    DE     130.0       36.0            3148.0        4.0   \n",
       "14294  20200326    IA     179.0     2578.0            2757.0       15.0   \n",
       "14325  20200326    SD      46.0     1973.0            2019.0       16.0   \n",
       "14338  20200325    AR     280.0     1437.0            1717.0       11.0   \n",
       "14361  20200325    MN     502.0    11188.0           11690.0      121.0   \n",
       "\n",
       "        death  \n",
       "0       143.0  \n",
       "1      3889.0  \n",
       "2      2660.0  \n",
       "4      6950.0  \n",
       "6      2724.0  \n",
       "...       ...  \n",
       "14289     3.0  \n",
       "14294     1.0  \n",
       "14325     1.0  \n",
       "14338     2.0  \n",
       "14361     1.0  \n",
       "\n",
       "[11101 rows x 7 columns]"
      ]
     },
     "execution_count": 8,
     "metadata": {},
     "output_type": "execute_result"
    }
   ],
   "source": [
    "data_time = data[['date','state','positive','negative','totalTestResults','recovered', 'death']]\n",
    "data_time = dec6.dropna()\n",
    "data_time"
   ]
  },
  {
   "cell_type": "code",
   "execution_count": 9,
   "metadata": {},
   "outputs": [],
   "source": [
    "data_time.to_csv('/Users/markomiholjcic/Documents/GitHub/ArchetypalAnalysis/data/COVID19time.csv', index = False)"
   ]
  },
  {
   "cell_type": "code",
   "execution_count": null,
   "metadata": {},
   "outputs": [],
   "source": [
    "data=pd.read_csv(\"/Users/u0984549/Documents/GitHub/ArchetypalAnalysis/data/us_states_covid19_daily.csv\")\n",
    "data"
   ]
  },
  {
   "cell_type": "markdown",
   "metadata": {},
   "source": [
    "Data for 50 states, DC, and 5 territories on December 6, 2020. Select states and territories with missing values were removed. "
   ]
  },
  {
   "cell_type": "code",
   "execution_count": null,
   "metadata": {},
   "outputs": [],
   "source": [
    "dec6 = data.loc[data['date'] == 20201206]\n",
    "dec6 = dec6[['state','positive','negative','totalTestResults','recovered', 'death']]\n",
    "dec6 = dec6.dropna()\n",
    "dec6_state = dec6[['state']]\n",
    "\n",
    "dec6raw = dec6\n",
    "\n",
    "dec6 = dec6[['positive','negative','totalTestResults','recovered', 'death']]\n",
    "dec6 = dec6.T\n",
    "#dec6_state\n",
    "dec6_variables = pd.DataFrame([dec6.index]).T\n",
    "dec6raw"
   ]
  },
  {
   "cell_type": "code",
   "execution_count": null,
   "metadata": {},
   "outputs": [],
   "source": [
    "dec6raw.to_csv('/Users/markomiholjcic/Documents/GitHub/ArchetypalAnalysis/data/COVID19states.csv', index = False)"
   ]
  },
  {
   "cell_type": "code",
   "execution_count": null,
   "metadata": {},
   "outputs": [],
   "source": [
    "dec6b = data.loc[data['date'] == 20201206]\n",
    "dec6b = dec6b[['positive','negative','totalTestResults','recovered', 'death', \n",
    "              'probableCases','hospitalizedCurrently',\n",
    "             'negativeRegularScore','positiveScore','deathIncrease',\n",
    "              'totalTestsAntibody','dataQualityGrade', 'deathProbable']]\n",
    "dec6b = dec6b.dropna()\n",
    "dec6b = dec6b[:4]\n",
    "dec6b.T"
   ]
  },
  {
   "cell_type": "code",
   "execution_count": null,
   "metadata": {},
   "outputs": [],
   "source": [
    "dec6.to_csv('/Users/markomiholjcic/Documents/GitHub/ArchetypalAnalysis/data/COVID19.csv', index = False)"
   ]
  },
  {
   "cell_type": "code",
   "execution_count": null,
   "metadata": {},
   "outputs": [],
   "source": [
    "dec6b.to_csv('/Users/markomiholjcic/Documents/GitHub/ArchetypalAnalysis/data/COVID19BIG.csv', index = False)"
   ]
  },
  {
   "cell_type": "code",
   "execution_count": null,
   "metadata": {},
   "outputs": [],
   "source": [
    "dec6.to_csv('/Users/u0984549/Documents/GitHub/ArchetypalAnalysis/data/COVID19.csv', index = False)"
   ]
  },
  {
   "cell_type": "code",
   "execution_count": null,
   "metadata": {},
   "outputs": [],
   "source": [
    "U = np.array([1,2,3])\n",
    "X = np.array([[2,3,4,5], [5,6,7,8], [1,4,5,6]])\n",
    "\n",
    "print(X)\n",
    "print(X.T)\n",
    "\n",
    "#(X[:, U] * X[:, U])"
   ]
  },
  {
   "cell_type": "code",
   "execution_count": null,
   "metadata": {},
   "outputs": [],
   "source": [
    "np.dot(X, X.T)"
   ]
  },
  {
   "cell_type": "code",
   "execution_count": null,
   "metadata": {},
   "outputs": [],
   "source": [
    "repmat(np.mat(np.diag(X)).T, 1, 5)"
   ]
  },
  {
   "cell_type": "code",
   "execution_count": null,
   "metadata": {},
   "outputs": [],
   "source": [
    "repmat(np.mat(np.diag(X)), 5, 1)"
   ]
  },
  {
   "cell_type": "code",
   "execution_count": null,
   "metadata": {},
   "outputs": [],
   "source": [
    "int(np.ceil(5 * np.random.rand()))"
   ]
  },
  {
   "cell_type": "code",
   "execution_count": null,
   "metadata": {},
   "outputs": [],
   "source": [
    "len(range(0,5))"
   ]
  },
  {
   "cell_type": "code",
   "execution_count": null,
   "metadata": {},
   "outputs": [],
   "source": [
    "np.array(range(5))"
   ]
  },
  {
   "cell_type": "code",
   "execution_count": null,
   "metadata": {},
   "outputs": [],
   "source": [
    "t = np.diag(X)\n",
    "print(t)\n",
    "np.where(t != 2)[0]"
   ]
  },
  {
   "cell_type": "code",
   "execution_count": null,
   "metadata": {},
   "outputs": [],
   "source": [
    "repmat(np.diag(X), 5, 1)"
   ]
  },
  {
   "cell_type": "code",
   "execution_count": null,
   "metadata": {},
   "outputs": [],
   "source": [
    "X[:,U]*X[:,U]"
   ]
  },
  {
   "cell_type": "code",
   "execution_count": null,
   "metadata": {},
   "outputs": [],
   "source": [
    "ind_t = 2\n",
    "ind_t[0]"
   ]
  },
  {
   "cell_type": "code",
   "execution_count": null,
   "metadata": {},
   "outputs": [],
   "source": [
    "X"
   ]
  },
  {
   "cell_type": "code",
   "execution_count": null,
   "metadata": {},
   "outputs": [],
   "source": [
    "X[[ind_t],:] * X[ind_t]"
   ]
  },
  {
   "cell_type": "code",
   "execution_count": null,
   "metadata": {},
   "outputs": [],
   "source": [
    "np(X + X[ind_t])"
   ]
  },
  {
   "cell_type": "code",
   "execution_count": null,
   "metadata": {},
   "outputs": [],
   "source": [
    "np.lib.scimath.sqrt(X + X[ind_t])"
   ]
  },
  {
   "cell_type": "code",
   "execution_count": null,
   "metadata": {},
   "outputs": [],
   "source": [
    "Kt = np.array([[1,2], [5,6], [8,9]])\n",
    "Kt = pd.DataFrame(Kt)\n",
    "Kt.to_csv('/Users/markomiholjcic/Documents/GitHub/ArchetypalAnalysis/data/small.csv', index = False)"
   ]
  },
  {
   "cell_type": "code",
   "execution_count": null,
   "metadata": {},
   "outputs": [],
   "source": [
    "e = np.ones((4, 1))\n",
    "e"
   ]
  },
  {
   "cell_type": "code",
   "execution_count": null,
   "metadata": {},
   "outputs": [],
   "source": [
    "CtXtXC = [2,3]\n",
    "S = [3,4]\n",
    "XCtX = [1,1]\n",
    "SST = 5\n",
    "J = 5\n",
    "g = (np.dot(CtXtXC, S) - XCtX) / (SST / J)\n",
    "g"
   ]
  },
  {
   "cell_type": "code",
   "execution_count": null,
   "metadata": {},
   "outputs": [],
   "source": [
    "a = np.arange(10)\n",
    "a.clip(min=5)"
   ]
  },
  {
   "cell_type": "code",
   "execution_count": null,
   "metadata": {},
   "outputs": [],
   "source": [
    "a = range(2)\n",
    "print(a)"
   ]
  },
  {
   "cell_type": "code",
   "execution_count": null,
   "metadata": {},
   "outputs": [],
   "source": [
    "X = np.matrix([[1, 2, 3],\n",
    "    [4, 5, 6], [7,8,9]])\n",
    "U = [0,1,2]\n",
    "print(U)\n",
    "print(X)\n",
    "print(X[:, U])"
   ]
  },
  {
   "cell_type": "code",
   "execution_count": null,
   "metadata": {},
   "outputs": [],
   "source": [
    "np.sum(np.multiply(X[:, U],X[:, U]))"
   ]
  },
  {
   "cell_type": "code",
   "execution_count": null,
   "metadata": {},
   "outputs": [],
   "source": [
    "[int(np.ceil(len(U) * np.random.rand()))]"
   ]
  },
  {
   "cell_type": "code",
   "execution_count": null,
   "metadata": {},
   "outputs": [],
   "source": [
    "noc = 3\n",
    "I = [1,2]\n",
    "i = [3]\n",
    "j = 3"
   ]
  },
  {
   "cell_type": "code",
   "execution_count": null,
   "metadata": {},
   "outputs": [],
   "source": [
    "len(I)"
   ]
  },
  {
   "cell_type": "code",
   "execution_count": null,
   "metadata": {},
   "outputs": [],
   "source": [
    "Kt = np.array([[1,2], [5,6], [8,9]])\n",
    "print(Kt)\n",
    "i = [1]\n",
    "[I,J] = Kt.shape\n",
    "print(I)\n",
    "print(J)"
   ]
  },
  {
   "cell_type": "code",
   "execution_count": null,
   "metadata": {},
   "outputs": [],
   "source": [
    "index = np.array(range(J))\n",
    "index[i] = -1\n",
    "index\n",
    "\n",
    "ind_t = i\n",
    "sum_dist = np.zeros((1, J), np.complex128)\n",
    "sum_dist"
   ]
  },
  {
   "cell_type": "code",
   "execution_count": null,
   "metadata": {},
   "outputs": [],
   "source": [
    "np.random.random((noc, len(U)))"
   ]
  },
  {
   "cell_type": "code",
   "execution_count": null,
   "metadata": {},
   "outputs": [],
   "source": [
    "result = Kt**2\n",
    "result"
   ]
  },
  {
   "cell_type": "code",
   "execution_count": null,
   "metadata": {},
   "outputs": [],
   "source": [
    "Kt2 = np.sum(Kt**2, axis=0)\n",
    "print(Kt2)\n"
   ]
  },
  {
   "cell_type": "code",
   "execution_count": null,
   "metadata": {},
   "outputs": [],
   "source": [
    "Kq = np.dot(Kt[:, i[0]], Kt)\n",
    "Kq"
   ]
  },
  {
   "cell_type": "code",
   "execution_count": null,
   "metadata": {},
   "outputs": [],
   "source": [
    "np.lib.scimath.sqrt(Kt2 - 2 * Kq + Kt2[i[0]])"
   ]
  },
  {
   "cell_type": "code",
   "execution_count": null,
   "metadata": {},
   "outputs": [],
   "source": [
    "sum_dist -= np.lib.scimath.sqrt(Kt2 - 2 * Kq + Kt2[i[0]])\n",
    "sum_dist"
   ]
  },
  {
   "cell_type": "code",
   "execution_count": null,
   "metadata": {},
   "outputs": [],
   "source": [
    "index[i[0]] = i[0]\n",
    "index"
   ]
  },
  {
   "cell_type": "code",
   "execution_count": null,
   "metadata": {},
   "outputs": [],
   "source": [
    "i = i[1:]\n",
    "i"
   ]
  },
  {
   "cell_type": "code",
   "execution_count": null,
   "metadata": {},
   "outputs": [],
   "source": [
    "index"
   ]
  },
  {
   "cell_type": "code",
   "execution_count": null,
   "metadata": {},
   "outputs": [],
   "source": [
    "t = np.where(index != 3)[0]\n",
    "t"
   ]
  },
  {
   "cell_type": "code",
   "execution_count": null,
   "metadata": {},
   "outputs": [],
   "source": [
    "Kt[:, ind_t].T"
   ]
  },
  {
   "cell_type": "code",
   "execution_count": null,
   "metadata": {},
   "outputs": [],
   "source": [
    "Kq = np.dot(Kt[:, ind_t].T, Kt)\n",
    "Kq"
   ]
  },
  {
   "cell_type": "code",
   "execution_count": null,
   "metadata": {},
   "outputs": [],
   "source": [
    "np.dot(np.ones((noc, 1)), np.mat(np.sum(S, axis=0)))"
   ]
  },
  {
   "cell_type": "code",
   "execution_count": null,
   "metadata": {},
   "outputs": [],
   "source": [
    "np.ones((noc, 1))"
   ]
  },
  {
   "cell_type": "code",
   "execution_count": null,
   "metadata": {},
   "outputs": [],
   "source": [
    "np.sum(S, axis=0)"
   ]
  },
  {
   "cell_type": "code",
   "execution_count": null,
   "metadata": {},
   "outputs": [],
   "source": [
    "np.mat(np.sum(S, axis=0))"
   ]
  },
  {
   "cell_type": "code",
   "execution_count": null,
   "metadata": {},
   "outputs": [],
   "source": [
    "ind"
   ]
  },
  {
   "cell_type": "code",
   "execution_count": null,
   "metadata": {},
   "outputs": [],
   "source": [
    "S"
   ]
  },
  {
   "cell_type": "code",
   "execution_count": null,
   "metadata": {},
   "outputs": [],
   "source": [
    "np.sum(S, axis=0)"
   ]
  },
  {
   "cell_type": "code",
   "execution_count": null,
   "metadata": {},
   "outputs": [],
   "source": [
    "np.sum(S, axis=1)"
   ]
  },
  {
   "cell_type": "code",
   "execution_count": null,
   "metadata": {},
   "outputs": [],
   "source": [
    "l = [1,9,3,4,5,6]\n",
    "max(zip(range(len(l)),l), key = lambda x:x[1])"
   ]
  },
  {
   "cell_type": "code",
   "execution_count": null,
   "metadata": {},
   "outputs": [],
   "source": [
    "sum_dist"
   ]
  },
  {
   "cell_type": "code",
   "execution_count": null,
   "metadata": {},
   "outputs": [],
   "source": [
    "index"
   ]
  },
  {
   "cell_type": "code",
   "execution_count": null,
   "metadata": {},
   "outputs": [],
   "source": [
    "t = np.where(index != -1)[0]\n",
    "t"
   ]
  },
  {
   "cell_type": "code",
   "execution_count": null,
   "metadata": {},
   "outputs": [],
   "source": [
    "sum_dist = np.zeros((1,5), np.complex128)\n",
    "sum_dist[0][0] += 2\n",
    "sum_dist[0][4] += 5\n",
    "\n",
    "print(sum_dist)\n",
    "sum_dist[:,[2,3,4]][0].real\n"
   ]
  },
  {
   "cell_type": "code",
   "execution_count": null,
   "metadata": {},
   "outputs": [],
   "source": [
    "index = np.array([0,2,-1,4,5])"
   ]
  },
  {
   "cell_type": "code",
   "execution_count": null,
   "metadata": {},
   "outputs": [],
   "source": [
    "i = 2\n",
    "i"
   ]
  },
  {
   "cell_type": "code",
   "execution_count": null,
   "metadata": {},
   "outputs": [],
   "source": [
    "t = np.where(index != -1)[0]"
   ]
  },
  {
   "cell_type": "code",
   "execution_count": null,
   "metadata": {},
   "outputs": [],
   "source": [
    "sum_dist"
   ]
  },
  {
   "cell_type": "code",
   "execution_count": null,
   "metadata": {},
   "outputs": [],
   "source": [
    "max(sum_dist[:,[0,1,3,4]][0].real)"
   ]
  },
  {
   "cell_type": "code",
   "execution_count": null,
   "metadata": {},
   "outputs": [],
   "source": [
    "vals"
   ]
  },
  {
   "cell_type": "code",
   "execution_count": null,
   "metadata": {},
   "outputs": [],
   "source": [
    "print(pd.__version__)"
   ]
  },
  {
   "cell_type": "code",
   "execution_count": null,
   "metadata": {},
   "outputs": [],
   "source": [
    "from scipy.sparse import csr_matrix"
   ]
  },
  {
   "cell_type": "code",
   "execution_count": null,
   "metadata": {},
   "outputs": [],
   "source": [
    "j = [0,1,2]"
   ]
  },
  {
   "cell_type": "code",
   "execution_count": null,
   "metadata": {},
   "outputs": [],
   "source": [
    "i = [1,2,0]"
   ]
  },
  {
   "cell_type": "code",
   "execution_count": null,
   "metadata": {},
   "outputs": [],
   "source": [
    "csr_matrix((np.ones(len(i)), (i, j)), shape=(5, 3)).todense()"
   ]
  },
  {
   "cell_type": "code",
   "execution_count": null,
   "metadata": {},
   "outputs": [],
   "source": [
    "U"
   ]
  },
  {
   "cell_type": "code",
   "execution_count": null,
   "metadata": {},
   "outputs": [],
   "source": [
    "np.log(np.random.random((3, len(U))))"
   ]
  },
  {
   "cell_type": "code",
   "execution_count": null,
   "metadata": {},
   "outputs": [],
   "source": [
    "X = np.ones((3, 5))*2\n",
    "S = np.ones((3, 5))*8\n",
    "g = S*X\n",
    "g"
   ]
  },
  {
   "cell_type": "code",
   "execution_count": null,
   "metadata": {},
   "outputs": [],
   "source": [
    "np.sum(XCtX.A * S.A)"
   ]
  },
  {
   "cell_type": "code",
   "execution_count": null,
   "metadata": {},
   "outputs": [],
   "source": [
    "e = np.ones((5, 1))\n",
    "e is array"
   ]
  },
  {
   "cell_type": "code",
   "execution_count": null,
   "metadata": {},
   "outputs": [],
   "source": [
    "r = np.sum(g * g, axis=0)\n",
    "r.shape"
   ]
  },
  {
   "cell_type": "code",
   "execution_count": null,
   "metadata": {},
   "outputs": [],
   "source": [
    "e * np.sum(g * g, axis=0)"
   ]
  },
  {
   "cell_type": "code",
   "execution_count": null,
   "metadata": {},
   "outputs": [],
   "source": []
  },
  {
   "cell_type": "code",
   "execution_count": null,
   "metadata": {},
   "outputs": [],
   "source": []
  },
  {
   "cell_type": "code",
   "execution_count": null,
   "metadata": {},
   "outputs": [],
   "source": []
  },
  {
   "cell_type": "code",
   "execution_count": null,
   "metadata": {},
   "outputs": [],
   "source": [
    "#dec6_wo_st = dec6[['positive','negative','totalTestResults','recovered', 'death']]\n",
    "dec6_wo_st = dec6.to_numpy()\n",
    "dec6_wo_st"
   ]
  },
  {
   "cell_type": "code",
   "execution_count": null,
   "metadata": {},
   "outputs": [],
   "source": [
    "XC, S, C, SSE, varexpl = PCHA(dec6_wo_st, noc=3, I = None, delta=0.1)"
   ]
  },
  {
   "cell_type": "code",
   "execution_count": null,
   "metadata": {},
   "outputs": [],
   "source": [
    "XC"
   ]
  },
  {
   "cell_type": "code",
   "execution_count": null,
   "metadata": {},
   "outputs": [],
   "source": [
    "np.random.random((3,5))"
   ]
  },
  {
   "cell_type": "code",
   "execution_count": null,
   "metadata": {},
   "outputs": [],
   "source": [
    "np.ones((3,5))-0.5"
   ]
  },
  {
   "cell_type": "code",
   "execution_count": null,
   "metadata": {},
   "outputs": [],
   "source": [
    "def furthest_sum(K, noc, i, exclude=[]):\n",
    "    \n",
    "    def max_ind_val(l):\n",
    "        return max(zip(range(len(l)), l), key=lambda x: x[1])\n",
    "    \n",
    "    I, J = K.shape\n",
    "    #print(I,J)\n",
    "    index = np.array(range(J))\n",
    "    index[exclude] = 0\n",
    "    index[i] = -1\n",
    "    ind_t = i\n",
    "    sum_dist = np.zeros((1, J), np.complex128)\n",
    "\n",
    "    if J > noc * I:\n",
    "        Kt = K\n",
    "        Kt2 = np.sum(Kt**2, axis=0)\n",
    "        for k in range(1, noc + 11):\n",
    "            if k > noc - 1:\n",
    "                Kq = np.dot(Kt[:, i[0]], Kt)\n",
    "                #Kt_shape = Kt.shape\n",
    "                #Kts = Kt[:, i[0]]\n",
    "                #Ktsp = Kts.shape\n",
    "                #Kq_shape = Kq.shape\n",
    "                #print(Kt_shape,Ktsp,Kq_shape)\n",
    "                sum_dist -= np.lib.scimath.sqrt(Kt2 - 2 * Kq + Kt2[i[0]])\n",
    "                index[i[0]] = i[0]\n",
    "                i = i[1:]\n",
    "            t = np.where(index != -1)[0]\n",
    "            Kq = np.dot(Kt[:, ind_t].T, Kt)\n",
    "            sum_dist += np.lib.scimath.sqrt(Kt2 - 2 * Kq + Kt2[ind_t])\n",
    "            #print(Kt2)\n",
    "            ind, val = max_ind_val(sum_dist[:, t][0].real)\n",
    "            ind_t = t[ind]\n",
    "            i.append(ind_t)\n",
    "            index[ind_t] = -1\n",
    "    else:\n",
    "        if I != J or np.sum(K - K.T) != 0:  # Generate kernel if K not one\n",
    "            Kt = K\n",
    "            K = np.dot(Kt.T, Kt)\n",
    "            K = np.lib.scimath.sqrt(\n",
    "                repmat(np.diag(K), J, 1) - 2 * K + \\\n",
    "                repmat(np.mat(np.diag(K)).T, 1, J)\n",
    "            )\n",
    "\n",
    "        Kt2 = np.diag(K)  # Horizontal\n",
    "        for k in range(1, noc + 11):\n",
    "            if k > noc - 1:\n",
    "                sum_dist -= np.lib.scimath.sqrt(Kt2 - 2 * K[i[0], :] + Kt2[i[0]])\n",
    "                index[i[0]] = i[0]\n",
    "                i = i[1:]\n",
    "            t = np.where(index != -1)[0]\n",
    "            sum_dist += np.lib.scimath.sqrt(Kt2 - 2 * K[ind_t, :] + Kt2[ind_t])\n",
    "            ind, val = max_ind_val(sum_dist[:, t][0].real)\n",
    "            ind_t = t[ind]\n",
    "            i.append(ind_t)\n",
    "            index[ind_t] = -1\n",
    "\n",
    "    return i\n"
   ]
  },
  {
   "cell_type": "code",
   "execution_count": null,
   "metadata": {
    "pixiedust": {
     "displayParams": {}
    },
    "scrolled": false
   },
   "outputs": [],
   "source": [
    "\"\"\"Principal Convex Hull Analysis (PCHA) / Archetypal Analysis.\"\"\"\n",
    "\n",
    "import numpy as np\n",
    "from scipy.sparse import csr_matrix\n",
    "from datetime import datetime as dt\n",
    "import time\n",
    "\n",
    "#from py_pcha.furthest_sum import furthest_sum\n",
    "\n",
    "\n",
    "def PCHAm(X, noc, I=None, U=None, delta=0, verbose=False, conv_crit=1E-6, maxiter=500):\n",
    "    \"\"\"Return archetypes of dataset.\n",
    "    Note: Commonly data is formatted to have shape (examples, dimensions).\n",
    "    This function takes input and returns output of the transposed shape,\n",
    "    (dimensions, examples).\n",
    "    Parameters\n",
    "    ----------\n",
    "    X : numpy.2darray\n",
    "        Data matrix in which to find archetypes\n",
    "    noc : int\n",
    "        Number of archetypes to find\n",
    "    I : 1d-array\n",
    "        Entries of X to use for dictionary in C (optional)\n",
    "    U : 1d-array\n",
    "        Entries of X to model in S (optional)\n",
    "    Output\n",
    "    ------\n",
    "    XC : numpy.2darray\n",
    "        I x noc feature matrix (i.e. XC=X[:,I]*C forming the archetypes)\n",
    "    S : numpy.2darray\n",
    "        noc x length(U) matrix, S>=0 |S_j|_1=1\n",
    "    C : numpy.2darray\n",
    "        noc x length(U) matrix, S>=0 |S_j|_1=1\n",
    "    SSE : float\n",
    "        Sum of Squared Errors\n",
    "    varexlp : float\n",
    "        Percent variation explained by the model\n",
    "    \"\"\"\n",
    "    def S_update(S, XCtX, CtXtXC, muS, SST, SSE, niter):\n",
    "        \"\"\"Update S for one iteration of the algorithm.\"\"\"\n",
    "        noc, J = S.shape\n",
    "        e = np.ones((noc, 1))\n",
    "        #print(e.ndim)\n",
    "        for k in range(niter):\n",
    "            SSE_old = SSE\n",
    "            #print(SSE_old)\n",
    "            g = (np.dot(CtXtXC, S) - XCtX) / (SST / J)\n",
    "            #print(g)\n",
    "            g = g - e * np.sum(g.A * S.A, axis=0)\n",
    "            #print(g)\n",
    "\n",
    "            S_old = S\n",
    "            #print(S_old)\n",
    "            while True:\n",
    "                S = (S_old - g * muS).clip(min=0)\n",
    "                S = S / np.dot(e, np.sum(S, axis=0))\n",
    "                #print(S)\n",
    "                SSt = S * S.T\n",
    "                #print(SSt)\n",
    "                SSE = SST - 2 * np.sum(XCtX.A * S.A) + np.sum(CtXtXC.A * SSt.A)\n",
    "                #print(SSE)\n",
    "                #print(SSE_old)\n",
    "                if SSE <= SSE_old * (1 + 1e-9):\n",
    "                    muS = muS * 1.2\n",
    "                    #print(muS)\n",
    "                    break\n",
    "                else:\n",
    "                    muS = muS / 2\n",
    "\n",
    "        return S, SSE, muS, SSt\n",
    "\n",
    "    def C_update(X, XSt, XC, SSt, C, delta, muC, mualpha, SST, SSE, niter=1):\n",
    "        \"\"\"Update C for one iteration of the algorithm.\"\"\"\n",
    "        J, nos = C.shape\n",
    "\n",
    "        if delta != 0:\n",
    "            alphaC = np.sum(C, axis=0).A[0]\n",
    "            C = np.dot(C, np.diag(1 / alphaC))\n",
    "\n",
    "        #print(C)\n",
    "        e = np.ones((J, 1))\n",
    "        XtXSt = np.dot(X.T, XSt)\n",
    "        #print(XtXSt)\n",
    "\n",
    "        for k in range(niter):\n",
    "\n",
    "            # Update C\n",
    "            SSE_old = SSE\n",
    "            #print(SSE_old)\n",
    "            g = (np.dot(X.T, np.dot(XC, SSt)) - XtXSt) / SST\n",
    "            #print(g)\n",
    "\n",
    "            if delta != 0:\n",
    "                g = np.dot(g, np.diag(alphaC))\n",
    "            g = g.A - e * np.sum(g.A * C.A, axis=0)\n",
    "            #print(g)\n",
    "            \n",
    "            C_old = C\n",
    "            while True:\n",
    "                C = (C_old - muC * g).clip(min=0)\n",
    "                #print(C)\n",
    "                nC = np.sum(C, axis=0) + np.finfo(float).eps\n",
    "                C = np.dot(C, np.diag(1 / nC.A[0]))\n",
    "                #print(C)\n",
    "                \n",
    "                if delta != 0:\n",
    "                    Ct = C * np.diag(alphaC)\n",
    "                else:\n",
    "                    Ct = C\n",
    "\n",
    "                XC = np.dot(X, Ct)\n",
    "                CtXtXC = np.dot(XC.T, XC)\n",
    "                #print(CtXtXC)\n",
    "                SSE = SST - 2 * np.sum(XC.A * XSt.A) + np.sum(CtXtXC.A * SSt.A)\n",
    "                #print(SSE)\n",
    "                \n",
    "                if SSE <= SSE_old * (1 + 1e-9):\n",
    "                    muC = muC * 1.2\n",
    "                    break\n",
    "                else:\n",
    "                    muC = muC / 2\n",
    "\n",
    "            # Update alphaC\n",
    "            SSE_old = SSE\n",
    "            if delta != 0:\n",
    "                g = (np.diag(CtXtXC * SSt).T / alphaC - np.sum(C.A * XtXSt.A)) / (SST * J)\n",
    "                #print(g)\n",
    "                alphaC_old = alphaC\n",
    "                while True:\n",
    "                    alphaC = alphaC_old - mualpha * g\n",
    "                    alphaC[alphaC < 1 - delta] = 1 - delta\n",
    "                    alphaC[alphaC > 1 + delta] = 1 + delta\n",
    "\n",
    "                    XCt = np.dot(XC, np.diag(alphaC / alphaC_old))\n",
    "                    CtXtXC = np.dot(XCt.T, XCt)\n",
    "                    SSE = SST - 2 * np.sum(XCt.A * XSt.A) + np.sum(CtXtXC.A * SSt.A)\n",
    "                    #print(SSE)\n",
    "                    \n",
    "                    if SSE <= SSE_old * (1 + 1e-9):\n",
    "                        mualpha = mualpha * 1.2\n",
    "                        XC = XCt\n",
    "                        break\n",
    "                    else:\n",
    "                        mualpha = mualpha / 2\n",
    "\n",
    "        if delta != 0:\n",
    "            C = C * np.diag(alphaC)\n",
    "\n",
    "        return C, SSE, muC, mualpha, CtXtXC, XC\n",
    "\n",
    "    N, M = X.shape\n",
    "    \n",
    "\n",
    "    if I is None:\n",
    "        I = range(M)\n",
    "    if U is None:\n",
    "        U = range(M)\n",
    "        \n",
    "    #print(X[:,U])\n",
    "\n",
    "    SST = np.sum(X[:, U] * X[:, U])\n",
    "    #print(SST)\n",
    "    \n",
    "    #print(X[:,I])\n",
    "\n",
    "    #Initialize C\n",
    "    try:\n",
    "       i = furthest_sum(X[:, I], noc, [int(np.ceil(len(I) * np.random.rand()))])\n",
    "    except IndexError:\n",
    "        class InitializationException(Exception): pass\n",
    "        raise InitializationException(\"Initialization does not converge. Too few examples in dataset.\")\n",
    "\n",
    "    #i = [1,2,0]\n",
    "        \n",
    "    j = range(noc)\n",
    "    C = csr_matrix((np.ones(len(i)), (i, j)), shape=(len(I), noc)).todense()\n",
    "    #print(C)\n",
    "    \n",
    "    XC = np.dot(X[:, I], C)\n",
    "    #print(XC)\n",
    "\n",
    "    muS, muC, mualpha = 1, 1, 1\n",
    "\n",
    "    # Initialise S\n",
    "    XCtX = np.dot(XC.T, X[:, U])\n",
    "    #print(XCtX)\n",
    "    CtXtXC = np.dot(XC.T, XC)\n",
    "    #print(CtXtXC)\n",
    "    S = -np.log(np.random.random((noc, len(U))))\n",
    "    #S = -np.log((np.ones((3,48))-0.5))\n",
    "    #print(S)\n",
    "    S = S / np.dot(np.ones((noc, 1)), np.mat(np.sum(S, axis=0)))\n",
    "    #print(S)\n",
    "    SSt = np.dot(S, S.T)\n",
    "    SSE = SST - 2 * np.sum(XCtX.A * S.A) + np.sum(CtXtXC.A * SSt.A)\n",
    "    #print(SSE)\n",
    "    S, SSE, muS, SSt = S_update(S, XCtX, CtXtXC, muS, SST, SSE, 25)\n",
    "    #print(S, SSE, muS, SSt)\n",
    "\n",
    "    # Set PCHA parameters\n",
    "    iter_ = 0\n",
    "    dSSE = np.inf\n",
    "    t1 = dt.now()\n",
    "    varexpl = (SST - SSE) / SST\n",
    "    #print(varexpl)\n",
    "\n",
    "    if verbose:\n",
    "        print('\\nPrincipal Convex Hull Analysis / Archetypal Analysis')\n",
    "        print('A ' + str(noc) + ' component model will be fitted')\n",
    "        print('To stop algorithm press control C\\n')\n",
    "\n",
    "    dheader = '%10s | %10s | %10s | %10s | %10s | %10s | %10s | %10s' % ('Iteration', 'Expl. var.', 'Cost func.', 'Delta SSEf.', 'muC', 'mualpha', 'muS', ' Time(s)   ')\n",
    "    dline = '-----------+------------+------------+-------------+------------+------------+------------+------------+'\n",
    "\n",
    "    while np.abs(dSSE) >= conv_crit * np.abs(SSE) and iter_ < maxiter and varexpl < 0.9999:\n",
    "        if verbose and iter_ % 100 == 0:\n",
    "            print(dline)\n",
    "            print(dheader)\n",
    "            print(dline)\n",
    "        told = t1\n",
    "        iter_ += 1\n",
    "        SSE_old = SSE\n",
    "\n",
    "        # C (and alpha) update\n",
    "        XSt = np.dot(X[:, U], S.T)\n",
    "        #print(XSt)\n",
    "        C, SSE, muC, mualpha, CtXtXC, XC = C_update(\n",
    "            X[:, I], XSt, XC, SSt, C, delta, muC, mualpha, SST, SSE, 10\n",
    "        )\n",
    "        #print(C,SSE,muC,mualpha,CtXtXC,XC)\n",
    "\n",
    "        # S update\n",
    "        XCtX = np.dot(XC.T, X[:, U])\n",
    "        #print(XCtX)\n",
    "        S, SSE, muS, SSt = S_update(\n",
    "            S, XCtX, CtXtXC, muS, SST, SSE, 10\n",
    "        )\n",
    "        #print(S,SSE,muS,SSt)\n",
    "\n",
    "        # Evaluate and display iteration\n",
    "        dSSE = SSE_old - SSE\n",
    "        #print(dSSE)\n",
    "        t1 = dt.now()\n",
    "        if iter_ % 1 == 0:\n",
    "            time.sleep(0.000001)\n",
    "            varexpl = (SST - SSE) / SST\n",
    "            if verbose:\n",
    "                print('%10.0f | %10.4f | %10.4e | %10.4e | %10.4e | %10.4e | %10.4e | %10.4f \\n' % (iter_, varexpl, SSE, dSSE/np.abs(SSE), muC, mualpha, muS, (t1-told).seconds))\n",
    "\n",
    "    # Display final iteration\n",
    "    varexpl = (SST - SSE) / SST\n",
    "    #print(varexpl)\n",
    "    if verbose:\n",
    "        print(dline)\n",
    "        print(dline)\n",
    "        print('%10.0f | %10.4f | %10.4e | %10.4e | %10.4e | %10.4e | %10.4e | %10.4f \\n' % (iter_, varexpl, SSE, dSSE/np.abs(SSE), muC, mualpha, muS, (t1-told).seconds))\n",
    "\n",
    "    #print(S)\n",
    "    #print(C)\n",
    "    #print(XC)\n",
    "        \n",
    "    # Sort components according to importance\n",
    "    ind, vals = zip(\n",
    "        *sorted(enumerate(np.sum(S, axis=1)), key=lambda x: x[0], reverse=1)\n",
    "    )\n",
    "    S = S[ind, :]\n",
    "    C = C[:, ind]\n",
    "    XC = XC[:, ind]\n",
    "\n",
    "    return XC, S, C, SSE, varexpl\n",
    "\n",
    "XC2, S2, C2, SSE2, varexpl2 = PCHAm(dec6_wo_st, noc=3, I = None, delta=0)"
   ]
  },
  {
   "cell_type": "code",
   "execution_count": null,
   "metadata": {},
   "outputs": [],
   "source": [
    "S_matrix_pd = pd.DataFrame(S2.T)"
   ]
  },
  {
   "cell_type": "code",
   "execution_count": null,
   "metadata": {},
   "outputs": [],
   "source": [
    "dec6_state = dec6_state.reset_index()\n",
    "dec6_state = dec6_state['state']\n",
    "dec6_state\n",
    "S_pd = pd.concat([dec6_state, S_matrix_pd], axis=1)\n",
    "S_pd\n",
    "#S_pd = S_pd.set_index('state')"
   ]
  },
  {
   "cell_type": "code",
   "execution_count": null,
   "metadata": {},
   "outputs": [],
   "source": [
    "S_pd.to_csv('/Users/markomiholjcic/Documents/GitHub/ArchetypalAnalysis/data/SdataFrame.csv', index = False)"
   ]
  },
  {
   "cell_type": "code",
   "execution_count": null,
   "metadata": {},
   "outputs": [],
   "source": [
    "dec6_variables = dec6_variables.rename(columns={0: \"var\"})\n",
    "dec6_variables"
   ]
  },
  {
   "cell_type": "code",
   "execution_count": null,
   "metadata": {},
   "outputs": [],
   "source": [
    "XC2_pd = pd.DataFrame(XC2)\n",
    "XC2_pd = pd.concat([dec6_variables,XC2_pd], axis = 1)\n",
    "#XC2_pd = XC2_pd.set_index(\"var\")\n",
    "XC2_pd"
   ]
  },
  {
   "cell_type": "code",
   "execution_count": null,
   "metadata": {},
   "outputs": [],
   "source": [
    "XC2_pd.to_csv('/Users/markomiholjcic/Documents/GitHub/ArchetypalAnalysis/data/XC.csv', index = False)"
   ]
  },
  {
   "cell_type": "code",
   "execution_count": null,
   "metadata": {},
   "outputs": [],
   "source": []
  },
  {
   "cell_type": "code",
   "execution_count": null,
   "metadata": {
    "scrolled": true
   },
   "outputs": [],
   "source": [
    "XC, S, C, SSE, varexpl = PCHA(dec6_wo_st, noc=3, I = None, delta=0)"
   ]
  },
  {
   "cell_type": "code",
   "execution_count": null,
   "metadata": {},
   "outputs": [],
   "source": [
    "S[:,1]"
   ]
  },
  {
   "cell_type": "code",
   "execution_count": null,
   "metadata": {},
   "outputs": [],
   "source": [
    "ans = 0\n",
    "\n",
    "a = XC[:,0] - XC2[:,1]\n",
    "ans = ans + a\n",
    "\n",
    "ans2 = 0\n",
    "\n",
    "a = XC[:,1] - XC2[:,2]\n",
    "ans2 = ans2 + a\n",
    "\n",
    "ans3 = 0\n",
    "\n",
    "a = XC[:,2] - XC2[:,0]\n",
    "ans = ans3 + a\n",
    "    \n",
    "print(ans, ans2, ans3)"
   ]
  },
  {
   "cell_type": "code",
   "execution_count": null,
   "metadata": {},
   "outputs": [],
   "source": [
    "ans = 0\n",
    "\n",
    "for i in range(len(S)):\n",
    "    a = S[i] - S2[i]\n",
    "    ans = ans + a\n",
    "    \n",
    "print(ans)"
   ]
  },
  {
   "cell_type": "code",
   "execution_count": null,
   "metadata": {},
   "outputs": [],
   "source": [
    "ans = 0\n",
    "\n",
    "for i in range(len(C)):\n",
    "    a = C[i] - C2[i]\n",
    "    ans = ans + a\n",
    "    \n",
    "print(ans)"
   ]
  },
  {
   "cell_type": "code",
   "execution_count": null,
   "metadata": {},
   "outputs": [],
   "source": []
  }
 ],
 "metadata": {
  "kernelspec": {
   "display_name": "Python 3",
   "language": "python",
   "name": "python3"
  },
  "language_info": {
   "codemirror_mode": {
    "name": "ipython",
    "version": 3
   },
   "file_extension": ".py",
   "mimetype": "text/x-python",
   "name": "python",
   "nbconvert_exporter": "python",
   "pygments_lexer": "ipython3",
   "version": "3.8.3"
  }
 },
 "nbformat": 4,
 "nbformat_minor": 4
}
