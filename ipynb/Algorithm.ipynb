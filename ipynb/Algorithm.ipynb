{
 "cells": [
  {
   "cell_type": "code",
   "execution_count": 1,
   "metadata": {},
   "outputs": [],
   "source": [
    "import pandas as pd\n",
    "import numpy as np\n",
    "#import py_pcha\n",
    "#from py_pcha import PCHA\n",
    "import matplotlib.pyplot as plt\n",
    "from numpy.matlib import repmat"
   ]
  },
  {
   "cell_type": "code",
   "execution_count": 2,
   "metadata": {},
   "outputs": [
    {
     "data": {
      "text/html": [
       "<div>\n",
       "<style scoped>\n",
       "    .dataframe tbody tr th:only-of-type {\n",
       "        vertical-align: middle;\n",
       "    }\n",
       "\n",
       "    .dataframe tbody tr th {\n",
       "        vertical-align: top;\n",
       "    }\n",
       "\n",
       "    .dataframe thead th {\n",
       "        text-align: right;\n",
       "    }\n",
       "</style>\n",
       "<table border=\"1\" class=\"dataframe\">\n",
       "  <thead>\n",
       "    <tr style=\"text-align: right;\">\n",
       "      <th></th>\n",
       "      <th>date</th>\n",
       "      <th>state</th>\n",
       "      <th>positive</th>\n",
       "      <th>probableCases</th>\n",
       "      <th>negative</th>\n",
       "      <th>pending</th>\n",
       "      <th>totalTestResultsSource</th>\n",
       "      <th>totalTestResults</th>\n",
       "      <th>hospitalizedCurrently</th>\n",
       "      <th>hospitalizedCumulative</th>\n",
       "      <th>...</th>\n",
       "      <th>posNeg</th>\n",
       "      <th>deathIncrease</th>\n",
       "      <th>hospitalizedIncrease</th>\n",
       "      <th>hash</th>\n",
       "      <th>commercialScore</th>\n",
       "      <th>negativeRegularScore</th>\n",
       "      <th>negativeScore</th>\n",
       "      <th>positiveScore</th>\n",
       "      <th>score</th>\n",
       "      <th>grade</th>\n",
       "    </tr>\n",
       "  </thead>\n",
       "  <tbody>\n",
       "    <tr>\n",
       "      <th>0</th>\n",
       "      <td>20201206</td>\n",
       "      <td>AK</td>\n",
       "      <td>35720.0</td>\n",
       "      <td>NaN</td>\n",
       "      <td>1042056.0</td>\n",
       "      <td>NaN</td>\n",
       "      <td>totalTestsViral</td>\n",
       "      <td>1077776.0</td>\n",
       "      <td>164.0</td>\n",
       "      <td>799.0</td>\n",
       "      <td>...</td>\n",
       "      <td>1077776</td>\n",
       "      <td>0</td>\n",
       "      <td>0</td>\n",
       "      <td>7b1d31e2756687bb9259b29195f1db6cdb321ea6</td>\n",
       "      <td>0</td>\n",
       "      <td>0</td>\n",
       "      <td>0</td>\n",
       "      <td>0</td>\n",
       "      <td>0</td>\n",
       "      <td>NaN</td>\n",
       "    </tr>\n",
       "    <tr>\n",
       "      <th>1</th>\n",
       "      <td>20201206</td>\n",
       "      <td>AL</td>\n",
       "      <td>269877.0</td>\n",
       "      <td>45962.0</td>\n",
       "      <td>1421126.0</td>\n",
       "      <td>NaN</td>\n",
       "      <td>totalTestsPeopleViral</td>\n",
       "      <td>1645041.0</td>\n",
       "      <td>1927.0</td>\n",
       "      <td>26331.0</td>\n",
       "      <td>...</td>\n",
       "      <td>1691003</td>\n",
       "      <td>12</td>\n",
       "      <td>0</td>\n",
       "      <td>19454ed8fe28fc0a7948fc0771b2f3c846c1c92e</td>\n",
       "      <td>0</td>\n",
       "      <td>0</td>\n",
       "      <td>0</td>\n",
       "      <td>0</td>\n",
       "      <td>0</td>\n",
       "      <td>NaN</td>\n",
       "    </tr>\n",
       "    <tr>\n",
       "      <th>2</th>\n",
       "      <td>20201206</td>\n",
       "      <td>AR</td>\n",
       "      <td>170924.0</td>\n",
       "      <td>22753.0</td>\n",
       "      <td>1614979.0</td>\n",
       "      <td>NaN</td>\n",
       "      <td>totalTestsViral</td>\n",
       "      <td>1763150.0</td>\n",
       "      <td>1076.0</td>\n",
       "      <td>9401.0</td>\n",
       "      <td>...</td>\n",
       "      <td>1785903</td>\n",
       "      <td>40</td>\n",
       "      <td>21</td>\n",
       "      <td>25fc83bffff5b32ba1a737be8e087fad9f4fde33</td>\n",
       "      <td>0</td>\n",
       "      <td>0</td>\n",
       "      <td>0</td>\n",
       "      <td>0</td>\n",
       "      <td>0</td>\n",
       "      <td>NaN</td>\n",
       "    </tr>\n",
       "    <tr>\n",
       "      <th>3</th>\n",
       "      <td>20201206</td>\n",
       "      <td>AS</td>\n",
       "      <td>0.0</td>\n",
       "      <td>NaN</td>\n",
       "      <td>2140.0</td>\n",
       "      <td>NaN</td>\n",
       "      <td>totalTestsViral</td>\n",
       "      <td>2140.0</td>\n",
       "      <td>NaN</td>\n",
       "      <td>NaN</td>\n",
       "      <td>...</td>\n",
       "      <td>2140</td>\n",
       "      <td>0</td>\n",
       "      <td>0</td>\n",
       "      <td>8c39eec317586b0c34fc2903e6a3891ecb00469e</td>\n",
       "      <td>0</td>\n",
       "      <td>0</td>\n",
       "      <td>0</td>\n",
       "      <td>0</td>\n",
       "      <td>0</td>\n",
       "      <td>NaN</td>\n",
       "    </tr>\n",
       "    <tr>\n",
       "      <th>4</th>\n",
       "      <td>20201206</td>\n",
       "      <td>AZ</td>\n",
       "      <td>364276.0</td>\n",
       "      <td>12590.0</td>\n",
       "      <td>2018813.0</td>\n",
       "      <td>NaN</td>\n",
       "      <td>totalTestsPeopleViral</td>\n",
       "      <td>2370499.0</td>\n",
       "      <td>2977.0</td>\n",
       "      <td>28248.0</td>\n",
       "      <td>...</td>\n",
       "      <td>2383089</td>\n",
       "      <td>25</td>\n",
       "      <td>242</td>\n",
       "      <td>7cf59da9e4bc31d905e179211313d08879880a85</td>\n",
       "      <td>0</td>\n",
       "      <td>0</td>\n",
       "      <td>0</td>\n",
       "      <td>0</td>\n",
       "      <td>0</td>\n",
       "      <td>NaN</td>\n",
       "    </tr>\n",
       "    <tr>\n",
       "      <th>...</th>\n",
       "      <td>...</td>\n",
       "      <td>...</td>\n",
       "      <td>...</td>\n",
       "      <td>...</td>\n",
       "      <td>...</td>\n",
       "      <td>...</td>\n",
       "      <td>...</td>\n",
       "      <td>...</td>\n",
       "      <td>...</td>\n",
       "      <td>...</td>\n",
       "      <td>...</td>\n",
       "      <td>...</td>\n",
       "      <td>...</td>\n",
       "      <td>...</td>\n",
       "      <td>...</td>\n",
       "      <td>...</td>\n",
       "      <td>...</td>\n",
       "      <td>...</td>\n",
       "      <td>...</td>\n",
       "      <td>...</td>\n",
       "      <td>...</td>\n",
       "    </tr>\n",
       "    <tr>\n",
       "      <th>15628</th>\n",
       "      <td>20200124</td>\n",
       "      <td>WA</td>\n",
       "      <td>0.0</td>\n",
       "      <td>NaN</td>\n",
       "      <td>0.0</td>\n",
       "      <td>NaN</td>\n",
       "      <td>totalTestEncountersViral</td>\n",
       "      <td>0.0</td>\n",
       "      <td>NaN</td>\n",
       "      <td>NaN</td>\n",
       "      <td>...</td>\n",
       "      <td>0</td>\n",
       "      <td>0</td>\n",
       "      <td>0</td>\n",
       "      <td>82726df68eb97c98a4a6ee792349e547023147d5</td>\n",
       "      <td>0</td>\n",
       "      <td>0</td>\n",
       "      <td>0</td>\n",
       "      <td>0</td>\n",
       "      <td>0</td>\n",
       "      <td>NaN</td>\n",
       "    </tr>\n",
       "    <tr>\n",
       "      <th>15629</th>\n",
       "      <td>20200123</td>\n",
       "      <td>MA</td>\n",
       "      <td>NaN</td>\n",
       "      <td>NaN</td>\n",
       "      <td>NaN</td>\n",
       "      <td>NaN</td>\n",
       "      <td>totalTestsViral</td>\n",
       "      <td>2.0</td>\n",
       "      <td>NaN</td>\n",
       "      <td>NaN</td>\n",
       "      <td>...</td>\n",
       "      <td>0</td>\n",
       "      <td>0</td>\n",
       "      <td>0</td>\n",
       "      <td>76bc987d054b119a4e05a4a43742249c0b0568b6</td>\n",
       "      <td>0</td>\n",
       "      <td>0</td>\n",
       "      <td>0</td>\n",
       "      <td>0</td>\n",
       "      <td>0</td>\n",
       "      <td>NaN</td>\n",
       "    </tr>\n",
       "    <tr>\n",
       "      <th>15630</th>\n",
       "      <td>20200123</td>\n",
       "      <td>WA</td>\n",
       "      <td>0.0</td>\n",
       "      <td>NaN</td>\n",
       "      <td>0.0</td>\n",
       "      <td>NaN</td>\n",
       "      <td>totalTestEncountersViral</td>\n",
       "      <td>0.0</td>\n",
       "      <td>NaN</td>\n",
       "      <td>NaN</td>\n",
       "      <td>...</td>\n",
       "      <td>0</td>\n",
       "      <td>0</td>\n",
       "      <td>0</td>\n",
       "      <td>1c2229c239ffad5e5fdd9d76c641dc9166caf6ba</td>\n",
       "      <td>0</td>\n",
       "      <td>0</td>\n",
       "      <td>0</td>\n",
       "      <td>0</td>\n",
       "      <td>0</td>\n",
       "      <td>NaN</td>\n",
       "    </tr>\n",
       "    <tr>\n",
       "      <th>15631</th>\n",
       "      <td>20200122</td>\n",
       "      <td>MA</td>\n",
       "      <td>NaN</td>\n",
       "      <td>NaN</td>\n",
       "      <td>NaN</td>\n",
       "      <td>NaN</td>\n",
       "      <td>totalTestsViral</td>\n",
       "      <td>1.0</td>\n",
       "      <td>NaN</td>\n",
       "      <td>NaN</td>\n",
       "      <td>...</td>\n",
       "      <td>0</td>\n",
       "      <td>0</td>\n",
       "      <td>0</td>\n",
       "      <td>01f5dcd6631859503ef1b62d81d49e41d12fc1bd</td>\n",
       "      <td>0</td>\n",
       "      <td>0</td>\n",
       "      <td>0</td>\n",
       "      <td>0</td>\n",
       "      <td>0</td>\n",
       "      <td>NaN</td>\n",
       "    </tr>\n",
       "    <tr>\n",
       "      <th>15632</th>\n",
       "      <td>20200122</td>\n",
       "      <td>WA</td>\n",
       "      <td>0.0</td>\n",
       "      <td>NaN</td>\n",
       "      <td>0.0</td>\n",
       "      <td>NaN</td>\n",
       "      <td>totalTestEncountersViral</td>\n",
       "      <td>0.0</td>\n",
       "      <td>NaN</td>\n",
       "      <td>NaN</td>\n",
       "      <td>...</td>\n",
       "      <td>0</td>\n",
       "      <td>0</td>\n",
       "      <td>0</td>\n",
       "      <td>4502685e582e68071bfe8f7e1b307bc09c16728d</td>\n",
       "      <td>0</td>\n",
       "      <td>0</td>\n",
       "      <td>0</td>\n",
       "      <td>0</td>\n",
       "      <td>0</td>\n",
       "      <td>NaN</td>\n",
       "    </tr>\n",
       "  </tbody>\n",
       "</table>\n",
       "<p>15633 rows × 55 columns</p>\n",
       "</div>"
      ],
      "text/plain": [
       "           date state  positive  probableCases   negative  pending  \\\n",
       "0      20201206    AK   35720.0            NaN  1042056.0      NaN   \n",
       "1      20201206    AL  269877.0        45962.0  1421126.0      NaN   \n",
       "2      20201206    AR  170924.0        22753.0  1614979.0      NaN   \n",
       "3      20201206    AS       0.0            NaN     2140.0      NaN   \n",
       "4      20201206    AZ  364276.0        12590.0  2018813.0      NaN   \n",
       "...         ...   ...       ...            ...        ...      ...   \n",
       "15628  20200124    WA       0.0            NaN        0.0      NaN   \n",
       "15629  20200123    MA       NaN            NaN        NaN      NaN   \n",
       "15630  20200123    WA       0.0            NaN        0.0      NaN   \n",
       "15631  20200122    MA       NaN            NaN        NaN      NaN   \n",
       "15632  20200122    WA       0.0            NaN        0.0      NaN   \n",
       "\n",
       "         totalTestResultsSource  totalTestResults  hospitalizedCurrently  \\\n",
       "0               totalTestsViral         1077776.0                  164.0   \n",
       "1         totalTestsPeopleViral         1645041.0                 1927.0   \n",
       "2               totalTestsViral         1763150.0                 1076.0   \n",
       "3               totalTestsViral            2140.0                    NaN   \n",
       "4         totalTestsPeopleViral         2370499.0                 2977.0   \n",
       "...                         ...               ...                    ...   \n",
       "15628  totalTestEncountersViral               0.0                    NaN   \n",
       "15629           totalTestsViral               2.0                    NaN   \n",
       "15630  totalTestEncountersViral               0.0                    NaN   \n",
       "15631           totalTestsViral               1.0                    NaN   \n",
       "15632  totalTestEncountersViral               0.0                    NaN   \n",
       "\n",
       "       hospitalizedCumulative  ...   posNeg  deathIncrease  \\\n",
       "0                       799.0  ...  1077776              0   \n",
       "1                     26331.0  ...  1691003             12   \n",
       "2                      9401.0  ...  1785903             40   \n",
       "3                         NaN  ...     2140              0   \n",
       "4                     28248.0  ...  2383089             25   \n",
       "...                       ...  ...      ...            ...   \n",
       "15628                     NaN  ...        0              0   \n",
       "15629                     NaN  ...        0              0   \n",
       "15630                     NaN  ...        0              0   \n",
       "15631                     NaN  ...        0              0   \n",
       "15632                     NaN  ...        0              0   \n",
       "\n",
       "       hospitalizedIncrease                                      hash  \\\n",
       "0                         0  7b1d31e2756687bb9259b29195f1db6cdb321ea6   \n",
       "1                         0  19454ed8fe28fc0a7948fc0771b2f3c846c1c92e   \n",
       "2                        21  25fc83bffff5b32ba1a737be8e087fad9f4fde33   \n",
       "3                         0  8c39eec317586b0c34fc2903e6a3891ecb00469e   \n",
       "4                       242  7cf59da9e4bc31d905e179211313d08879880a85   \n",
       "...                     ...                                       ...   \n",
       "15628                     0  82726df68eb97c98a4a6ee792349e547023147d5   \n",
       "15629                     0  76bc987d054b119a4e05a4a43742249c0b0568b6   \n",
       "15630                     0  1c2229c239ffad5e5fdd9d76c641dc9166caf6ba   \n",
       "15631                     0  01f5dcd6631859503ef1b62d81d49e41d12fc1bd   \n",
       "15632                     0  4502685e582e68071bfe8f7e1b307bc09c16728d   \n",
       "\n",
       "       commercialScore negativeRegularScore negativeScore positiveScore score  \\\n",
       "0                    0                    0             0             0     0   \n",
       "1                    0                    0             0             0     0   \n",
       "2                    0                    0             0             0     0   \n",
       "3                    0                    0             0             0     0   \n",
       "4                    0                    0             0             0     0   \n",
       "...                ...                  ...           ...           ...   ...   \n",
       "15628                0                    0             0             0     0   \n",
       "15629                0                    0             0             0     0   \n",
       "15630                0                    0             0             0     0   \n",
       "15631                0                    0             0             0     0   \n",
       "15632                0                    0             0             0     0   \n",
       "\n",
       "       grade  \n",
       "0        NaN  \n",
       "1        NaN  \n",
       "2        NaN  \n",
       "3        NaN  \n",
       "4        NaN  \n",
       "...      ...  \n",
       "15628    NaN  \n",
       "15629    NaN  \n",
       "15630    NaN  \n",
       "15631    NaN  \n",
       "15632    NaN  \n",
       "\n",
       "[15633 rows x 55 columns]"
      ]
     },
     "execution_count": 2,
     "metadata": {},
     "output_type": "execute_result"
    }
   ],
   "source": [
    "data=pd.read_csv(\"/Users/markomiholjcic/Documents/GitHub/ArchetypalAnalysis/data/us_states_covid19_daily.csv\")\n",
    "data"
   ]
  },
  {
   "cell_type": "code",
   "execution_count": null,
   "metadata": {},
   "outputs": [],
   "source": [
    "data=pd.read_csv(\"/Users/u0984549/Documents/GitHub/ArchetypalAnalysis/data/us_states_covid19_daily.csv\")\n",
    "data"
   ]
  },
  {
   "cell_type": "markdown",
   "metadata": {},
   "source": [
    "Data for 50 states, DC, and 5 territories on December 6, 2020. Select states and territories with missing values were removed. "
   ]
  },
  {
   "cell_type": "code",
   "execution_count": 3,
   "metadata": {},
   "outputs": [
    {
     "data": {
      "text/html": [
       "<div>\n",
       "<style scoped>\n",
       "    .dataframe tbody tr th:only-of-type {\n",
       "        vertical-align: middle;\n",
       "    }\n",
       "\n",
       "    .dataframe tbody tr th {\n",
       "        vertical-align: top;\n",
       "    }\n",
       "\n",
       "    .dataframe thead th {\n",
       "        text-align: right;\n",
       "    }\n",
       "</style>\n",
       "<table border=\"1\" class=\"dataframe\">\n",
       "  <thead>\n",
       "    <tr style=\"text-align: right;\">\n",
       "      <th></th>\n",
       "      <th>positive</th>\n",
       "      <th>negative</th>\n",
       "      <th>totalTestResults</th>\n",
       "      <th>recovered</th>\n",
       "      <th>death</th>\n",
       "    </tr>\n",
       "  </thead>\n",
       "  <tbody>\n",
       "    <tr>\n",
       "      <th>0</th>\n",
       "      <td>35720.0</td>\n",
       "      <td>1042056.0</td>\n",
       "      <td>1077776.0</td>\n",
       "      <td>7165.0</td>\n",
       "      <td>143.0</td>\n",
       "    </tr>\n",
       "    <tr>\n",
       "      <th>1</th>\n",
       "      <td>269877.0</td>\n",
       "      <td>1421126.0</td>\n",
       "      <td>1645041.0</td>\n",
       "      <td>168387.0</td>\n",
       "      <td>3889.0</td>\n",
       "    </tr>\n",
       "    <tr>\n",
       "      <th>2</th>\n",
       "      <td>170924.0</td>\n",
       "      <td>1614979.0</td>\n",
       "      <td>1763150.0</td>\n",
       "      <td>149490.0</td>\n",
       "      <td>2660.0</td>\n",
       "    </tr>\n",
       "    <tr>\n",
       "      <th>4</th>\n",
       "      <td>364276.0</td>\n",
       "      <td>2018813.0</td>\n",
       "      <td>2370499.0</td>\n",
       "      <td>56382.0</td>\n",
       "      <td>6950.0</td>\n",
       "    </tr>\n",
       "    <tr>\n",
       "      <th>6</th>\n",
       "      <td>260581.0</td>\n",
       "      <td>1608829.0</td>\n",
       "      <td>3478160.0</td>\n",
       "      <td>13941.0</td>\n",
       "      <td>2724.0</td>\n",
       "    </tr>\n",
       "    <tr>\n",
       "      <th>7</th>\n",
       "      <td>127715.0</td>\n",
       "      <td>3294383.0</td>\n",
       "      <td>3422098.0</td>\n",
       "      <td>9800.0</td>\n",
       "      <td>5146.0</td>\n",
       "    </tr>\n",
       "    <tr>\n",
       "      <th>8</th>\n",
       "      <td>23136.0</td>\n",
       "      <td>711497.0</td>\n",
       "      <td>734633.0</td>\n",
       "      <td>16665.0</td>\n",
       "      <td>697.0</td>\n",
       "    </tr>\n",
       "    <tr>\n",
       "      <th>9</th>\n",
       "      <td>39912.0</td>\n",
       "      <td>400854.0</td>\n",
       "      <td>778298.0</td>\n",
       "      <td>18851.0</td>\n",
       "      <td>793.0</td>\n",
       "    </tr>\n",
       "    <tr>\n",
       "      <th>12</th>\n",
       "      <td>7004.0</td>\n",
       "      <td>79571.0</td>\n",
       "      <td>86575.0</td>\n",
       "      <td>6056.0</td>\n",
       "      <td>113.0</td>\n",
       "    </tr>\n",
       "    <tr>\n",
       "      <th>13</th>\n",
       "      <td>18842.0</td>\n",
       "      <td>295153.0</td>\n",
       "      <td>701776.0</td>\n",
       "      <td>11958.0</td>\n",
       "      <td>262.0</td>\n",
       "    </tr>\n",
       "    <tr>\n",
       "      <th>14</th>\n",
       "      <td>213390.0</td>\n",
       "      <td>885199.0</td>\n",
       "      <td>1098589.0</td>\n",
       "      <td>159063.0</td>\n",
       "      <td>2683.0</td>\n",
       "    </tr>\n",
       "    <tr>\n",
       "      <th>15</th>\n",
       "      <td>109705.0</td>\n",
       "      <td>398027.0</td>\n",
       "      <td>490387.0</td>\n",
       "      <td>42932.0</td>\n",
       "      <td>1032.0</td>\n",
       "    </tr>\n",
       "    <tr>\n",
       "      <th>17</th>\n",
       "      <td>381617.0</td>\n",
       "      <td>1928262.0</td>\n",
       "      <td>4577211.0</td>\n",
       "      <td>224059.0</td>\n",
       "      <td>6242.0</td>\n",
       "    </tr>\n",
       "    <tr>\n",
       "      <th>18</th>\n",
       "      <td>168295.0</td>\n",
       "      <td>676891.0</td>\n",
       "      <td>845186.0</td>\n",
       "      <td>3615.0</td>\n",
       "      <td>1786.0</td>\n",
       "    </tr>\n",
       "    <tr>\n",
       "      <th>19</th>\n",
       "      <td>200632.0</td>\n",
       "      <td>2568543.0</td>\n",
       "      <td>2732005.0</td>\n",
       "      <td>30161.0</td>\n",
       "      <td>2072.0</td>\n",
       "    </tr>\n",
       "    <tr>\n",
       "      <th>20</th>\n",
       "      <td>251123.0</td>\n",
       "      <td>3356960.0</td>\n",
       "      <td>3608083.0</td>\n",
       "      <td>202891.0</td>\n",
       "      <td>6584.0</td>\n",
       "    </tr>\n",
       "    <tr>\n",
       "      <th>21</th>\n",
       "      <td>256844.0</td>\n",
       "      <td>3250728.0</td>\n",
       "      <td>8970252.0</td>\n",
       "      <td>169809.0</td>\n",
       "      <td>11004.0</td>\n",
       "    </tr>\n",
       "    <tr>\n",
       "      <th>22</th>\n",
       "      <td>215027.0</td>\n",
       "      <td>2225595.0</td>\n",
       "      <td>4685476.0</td>\n",
       "      <td>8785.0</td>\n",
       "      <td>4846.0</td>\n",
       "    </tr>\n",
       "    <tr>\n",
       "      <th>23</th>\n",
       "      <td>13348.0</td>\n",
       "      <td>900832.0</td>\n",
       "      <td>914180.0</td>\n",
       "      <td>10080.0</td>\n",
       "      <td>227.0</td>\n",
       "    </tr>\n",
       "    <tr>\n",
       "      <th>24</th>\n",
       "      <td>426576.0</td>\n",
       "      <td>6538482.0</td>\n",
       "      <td>6965058.0</td>\n",
       "      <td>197750.0</td>\n",
       "      <td>10321.0</td>\n",
       "    </tr>\n",
       "    <tr>\n",
       "      <th>25</th>\n",
       "      <td>350862.0</td>\n",
       "      <td>2301135.0</td>\n",
       "      <td>4431677.0</td>\n",
       "      <td>308218.0</td>\n",
       "      <td>3984.0</td>\n",
       "    </tr>\n",
       "    <tr>\n",
       "      <th>27</th>\n",
       "      <td>106.0</td>\n",
       "      <td>17010.0</td>\n",
       "      <td>17116.0</td>\n",
       "      <td>29.0</td>\n",
       "      <td>2.0</td>\n",
       "    </tr>\n",
       "    <tr>\n",
       "      <th>28</th>\n",
       "      <td>164931.0</td>\n",
       "      <td>982395.0</td>\n",
       "      <td>1147326.0</td>\n",
       "      <td>128746.0</td>\n",
       "      <td>3961.0</td>\n",
       "    </tr>\n",
       "    <tr>\n",
       "      <th>29</th>\n",
       "      <td>67875.0</td>\n",
       "      <td>620339.0</td>\n",
       "      <td>688214.0</td>\n",
       "      <td>50287.0</td>\n",
       "      <td>736.0</td>\n",
       "    </tr>\n",
       "    <tr>\n",
       "      <th>30</th>\n",
       "      <td>394990.0</td>\n",
       "      <td>5216286.0</td>\n",
       "      <td>5611276.0</td>\n",
       "      <td>315979.0</td>\n",
       "      <td>5543.0</td>\n",
       "    </tr>\n",
       "    <tr>\n",
       "      <th>31</th>\n",
       "      <td>82981.0</td>\n",
       "      <td>274492.0</td>\n",
       "      <td>1132025.0</td>\n",
       "      <td>76999.0</td>\n",
       "      <td>1019.0</td>\n",
       "    </tr>\n",
       "    <tr>\n",
       "      <th>32</th>\n",
       "      <td>138568.0</td>\n",
       "      <td>631739.0</td>\n",
       "      <td>1456368.0</td>\n",
       "      <td>69840.0</td>\n",
       "      <td>1194.0</td>\n",
       "    </tr>\n",
       "    <tr>\n",
       "      <th>33</th>\n",
       "      <td>24771.0</td>\n",
       "      <td>415976.0</td>\n",
       "      <td>861473.0</td>\n",
       "      <td>19553.0</td>\n",
       "      <td>564.0</td>\n",
       "    </tr>\n",
       "    <tr>\n",
       "      <th>34</th>\n",
       "      <td>368016.0</td>\n",
       "      <td>5918797.0</td>\n",
       "      <td>6286813.0</td>\n",
       "      <td>46021.0</td>\n",
       "      <td>17321.0</td>\n",
       "    </tr>\n",
       "    <tr>\n",
       "      <th>35</th>\n",
       "      <td>108088.0</td>\n",
       "      <td>1539888.0</td>\n",
       "      <td>1647976.0</td>\n",
       "      <td>37041.0</td>\n",
       "      <td>1749.0</td>\n",
       "    </tr>\n",
       "    <tr>\n",
       "      <th>37</th>\n",
       "      <td>705827.0</td>\n",
       "      <td>19888867.0</td>\n",
       "      <td>20594694.0</td>\n",
       "      <td>87949.0</td>\n",
       "      <td>27149.0</td>\n",
       "    </tr>\n",
       "    <tr>\n",
       "      <th>38</th>\n",
       "      <td>475024.0</td>\n",
       "      <td>6000686.0</td>\n",
       "      <td>6475710.0</td>\n",
       "      <td>321505.0</td>\n",
       "      <td>6959.0</td>\n",
       "    </tr>\n",
       "    <tr>\n",
       "      <th>39</th>\n",
       "      <td>216486.0</td>\n",
       "      <td>2008829.0</td>\n",
       "      <td>2225315.0</td>\n",
       "      <td>182942.0</td>\n",
       "      <td>1896.0</td>\n",
       "    </tr>\n",
       "    <tr>\n",
       "      <th>40</th>\n",
       "      <td>84496.0</td>\n",
       "      <td>2005617.0</td>\n",
       "      <td>2090113.0</td>\n",
       "      <td>5870.0</td>\n",
       "      <td>1033.0</td>\n",
       "    </tr>\n",
       "    <tr>\n",
       "      <th>41</th>\n",
       "      <td>420114.0</td>\n",
       "      <td>2929036.0</td>\n",
       "      <td>3349150.0</td>\n",
       "      <td>238660.0</td>\n",
       "      <td>11331.0</td>\n",
       "    </tr>\n",
       "    <tr>\n",
       "      <th>42</th>\n",
       "      <td>56671.0</td>\n",
       "      <td>305972.0</td>\n",
       "      <td>362643.0</td>\n",
       "      <td>47406.0</td>\n",
       "      <td>1192.0</td>\n",
       "    </tr>\n",
       "    <tr>\n",
       "      <th>43</th>\n",
       "      <td>62137.0</td>\n",
       "      <td>482922.0</td>\n",
       "      <td>1608848.0</td>\n",
       "      <td>3939.0</td>\n",
       "      <td>1413.0</td>\n",
       "    </tr>\n",
       "    <tr>\n",
       "      <th>44</th>\n",
       "      <td>232099.0</td>\n",
       "      <td>2296092.0</td>\n",
       "      <td>2528191.0</td>\n",
       "      <td>119844.0</td>\n",
       "      <td>4566.0</td>\n",
       "    </tr>\n",
       "    <tr>\n",
       "      <th>45</th>\n",
       "      <td>85991.0</td>\n",
       "      <td>254004.0</td>\n",
       "      <td>339995.0</td>\n",
       "      <td>68449.0</td>\n",
       "      <td>1110.0</td>\n",
       "    </tr>\n",
       "    <tr>\n",
       "      <th>46</th>\n",
       "      <td>400594.0</td>\n",
       "      <td>4289928.0</td>\n",
       "      <td>4690522.0</td>\n",
       "      <td>360152.0</td>\n",
       "      <td>4943.0</td>\n",
       "    </tr>\n",
       "    <tr>\n",
       "      <th>47</th>\n",
       "      <td>1249323.0</td>\n",
       "      <td>10111653.0</td>\n",
       "      <td>11360976.0</td>\n",
       "      <td>1030716.0</td>\n",
       "      <td>22594.0</td>\n",
       "    </tr>\n",
       "    <tr>\n",
       "      <th>48</th>\n",
       "      <td>215407.0</td>\n",
       "      <td>1180321.0</td>\n",
       "      <td>1922236.0</td>\n",
       "      <td>153027.0</td>\n",
       "      <td>939.0</td>\n",
       "    </tr>\n",
       "    <tr>\n",
       "      <th>49</th>\n",
       "      <td>255053.0</td>\n",
       "      <td>3268822.0</td>\n",
       "      <td>3492201.0</td>\n",
       "      <td>25235.0</td>\n",
       "      <td>4200.0</td>\n",
       "    </tr>\n",
       "    <tr>\n",
       "      <th>50</th>\n",
       "      <td>1633.0</td>\n",
       "      <td>27660.0</td>\n",
       "      <td>29293.0</td>\n",
       "      <td>1513.0</td>\n",
       "      <td>23.0</td>\n",
       "    </tr>\n",
       "    <tr>\n",
       "      <th>51</th>\n",
       "      <td>5015.0</td>\n",
       "      <td>228865.0</td>\n",
       "      <td>583802.0</td>\n",
       "      <td>2951.0</td>\n",
       "      <td>79.0</td>\n",
       "    </tr>\n",
       "    <tr>\n",
       "      <th>53</th>\n",
       "      <td>441067.0</td>\n",
       "      <td>2196722.0</td>\n",
       "      <td>4623227.0</td>\n",
       "      <td>348995.0</td>\n",
       "      <td>3952.0</td>\n",
       "    </tr>\n",
       "    <tr>\n",
       "      <th>54</th>\n",
       "      <td>54997.0</td>\n",
       "      <td>1168366.0</td>\n",
       "      <td>1223363.0</td>\n",
       "      <td>35082.0</td>\n",
       "      <td>838.0</td>\n",
       "    </tr>\n",
       "    <tr>\n",
       "      <th>55</th>\n",
       "      <td>36317.0</td>\n",
       "      <td>144576.0</td>\n",
       "      <td>417627.0</td>\n",
       "      <td>29656.0</td>\n",
       "      <td>257.0</td>\n",
       "    </tr>\n",
       "  </tbody>\n",
       "</table>\n",
       "</div>"
      ],
      "text/plain": [
       "     positive    negative  totalTestResults  recovered    death\n",
       "0     35720.0   1042056.0         1077776.0     7165.0    143.0\n",
       "1    269877.0   1421126.0         1645041.0   168387.0   3889.0\n",
       "2    170924.0   1614979.0         1763150.0   149490.0   2660.0\n",
       "4    364276.0   2018813.0         2370499.0    56382.0   6950.0\n",
       "6    260581.0   1608829.0         3478160.0    13941.0   2724.0\n",
       "7    127715.0   3294383.0         3422098.0     9800.0   5146.0\n",
       "8     23136.0    711497.0          734633.0    16665.0    697.0\n",
       "9     39912.0    400854.0          778298.0    18851.0    793.0\n",
       "12     7004.0     79571.0           86575.0     6056.0    113.0\n",
       "13    18842.0    295153.0          701776.0    11958.0    262.0\n",
       "14   213390.0    885199.0         1098589.0   159063.0   2683.0\n",
       "15   109705.0    398027.0          490387.0    42932.0   1032.0\n",
       "17   381617.0   1928262.0         4577211.0   224059.0   6242.0\n",
       "18   168295.0    676891.0          845186.0     3615.0   1786.0\n",
       "19   200632.0   2568543.0         2732005.0    30161.0   2072.0\n",
       "20   251123.0   3356960.0         3608083.0   202891.0   6584.0\n",
       "21   256844.0   3250728.0         8970252.0   169809.0  11004.0\n",
       "22   215027.0   2225595.0         4685476.0     8785.0   4846.0\n",
       "23    13348.0    900832.0          914180.0    10080.0    227.0\n",
       "24   426576.0   6538482.0         6965058.0   197750.0  10321.0\n",
       "25   350862.0   2301135.0         4431677.0   308218.0   3984.0\n",
       "27      106.0     17010.0           17116.0       29.0      2.0\n",
       "28   164931.0    982395.0         1147326.0   128746.0   3961.0\n",
       "29    67875.0    620339.0          688214.0    50287.0    736.0\n",
       "30   394990.0   5216286.0         5611276.0   315979.0   5543.0\n",
       "31    82981.0    274492.0         1132025.0    76999.0   1019.0\n",
       "32   138568.0    631739.0         1456368.0    69840.0   1194.0\n",
       "33    24771.0    415976.0          861473.0    19553.0    564.0\n",
       "34   368016.0   5918797.0         6286813.0    46021.0  17321.0\n",
       "35   108088.0   1539888.0         1647976.0    37041.0   1749.0\n",
       "37   705827.0  19888867.0        20594694.0    87949.0  27149.0\n",
       "38   475024.0   6000686.0         6475710.0   321505.0   6959.0\n",
       "39   216486.0   2008829.0         2225315.0   182942.0   1896.0\n",
       "40    84496.0   2005617.0         2090113.0     5870.0   1033.0\n",
       "41   420114.0   2929036.0         3349150.0   238660.0  11331.0\n",
       "42    56671.0    305972.0          362643.0    47406.0   1192.0\n",
       "43    62137.0    482922.0         1608848.0     3939.0   1413.0\n",
       "44   232099.0   2296092.0         2528191.0   119844.0   4566.0\n",
       "45    85991.0    254004.0          339995.0    68449.0   1110.0\n",
       "46   400594.0   4289928.0         4690522.0   360152.0   4943.0\n",
       "47  1249323.0  10111653.0        11360976.0  1030716.0  22594.0\n",
       "48   215407.0   1180321.0         1922236.0   153027.0    939.0\n",
       "49   255053.0   3268822.0         3492201.0    25235.0   4200.0\n",
       "50     1633.0     27660.0           29293.0     1513.0     23.0\n",
       "51     5015.0    228865.0          583802.0     2951.0     79.0\n",
       "53   441067.0   2196722.0         4623227.0   348995.0   3952.0\n",
       "54    54997.0   1168366.0         1223363.0    35082.0    838.0\n",
       "55    36317.0    144576.0          417627.0    29656.0    257.0"
      ]
     },
     "execution_count": 3,
     "metadata": {},
     "output_type": "execute_result"
    }
   ],
   "source": [
    "dec6 = data.loc[data['date'] == 20201206]\n",
    "dec6 = dec6[['positive','negative','totalTestResults','recovered', 'death']]\n",
    "dec6 = dec6.dropna()\n",
    "dec6"
   ]
  },
  {
   "cell_type": "code",
   "execution_count": null,
   "metadata": {},
   "outputs": [],
   "source": [
    "dec6.to_csv('/Users/markomiholjcic/Documents/GitHub/ArchetypalAnalysis/data/COVID19.csv', index = False)"
   ]
  },
  {
   "cell_type": "code",
   "execution_count": null,
   "metadata": {},
   "outputs": [],
   "source": [
    "dec6.to_csv('/Users/u0984549/Documents/GitHub/ArchetypalAnalysis/data/COVID19.csv', index = False)"
   ]
  },
  {
   "cell_type": "code",
   "execution_count": 3,
   "metadata": {},
   "outputs": [
    {
     "name": "stdout",
     "output_type": "stream",
     "text": [
      "[[2 3 4 5]\n",
      " [5 6 7 8]\n",
      " [1 4 5 6]]\n",
      "[[2 5 1]\n",
      " [3 6 4]\n",
      " [4 7 5]\n",
      " [5 8 6]]\n"
     ]
    }
   ],
   "source": [
    "U = np.array([1,2,3])\n",
    "X = np.array([[2,3,4,5], [5,6,7,8], [1,4,5,6]])\n",
    "\n",
    "print(X)\n",
    "print(X.T)\n",
    "\n",
    "#(X[:, U] * X[:, U])"
   ]
  },
  {
   "cell_type": "code",
   "execution_count": 4,
   "metadata": {},
   "outputs": [
    {
     "data": {
      "text/plain": [
       "array([[ 54,  96,  64],\n",
       "       [ 96, 174, 112],\n",
       "       [ 64, 112,  78]])"
      ]
     },
     "execution_count": 4,
     "metadata": {},
     "output_type": "execute_result"
    }
   ],
   "source": [
    "np.dot(X, X.T)"
   ]
  },
  {
   "cell_type": "code",
   "execution_count": 5,
   "metadata": {},
   "outputs": [
    {
     "data": {
      "text/plain": [
       "matrix([[2, 2, 2, 2, 2],\n",
       "        [6, 6, 6, 6, 6],\n",
       "        [5, 5, 5, 5, 5]])"
      ]
     },
     "execution_count": 5,
     "metadata": {},
     "output_type": "execute_result"
    }
   ],
   "source": [
    "repmat(np.mat(np.diag(X)).T, 1, 5)"
   ]
  },
  {
   "cell_type": "code",
   "execution_count": 6,
   "metadata": {},
   "outputs": [
    {
     "data": {
      "text/plain": [
       "matrix([[2, 6, 5],\n",
       "        [2, 6, 5],\n",
       "        [2, 6, 5],\n",
       "        [2, 6, 5],\n",
       "        [2, 6, 5]])"
      ]
     },
     "execution_count": 6,
     "metadata": {},
     "output_type": "execute_result"
    }
   ],
   "source": [
    "repmat(np.mat(np.diag(X)), 5, 1)"
   ]
  },
  {
   "cell_type": "code",
   "execution_count": 20,
   "metadata": {},
   "outputs": [
    {
     "data": {
      "text/plain": [
       "3"
      ]
     },
     "execution_count": 20,
     "metadata": {},
     "output_type": "execute_result"
    }
   ],
   "source": [
    "int(np.ceil(5 * np.random.rand()))"
   ]
  },
  {
   "cell_type": "code",
   "execution_count": 13,
   "metadata": {},
   "outputs": [
    {
     "data": {
      "text/plain": [
       "5"
      ]
     },
     "execution_count": 13,
     "metadata": {},
     "output_type": "execute_result"
    }
   ],
   "source": [
    "len(range(0,5))"
   ]
  },
  {
   "cell_type": "code",
   "execution_count": 22,
   "metadata": {},
   "outputs": [
    {
     "data": {
      "text/plain": [
       "array([0, 1, 2, 3, 4])"
      ]
     },
     "execution_count": 22,
     "metadata": {},
     "output_type": "execute_result"
    }
   ],
   "source": [
    "np.array(range(5))"
   ]
  },
  {
   "cell_type": "code",
   "execution_count": null,
   "metadata": {},
   "outputs": [],
   "source": [
    "t = np.diag(X)\n",
    "print(t)\n",
    "np.where(t != 2)[0]"
   ]
  },
  {
   "cell_type": "code",
   "execution_count": null,
   "metadata": {},
   "outputs": [],
   "source": [
    "repmat(np.diag(X), 5, 1)"
   ]
  },
  {
   "cell_type": "code",
   "execution_count": null,
   "metadata": {},
   "outputs": [],
   "source": [
    "X[:,U]*X[:,U]"
   ]
  },
  {
   "cell_type": "code",
   "execution_count": null,
   "metadata": {},
   "outputs": [],
   "source": [
    "ind_t = 2\n",
    "ind_t[0]"
   ]
  },
  {
   "cell_type": "code",
   "execution_count": null,
   "metadata": {},
   "outputs": [],
   "source": [
    "X"
   ]
  },
  {
   "cell_type": "code",
   "execution_count": null,
   "metadata": {},
   "outputs": [],
   "source": [
    "X[[ind_t],:] * X[ind_t]"
   ]
  },
  {
   "cell_type": "code",
   "execution_count": null,
   "metadata": {},
   "outputs": [],
   "source": [
    "np(X + X[ind_t])"
   ]
  },
  {
   "cell_type": "code",
   "execution_count": null,
   "metadata": {},
   "outputs": [],
   "source": [
    "np.lib.scimath.sqrt(X + X[ind_t])"
   ]
  },
  {
   "cell_type": "code",
   "execution_count": null,
   "metadata": {},
   "outputs": [],
   "source": [
    "Kt = np.array([[1,2], [5,6], [8,9]])\n",
    "Kt = pd.DataFrame(Kt)\n",
    "Kt.to_csv('/Users/markomiholjcic/Documents/GitHub/ArchetypalAnalysis/data/small.csv', index = False)"
   ]
  },
  {
   "cell_type": "code",
   "execution_count": null,
   "metadata": {},
   "outputs": [],
   "source": [
    "e = np.ones((4, 1))\n",
    "e"
   ]
  },
  {
   "cell_type": "code",
   "execution_count": null,
   "metadata": {},
   "outputs": [],
   "source": [
    "CtXtXC = [2,3]\n",
    "S = [3,4]\n",
    "XCtX = [1,1]\n",
    "SST = 5\n",
    "J = 5\n",
    "g = (np.dot(CtXtXC, S) - XCtX) / (SST / J)\n",
    "g"
   ]
  },
  {
   "cell_type": "code",
   "execution_count": null,
   "metadata": {},
   "outputs": [],
   "source": [
    "a = np.arange(10)\n",
    "a.clip(min=5)"
   ]
  },
  {
   "cell_type": "code",
   "execution_count": null,
   "metadata": {},
   "outputs": [],
   "source": [
    "a = range(2)\n",
    "print(a)"
   ]
  },
  {
   "cell_type": "code",
   "execution_count": null,
   "metadata": {},
   "outputs": [],
   "source": [
    "X = np.matrix([[1, 2, 3],\n",
    "    [4, 5, 6], [7,8,9]])\n",
    "U = [0,1,2]\n",
    "print(U)\n",
    "print(X)\n",
    "print(X[:, U])"
   ]
  },
  {
   "cell_type": "code",
   "execution_count": null,
   "metadata": {},
   "outputs": [],
   "source": [
    "np.sum(np.multiply(X[:, U],X[:, U]))"
   ]
  },
  {
   "cell_type": "code",
   "execution_count": null,
   "metadata": {},
   "outputs": [],
   "source": [
    "[int(np.ceil(len(U) * np.random.rand()))]"
   ]
  },
  {
   "cell_type": "code",
   "execution_count": null,
   "metadata": {},
   "outputs": [],
   "source": [
    "noc = 3\n",
    "I = [1,2]\n",
    "i = [3]\n",
    "j = 3"
   ]
  },
  {
   "cell_type": "code",
   "execution_count": null,
   "metadata": {},
   "outputs": [],
   "source": [
    "len(I)"
   ]
  },
  {
   "cell_type": "code",
   "execution_count": null,
   "metadata": {},
   "outputs": [],
   "source": [
    "Kt = np.array([[1,2], [5,6], [8,9]])\n",
    "print(Kt)\n",
    "i = [1]\n",
    "[I,J] = Kt.shape\n",
    "print(I)\n",
    "print(J)"
   ]
  },
  {
   "cell_type": "code",
   "execution_count": null,
   "metadata": {},
   "outputs": [],
   "source": [
    "index = np.array(range(J))\n",
    "index[i] = -1\n",
    "index\n",
    "\n",
    "ind_t = i\n",
    "sum_dist = np.zeros((1, J), np.complex128)\n",
    "sum_dist"
   ]
  },
  {
   "cell_type": "code",
   "execution_count": null,
   "metadata": {},
   "outputs": [],
   "source": [
    "np.random.random((noc, len(U)))"
   ]
  },
  {
   "cell_type": "code",
   "execution_count": null,
   "metadata": {},
   "outputs": [],
   "source": [
    "result = Kt**2\n",
    "result"
   ]
  },
  {
   "cell_type": "code",
   "execution_count": null,
   "metadata": {},
   "outputs": [],
   "source": [
    "Kt2 = np.sum(Kt**2, axis=0)\n",
    "print(Kt2)\n"
   ]
  },
  {
   "cell_type": "code",
   "execution_count": null,
   "metadata": {},
   "outputs": [],
   "source": [
    "Kq = np.dot(Kt[:, i[0]], Kt)\n",
    "Kq"
   ]
  },
  {
   "cell_type": "code",
   "execution_count": null,
   "metadata": {},
   "outputs": [],
   "source": [
    "np.lib.scimath.sqrt(Kt2 - 2 * Kq + Kt2[i[0]])"
   ]
  },
  {
   "cell_type": "code",
   "execution_count": null,
   "metadata": {},
   "outputs": [],
   "source": [
    "sum_dist -= np.lib.scimath.sqrt(Kt2 - 2 * Kq + Kt2[i[0]])\n",
    "sum_dist"
   ]
  },
  {
   "cell_type": "code",
   "execution_count": null,
   "metadata": {},
   "outputs": [],
   "source": [
    "index[i[0]] = i[0]\n",
    "index"
   ]
  },
  {
   "cell_type": "code",
   "execution_count": null,
   "metadata": {},
   "outputs": [],
   "source": [
    "i = i[1:]\n",
    "i"
   ]
  },
  {
   "cell_type": "code",
   "execution_count": null,
   "metadata": {},
   "outputs": [],
   "source": [
    "index"
   ]
  },
  {
   "cell_type": "code",
   "execution_count": null,
   "metadata": {},
   "outputs": [],
   "source": [
    "t = np.where(index != 3)[0]\n",
    "t"
   ]
  },
  {
   "cell_type": "code",
   "execution_count": null,
   "metadata": {},
   "outputs": [],
   "source": [
    "Kt[:, ind_t].T"
   ]
  },
  {
   "cell_type": "code",
   "execution_count": null,
   "metadata": {},
   "outputs": [],
   "source": [
    "Kq = np.dot(Kt[:, ind_t].T, Kt)\n",
    "Kq"
   ]
  },
  {
   "cell_type": "code",
   "execution_count": null,
   "metadata": {},
   "outputs": [],
   "source": [
    "np.dot(np.ones((noc, 1)), np.mat(np.sum(S, axis=0)))"
   ]
  },
  {
   "cell_type": "code",
   "execution_count": null,
   "metadata": {},
   "outputs": [],
   "source": [
    "np.ones((noc, 1))"
   ]
  },
  {
   "cell_type": "code",
   "execution_count": null,
   "metadata": {},
   "outputs": [],
   "source": [
    "np.sum(S, axis=0)"
   ]
  },
  {
   "cell_type": "code",
   "execution_count": null,
   "metadata": {},
   "outputs": [],
   "source": [
    "np.mat(np.sum(S, axis=0))"
   ]
  },
  {
   "cell_type": "code",
   "execution_count": null,
   "metadata": {},
   "outputs": [],
   "source": [
    "ind"
   ]
  },
  {
   "cell_type": "code",
   "execution_count": null,
   "metadata": {},
   "outputs": [],
   "source": [
    "S"
   ]
  },
  {
   "cell_type": "code",
   "execution_count": null,
   "metadata": {},
   "outputs": [],
   "source": [
    "np.sum(S, axis=0)"
   ]
  },
  {
   "cell_type": "code",
   "execution_count": null,
   "metadata": {},
   "outputs": [],
   "source": [
    "np.sum(S, axis=1)"
   ]
  },
  {
   "cell_type": "code",
   "execution_count": null,
   "metadata": {},
   "outputs": [],
   "source": [
    "l = [1,9,3,4,5,6]\n",
    "max(zip(range(len(l)),l), key = lambda x:x[1])"
   ]
  },
  {
   "cell_type": "code",
   "execution_count": null,
   "metadata": {},
   "outputs": [],
   "source": [
    "sum_dist"
   ]
  },
  {
   "cell_type": "code",
   "execution_count": null,
   "metadata": {},
   "outputs": [],
   "source": [
    "index"
   ]
  },
  {
   "cell_type": "code",
   "execution_count": null,
   "metadata": {},
   "outputs": [],
   "source": [
    "t = np.where(index != -1)[0]\n",
    "t"
   ]
  },
  {
   "cell_type": "code",
   "execution_count": null,
   "metadata": {},
   "outputs": [],
   "source": [
    "sum_dist = np.zeros((1,5), np.complex128)\n",
    "sum_dist[0][0] += 2\n",
    "sum_dist[0][4] += 5\n",
    "\n",
    "print(sum_dist)\n",
    "sum_dist[:,[2,3,4]][0].real\n"
   ]
  },
  {
   "cell_type": "code",
   "execution_count": null,
   "metadata": {},
   "outputs": [],
   "source": [
    "index = np.array([0,2,-1,4,5])"
   ]
  },
  {
   "cell_type": "code",
   "execution_count": null,
   "metadata": {},
   "outputs": [],
   "source": [
    "i = 2\n",
    "i"
   ]
  },
  {
   "cell_type": "code",
   "execution_count": null,
   "metadata": {},
   "outputs": [],
   "source": [
    "t = np.where(index != -1)[0]"
   ]
  },
  {
   "cell_type": "code",
   "execution_count": null,
   "metadata": {},
   "outputs": [],
   "source": [
    "sum_dist"
   ]
  },
  {
   "cell_type": "code",
   "execution_count": null,
   "metadata": {},
   "outputs": [],
   "source": [
    "max(sum_dist[:,[0,1,3,4]][0].real)"
   ]
  },
  {
   "cell_type": "code",
   "execution_count": null,
   "metadata": {},
   "outputs": [],
   "source": [
    "vals"
   ]
  },
  {
   "cell_type": "code",
   "execution_count": null,
   "metadata": {},
   "outputs": [],
   "source": [
    "print(pd.__version__)"
   ]
  },
  {
   "cell_type": "code",
   "execution_count": 23,
   "metadata": {},
   "outputs": [],
   "source": [
    "from scipy.sparse import csr_matrix"
   ]
  },
  {
   "cell_type": "code",
   "execution_count": 28,
   "metadata": {},
   "outputs": [],
   "source": [
    "j = [0,1,2]"
   ]
  },
  {
   "cell_type": "code",
   "execution_count": 29,
   "metadata": {},
   "outputs": [],
   "source": [
    "i = [1,2,0]"
   ]
  },
  {
   "cell_type": "code",
   "execution_count": 32,
   "metadata": {},
   "outputs": [
    {
     "data": {
      "text/plain": [
       "matrix([[0., 0., 1.],\n",
       "        [1., 0., 0.],\n",
       "        [0., 1., 0.],\n",
       "        [0., 0., 0.],\n",
       "        [0., 0., 0.]])"
      ]
     },
     "execution_count": 32,
     "metadata": {},
     "output_type": "execute_result"
    }
   ],
   "source": [
    "csr_matrix((np.ones(len(i)), (i, j)), shape=(5, 3)).todense()"
   ]
  },
  {
   "cell_type": "code",
   "execution_count": null,
   "metadata": {},
   "outputs": [],
   "source": []
  },
  {
   "cell_type": "code",
   "execution_count": null,
   "metadata": {},
   "outputs": [],
   "source": []
  },
  {
   "cell_type": "code",
   "execution_count": null,
   "metadata": {},
   "outputs": [],
   "source": []
  },
  {
   "cell_type": "code",
   "execution_count": 4,
   "metadata": {},
   "outputs": [
    {
     "data": {
      "text/plain": [
       "array([[3.5720000e+04, 1.0420560e+06, 1.0777760e+06, 7.1650000e+03,\n",
       "        1.4300000e+02],\n",
       "       [2.6987700e+05, 1.4211260e+06, 1.6450410e+06, 1.6838700e+05,\n",
       "        3.8890000e+03],\n",
       "       [1.7092400e+05, 1.6149790e+06, 1.7631500e+06, 1.4949000e+05,\n",
       "        2.6600000e+03],\n",
       "       [3.6427600e+05, 2.0188130e+06, 2.3704990e+06, 5.6382000e+04,\n",
       "        6.9500000e+03],\n",
       "       [2.6058100e+05, 1.6088290e+06, 3.4781600e+06, 1.3941000e+04,\n",
       "        2.7240000e+03],\n",
       "       [1.2771500e+05, 3.2943830e+06, 3.4220980e+06, 9.8000000e+03,\n",
       "        5.1460000e+03],\n",
       "       [2.3136000e+04, 7.1149700e+05, 7.3463300e+05, 1.6665000e+04,\n",
       "        6.9700000e+02],\n",
       "       [3.9912000e+04, 4.0085400e+05, 7.7829800e+05, 1.8851000e+04,\n",
       "        7.9300000e+02],\n",
       "       [7.0040000e+03, 7.9571000e+04, 8.6575000e+04, 6.0560000e+03,\n",
       "        1.1300000e+02],\n",
       "       [1.8842000e+04, 2.9515300e+05, 7.0177600e+05, 1.1958000e+04,\n",
       "        2.6200000e+02],\n",
       "       [2.1339000e+05, 8.8519900e+05, 1.0985890e+06, 1.5906300e+05,\n",
       "        2.6830000e+03],\n",
       "       [1.0970500e+05, 3.9802700e+05, 4.9038700e+05, 4.2932000e+04,\n",
       "        1.0320000e+03],\n",
       "       [3.8161700e+05, 1.9282620e+06, 4.5772110e+06, 2.2405900e+05,\n",
       "        6.2420000e+03],\n",
       "       [1.6829500e+05, 6.7689100e+05, 8.4518600e+05, 3.6150000e+03,\n",
       "        1.7860000e+03],\n",
       "       [2.0063200e+05, 2.5685430e+06, 2.7320050e+06, 3.0161000e+04,\n",
       "        2.0720000e+03],\n",
       "       [2.5112300e+05, 3.3569600e+06, 3.6080830e+06, 2.0289100e+05,\n",
       "        6.5840000e+03],\n",
       "       [2.5684400e+05, 3.2507280e+06, 8.9702520e+06, 1.6980900e+05,\n",
       "        1.1004000e+04],\n",
       "       [2.1502700e+05, 2.2255950e+06, 4.6854760e+06, 8.7850000e+03,\n",
       "        4.8460000e+03],\n",
       "       [1.3348000e+04, 9.0083200e+05, 9.1418000e+05, 1.0080000e+04,\n",
       "        2.2700000e+02],\n",
       "       [4.2657600e+05, 6.5384820e+06, 6.9650580e+06, 1.9775000e+05,\n",
       "        1.0321000e+04],\n",
       "       [3.5086200e+05, 2.3011350e+06, 4.4316770e+06, 3.0821800e+05,\n",
       "        3.9840000e+03],\n",
       "       [1.0600000e+02, 1.7010000e+04, 1.7116000e+04, 2.9000000e+01,\n",
       "        2.0000000e+00],\n",
       "       [1.6493100e+05, 9.8239500e+05, 1.1473260e+06, 1.2874600e+05,\n",
       "        3.9610000e+03],\n",
       "       [6.7875000e+04, 6.2033900e+05, 6.8821400e+05, 5.0287000e+04,\n",
       "        7.3600000e+02],\n",
       "       [3.9499000e+05, 5.2162860e+06, 5.6112760e+06, 3.1597900e+05,\n",
       "        5.5430000e+03],\n",
       "       [8.2981000e+04, 2.7449200e+05, 1.1320250e+06, 7.6999000e+04,\n",
       "        1.0190000e+03],\n",
       "       [1.3856800e+05, 6.3173900e+05, 1.4563680e+06, 6.9840000e+04,\n",
       "        1.1940000e+03],\n",
       "       [2.4771000e+04, 4.1597600e+05, 8.6147300e+05, 1.9553000e+04,\n",
       "        5.6400000e+02],\n",
       "       [3.6801600e+05, 5.9187970e+06, 6.2868130e+06, 4.6021000e+04,\n",
       "        1.7321000e+04],\n",
       "       [1.0808800e+05, 1.5398880e+06, 1.6479760e+06, 3.7041000e+04,\n",
       "        1.7490000e+03],\n",
       "       [7.0582700e+05, 1.9888867e+07, 2.0594694e+07, 8.7949000e+04,\n",
       "        2.7149000e+04],\n",
       "       [4.7502400e+05, 6.0006860e+06, 6.4757100e+06, 3.2150500e+05,\n",
       "        6.9590000e+03],\n",
       "       [2.1648600e+05, 2.0088290e+06, 2.2253150e+06, 1.8294200e+05,\n",
       "        1.8960000e+03],\n",
       "       [8.4496000e+04, 2.0056170e+06, 2.0901130e+06, 5.8700000e+03,\n",
       "        1.0330000e+03],\n",
       "       [4.2011400e+05, 2.9290360e+06, 3.3491500e+06, 2.3866000e+05,\n",
       "        1.1331000e+04],\n",
       "       [5.6671000e+04, 3.0597200e+05, 3.6264300e+05, 4.7406000e+04,\n",
       "        1.1920000e+03],\n",
       "       [6.2137000e+04, 4.8292200e+05, 1.6088480e+06, 3.9390000e+03,\n",
       "        1.4130000e+03],\n",
       "       [2.3209900e+05, 2.2960920e+06, 2.5281910e+06, 1.1984400e+05,\n",
       "        4.5660000e+03],\n",
       "       [8.5991000e+04, 2.5400400e+05, 3.3999500e+05, 6.8449000e+04,\n",
       "        1.1100000e+03],\n",
       "       [4.0059400e+05, 4.2899280e+06, 4.6905220e+06, 3.6015200e+05,\n",
       "        4.9430000e+03],\n",
       "       [1.2493230e+06, 1.0111653e+07, 1.1360976e+07, 1.0307160e+06,\n",
       "        2.2594000e+04],\n",
       "       [2.1540700e+05, 1.1803210e+06, 1.9222360e+06, 1.5302700e+05,\n",
       "        9.3900000e+02],\n",
       "       [2.5505300e+05, 3.2688220e+06, 3.4922010e+06, 2.5235000e+04,\n",
       "        4.2000000e+03],\n",
       "       [1.6330000e+03, 2.7660000e+04, 2.9293000e+04, 1.5130000e+03,\n",
       "        2.3000000e+01],\n",
       "       [5.0150000e+03, 2.2886500e+05, 5.8380200e+05, 2.9510000e+03,\n",
       "        7.9000000e+01],\n",
       "       [4.4106700e+05, 2.1967220e+06, 4.6232270e+06, 3.4899500e+05,\n",
       "        3.9520000e+03],\n",
       "       [5.4997000e+04, 1.1683660e+06, 1.2233630e+06, 3.5082000e+04,\n",
       "        8.3800000e+02],\n",
       "       [3.6317000e+04, 1.4457600e+05, 4.1762700e+05, 2.9656000e+04,\n",
       "        2.5700000e+02]])"
      ]
     },
     "execution_count": 4,
     "metadata": {},
     "output_type": "execute_result"
    }
   ],
   "source": [
    "dec6_wo_st = dec6[['positive','negative','totalTestResults','recovered', 'death']]\n",
    "dec6_wo_st = dec6_wo_st.to_numpy()\n",
    "dec6_wo_st"
   ]
  },
  {
   "cell_type": "code",
   "execution_count": null,
   "metadata": {},
   "outputs": [],
   "source": []
  },
  {
   "cell_type": "code",
   "execution_count": null,
   "metadata": {},
   "outputs": [],
   "source": [
    "XC, S, C, SSE, varexpl = PCHA(dec6_wo_st, noc=3, I = None, delta=0.1)"
   ]
  },
  {
   "cell_type": "code",
   "execution_count": null,
   "metadata": {},
   "outputs": [],
   "source": [
    "S"
   ]
  },
  {
   "cell_type": "code",
   "execution_count": null,
   "metadata": {},
   "outputs": [],
   "source": [
    "XC.shape"
   ]
  },
  {
   "cell_type": "code",
   "execution_count": null,
   "metadata": {},
   "outputs": [],
   "source": [
    "varexpl"
   ]
  },
  {
   "cell_type": "code",
   "execution_count": null,
   "metadata": {},
   "outputs": [],
   "source": [
    "C"
   ]
  },
  {
   "cell_type": "code",
   "execution_count": 5,
   "metadata": {},
   "outputs": [],
   "source": [
    "def furthest_sum(K, noc, i, exclude=[]):\n",
    "    \n",
    "    def max_ind_val(l):\n",
    "        return max(zip(range(len(l)), l), key=lambda x: x[1])\n",
    "    \n",
    "    I, J = K.shape\n",
    "    index = np.array(range(J))\n",
    "    index[exclude] = 0\n",
    "    index[i] = -1\n",
    "    ind_t = i\n",
    "    sum_dist = np.zeros((1, J), np.complex128)\n",
    "\n",
    "    if J > noc * I:\n",
    "        Kt = K\n",
    "        Kt2 = np.sum(Kt**2, axis=0)\n",
    "        for k in range(1, noc + 11):\n",
    "            if k > noc - 1:\n",
    "                Kq = np.dot(Kt[:, i[0]], Kt)\n",
    "                sum_dist -= np.lib.scimath.sqrt(Kt2 - 2 * Kq + Kt2[i[0]])\n",
    "                index[i[0]] = i[0]\n",
    "                i = i[1:]\n",
    "            t = np.where(index != -1)[0]\n",
    "            Kq = np.dot(Kt[:, ind_t].T, Kt)\n",
    "            sum_dist += np.lib.scimath.sqrt(Kt2 - 2 * Kq + Kt2[ind_t])\n",
    "            ind, val = max_ind_val(sum_dist[:, t][0].real)\n",
    "            ind_t = t[ind]\n",
    "            i.append(ind_t)\n",
    "            index[ind_t] = -1\n",
    "    else:\n",
    "        if I != J or np.sum(K - K.T) != 0:  # Generate kernel if K not one\n",
    "            Kt = K\n",
    "            K = np.dot(Kt.T, Kt)\n",
    "            K = np.lib.scimath.sqrt(\n",
    "                repmat(np.diag(K), J, 1) - 2 * K + \\\n",
    "                repmat(np.mat(np.diag(K)).T, 1, J)\n",
    "            )\n",
    "\n",
    "        Kt2 = np.diag(K)  # Horizontal\n",
    "        for k in range(1, noc + 11):\n",
    "            if k > noc - 1:\n",
    "                sum_dist -= np.lib.scimath.sqrt(Kt2 - 2 * K[i[0], :] + Kt2[i[0]])\n",
    "                index[i[0]] = i[0]\n",
    "                i = i[1:]\n",
    "            t = np.where(index != -1)[0]\n",
    "            sum_dist += np.lib.scimath.sqrt(Kt2 - 2 * K[ind_t, :] + Kt2[ind_t])\n",
    "            ind, val = max_ind_val(sum_dist[:, t][0].real)\n",
    "            ind_t = t[ind]\n",
    "            i.append(ind_t)\n",
    "            index[ind_t] = -1\n",
    "\n",
    "    return i\n"
   ]
  },
  {
   "cell_type": "code",
   "execution_count": 8,
   "metadata": {},
   "outputs": [],
   "source": [
    "\"\"\"Principal Convex Hull Analysis (PCHA) / Archetypal Analysis.\"\"\"\n",
    "\n",
    "import numpy as np\n",
    "from scipy.sparse import csr_matrix\n",
    "from datetime import datetime as dt\n",
    "import time\n",
    "\n",
    "#from py_pcha.furthest_sum import furthest_sum\n",
    "\n",
    "\n",
    "def PCHAm(X, noc, I=None, U=None, delta=0, verbose=False, conv_crit=1E-6, maxiter=500):\n",
    "    \"\"\"Return archetypes of dataset.\n",
    "    Note: Commonly data is formatted to have shape (examples, dimensions).\n",
    "    This function takes input and returns output of the transposed shape,\n",
    "    (dimensions, examples).\n",
    "    Parameters\n",
    "    ----------\n",
    "    X : numpy.2darray\n",
    "        Data matrix in which to find archetypes\n",
    "    noc : int\n",
    "        Number of archetypes to find\n",
    "    I : 1d-array\n",
    "        Entries of X to use for dictionary in C (optional)\n",
    "    U : 1d-array\n",
    "        Entries of X to model in S (optional)\n",
    "    Output\n",
    "    ------\n",
    "    XC : numpy.2darray\n",
    "        I x noc feature matrix (i.e. XC=X[:,I]*C forming the archetypes)\n",
    "    S : numpy.2darray\n",
    "        noc x length(U) matrix, S>=0 |S_j|_1=1\n",
    "    C : numpy.2darray\n",
    "        noc x length(U) matrix, S>=0 |S_j|_1=1\n",
    "    SSE : float\n",
    "        Sum of Squared Errors\n",
    "    varexlp : float\n",
    "        Percent variation explained by the model\n",
    "    \"\"\"\n",
    "    def S_update(S, XCtX, CtXtXC, muS, SST, SSE, niter):\n",
    "        \"\"\"Update S for one iteration of the algorithm.\"\"\"\n",
    "        noc, J = S.shape\n",
    "        e = np.ones((noc, 1))\n",
    "        for k in range(niter):\n",
    "            SSE_old = SSE\n",
    "            g = (np.dot(CtXtXC, S) - XCtX) / (SST / J)\n",
    "            g = g - e * np.sum(g.A * S.A, axis=0)\n",
    "\n",
    "            S_old = S\n",
    "            while True:\n",
    "                S = (S_old - g * muS).clip(min=0)\n",
    "                S = S / np.dot(e, np.sum(S, axis=0))\n",
    "                SSt = S * S.T\n",
    "                SSE = SST - 2 * np.sum(XCtX.A * S.A) + np.sum(CtXtXC.A * SSt.A)\n",
    "                if SSE <= SSE_old * (1 + 1e-9):\n",
    "                    muS = muS * 1.2\n",
    "                    break\n",
    "                else:\n",
    "                    muS = muS / 2\n",
    "\n",
    "        return S, SSE, muS, SSt\n",
    "\n",
    "    def C_update(X, XSt, XC, SSt, C, delta, muC, mualpha, SST, SSE, niter=1):\n",
    "        \"\"\"Update C for one iteration of the algorithm.\"\"\"\n",
    "        J, nos = C.shape\n",
    "\n",
    "        if delta != 0:\n",
    "            alphaC = np.sum(C, axis=0).A[0]\n",
    "            C = np.dot(C, np.diag(1 / alphaC))\n",
    "\n",
    "        e = np.ones((J, 1))\n",
    "        XtXSt = np.dot(X.T, XSt)\n",
    "\n",
    "        for k in range(niter):\n",
    "\n",
    "            # Update C\n",
    "            SSE_old = SSE\n",
    "            g = (np.dot(X.T, np.dot(XC, SSt)) - XtXSt) / SST\n",
    "\n",
    "            if delta != 0:\n",
    "                g = np.dot(g, np.diag(alphaC))\n",
    "            g = g.A - e * np.sum(g.A * C.A, axis=0)\n",
    "\n",
    "            C_old = C\n",
    "            while True:\n",
    "                C = (C_old - muC * g).clip(min=0)\n",
    "                nC = np.sum(C, axis=0) + np.finfo(float).eps\n",
    "                C = np.dot(C, np.diag(1 / nC.A[0]))\n",
    "\n",
    "                if delta != 0:\n",
    "                    Ct = C * np.diag(alphaC)\n",
    "                else:\n",
    "                    Ct = C\n",
    "\n",
    "                XC = np.dot(X, Ct)\n",
    "                CtXtXC = np.dot(XC.T, XC)\n",
    "                SSE = SST - 2 * np.sum(XC.A * XSt.A) + np.sum(CtXtXC.A * SSt.A)\n",
    "\n",
    "                if SSE <= SSE_old * (1 + 1e-9):\n",
    "                    muC = muC * 1.2\n",
    "                    break\n",
    "                else:\n",
    "                    muC = muC / 2\n",
    "\n",
    "            # Update alphaC\n",
    "            SSE_old = SSE\n",
    "            if delta != 0:\n",
    "                g = (np.diag(CtXtXC * SSt).T / alphaC - np.sum(C.A * XtXSt.A)) / (SST * J)\n",
    "                alphaC_old = alphaC\n",
    "                while True:\n",
    "                    alphaC = alphaC_old - mualpha * g\n",
    "                    alphaC[alphaC < 1 - delta] = 1 - delta\n",
    "                    alphaC[alphaC > 1 + delta] = 1 + delta\n",
    "\n",
    "                    XCt = np.dot(XC, np.diag(alphaC / alphaC_old))\n",
    "                    CtXtXC = np.dot(XCt.T, XCt)\n",
    "                    SSE = SST - 2 * np.sum(XCt.A * XSt.A) + np.sum(CtXtXC.A * SSt.A)\n",
    "\n",
    "                    if SSE <= SSE_old * (1 + 1e-9):\n",
    "                        mualpha = mualpha * 1.2\n",
    "                        XC = XCt\n",
    "                        break\n",
    "                    else:\n",
    "                        mualpha = mualpha / 2\n",
    "\n",
    "        if delta != 0:\n",
    "            C = C * np.diag(alphaC)\n",
    "\n",
    "        return C, SSE, muC, mualpha, CtXtXC, XC\n",
    "\n",
    "    N, M = X.shape\n",
    "    \n",
    "\n",
    "    if I is None:\n",
    "        I = range(M)\n",
    "    if U is None:\n",
    "        U = range(M)\n",
    "\n",
    "    SST = np.sum(X[:, U] * X[:, U])\n",
    "\n",
    "    # Initialize C\n",
    "    try:\n",
    "        i = furthest_sum(X[:, I], noc, [int(np.ceil(len(I) * np.random.rand()))])\n",
    "    except IndexError:\n",
    "        class InitializationException(Exception): pass\n",
    "        raise InitializationException(\"Initialization does not converge. Too few examples in dataset.\")\n",
    "\n",
    "    #print(i)\n",
    "        \n",
    "    j = range(noc)\n",
    "    C = csr_matrix((np.ones(len(i)), (i, j)), shape=(len(I), noc)).todense()\n",
    "    #print(C)\n",
    "    \n",
    "    XC = np.dot(X[:, I], C)\n",
    "    print(X[:,I])\n",
    "\n",
    "    muS, muC, mualpha = 1, 1, 1\n",
    "\n",
    "    # Initialise S\n",
    "    XCtX = np.dot(XC.T, X[:, U])\n",
    "    CtXtXC = np.dot(XC.T, XC)\n",
    "    S = -np.log(np.random.random((noc, len(U))))\n",
    "    S = S / np.dot(np.ones((noc, 1)), np.mat(np.sum(S, axis=0)))\n",
    "    SSt = np.dot(S, S.T)\n",
    "    SSE = SST - 2 * np.sum(XCtX.A * S.A) + np.sum(CtXtXC.A * SSt.A)\n",
    "    S, SSE, muS, SSt = S_update(S, XCtX, CtXtXC, muS, SST, SSE, 25)\n",
    "\n",
    "    # Set PCHA parameters\n",
    "    iter_ = 0\n",
    "    dSSE = np.inf\n",
    "    t1 = dt.now()\n",
    "    varexpl = (SST - SSE) / SST\n",
    "\n",
    "    if verbose:\n",
    "        print('\\nPrincipal Convex Hull Analysis / Archetypal Analysis')\n",
    "        print('A ' + str(noc) + ' component model will be fitted')\n",
    "        print('To stop algorithm press control C\\n')\n",
    "\n",
    "    dheader = '%10s | %10s | %10s | %10s | %10s | %10s | %10s | %10s' % ('Iteration', 'Expl. var.', 'Cost func.', 'Delta SSEf.', 'muC', 'mualpha', 'muS', ' Time(s)   ')\n",
    "    dline = '-----------+------------+------------+-------------+------------+------------+------------+------------+'\n",
    "\n",
    "    while np.abs(dSSE) >= conv_crit * np.abs(SSE) and iter_ < maxiter and varexpl < 0.9999:\n",
    "        if verbose and iter_ % 100 == 0:\n",
    "            print(dline)\n",
    "            print(dheader)\n",
    "            print(dline)\n",
    "        told = t1\n",
    "        iter_ += 1\n",
    "        SSE_old = SSE\n",
    "\n",
    "        # C (and alpha) update\n",
    "        XSt = np.dot(X[:, U], S.T)\n",
    "        C, SSE, muC, mualpha, CtXtXC, XC = C_update(\n",
    "            X[:, I], XSt, XC, SSt, C, delta, muC, mualpha, SST, SSE, 10\n",
    "        )\n",
    "\n",
    "        # S update\n",
    "        XCtX = np.dot(XC.T, X[:, U])\n",
    "        S, SSE, muS, SSt = S_update(\n",
    "            S, XCtX, CtXtXC, muS, SST, SSE, 10\n",
    "        )\n",
    "\n",
    "        # Evaluate and display iteration\n",
    "        dSSE = SSE_old - SSE\n",
    "        t1 = dt.now()\n",
    "        if iter_ % 1 == 0:\n",
    "            time.sleep(0.000001)\n",
    "            varexpl = (SST - SSE) / SST\n",
    "            if verbose:\n",
    "                print('%10.0f | %10.4f | %10.4e | %10.4e | %10.4e | %10.4e | %10.4e | %10.4f \\n' % (iter_, varexpl, SSE, dSSE/np.abs(SSE), muC, mualpha, muS, (t1-told).seconds))\n",
    "\n",
    "    # Display final iteration\n",
    "    varexpl = (SST - SSE) / SST\n",
    "    if verbose:\n",
    "        print(dline)\n",
    "        print(dline)\n",
    "        print('%10.0f | %10.4f | %10.4e | %10.4e | %10.4e | %10.4e | %10.4e | %10.4f \\n' % (iter_, varexpl, SSE, dSSE/np.abs(SSE), muC, mualpha, muS, (t1-told).seconds))\n",
    "\n",
    "    #print(S)\n",
    "    #print(C)\n",
    "    #print(XC)\n",
    "        \n",
    "    # Sort components according to importance\n",
    "    ind, vals = zip(\n",
    "        *sorted(enumerate(np.sum(S, axis=1)), key=lambda x: x[0], reverse=1)\n",
    "    )\n",
    "    S = S[ind, :]\n",
    "    C = C[:, ind]\n",
    "    XC = XC[:, ind]\n",
    "\n",
    "    return XC, S, C, SSE, varexpl"
   ]
  },
  {
   "cell_type": "code",
   "execution_count": 9,
   "metadata": {},
   "outputs": [
    {
     "name": "stdout",
     "output_type": "stream",
     "text": [
      "[[3.5720000e+04 1.0420560e+06 1.0777760e+06 7.1650000e+03 1.4300000e+02]\n",
      " [2.6987700e+05 1.4211260e+06 1.6450410e+06 1.6838700e+05 3.8890000e+03]\n",
      " [1.7092400e+05 1.6149790e+06 1.7631500e+06 1.4949000e+05 2.6600000e+03]\n",
      " [3.6427600e+05 2.0188130e+06 2.3704990e+06 5.6382000e+04 6.9500000e+03]\n",
      " [2.6058100e+05 1.6088290e+06 3.4781600e+06 1.3941000e+04 2.7240000e+03]\n",
      " [1.2771500e+05 3.2943830e+06 3.4220980e+06 9.8000000e+03 5.1460000e+03]\n",
      " [2.3136000e+04 7.1149700e+05 7.3463300e+05 1.6665000e+04 6.9700000e+02]\n",
      " [3.9912000e+04 4.0085400e+05 7.7829800e+05 1.8851000e+04 7.9300000e+02]\n",
      " [7.0040000e+03 7.9571000e+04 8.6575000e+04 6.0560000e+03 1.1300000e+02]\n",
      " [1.8842000e+04 2.9515300e+05 7.0177600e+05 1.1958000e+04 2.6200000e+02]\n",
      " [2.1339000e+05 8.8519900e+05 1.0985890e+06 1.5906300e+05 2.6830000e+03]\n",
      " [1.0970500e+05 3.9802700e+05 4.9038700e+05 4.2932000e+04 1.0320000e+03]\n",
      " [3.8161700e+05 1.9282620e+06 4.5772110e+06 2.2405900e+05 6.2420000e+03]\n",
      " [1.6829500e+05 6.7689100e+05 8.4518600e+05 3.6150000e+03 1.7860000e+03]\n",
      " [2.0063200e+05 2.5685430e+06 2.7320050e+06 3.0161000e+04 2.0720000e+03]\n",
      " [2.5112300e+05 3.3569600e+06 3.6080830e+06 2.0289100e+05 6.5840000e+03]\n",
      " [2.5684400e+05 3.2507280e+06 8.9702520e+06 1.6980900e+05 1.1004000e+04]\n",
      " [2.1502700e+05 2.2255950e+06 4.6854760e+06 8.7850000e+03 4.8460000e+03]\n",
      " [1.3348000e+04 9.0083200e+05 9.1418000e+05 1.0080000e+04 2.2700000e+02]\n",
      " [4.2657600e+05 6.5384820e+06 6.9650580e+06 1.9775000e+05 1.0321000e+04]\n",
      " [3.5086200e+05 2.3011350e+06 4.4316770e+06 3.0821800e+05 3.9840000e+03]\n",
      " [1.0600000e+02 1.7010000e+04 1.7116000e+04 2.9000000e+01 2.0000000e+00]\n",
      " [1.6493100e+05 9.8239500e+05 1.1473260e+06 1.2874600e+05 3.9610000e+03]\n",
      " [6.7875000e+04 6.2033900e+05 6.8821400e+05 5.0287000e+04 7.3600000e+02]\n",
      " [3.9499000e+05 5.2162860e+06 5.6112760e+06 3.1597900e+05 5.5430000e+03]\n",
      " [8.2981000e+04 2.7449200e+05 1.1320250e+06 7.6999000e+04 1.0190000e+03]\n",
      " [1.3856800e+05 6.3173900e+05 1.4563680e+06 6.9840000e+04 1.1940000e+03]\n",
      " [2.4771000e+04 4.1597600e+05 8.6147300e+05 1.9553000e+04 5.6400000e+02]\n",
      " [3.6801600e+05 5.9187970e+06 6.2868130e+06 4.6021000e+04 1.7321000e+04]\n",
      " [1.0808800e+05 1.5398880e+06 1.6479760e+06 3.7041000e+04 1.7490000e+03]\n",
      " [7.0582700e+05 1.9888867e+07 2.0594694e+07 8.7949000e+04 2.7149000e+04]\n",
      " [4.7502400e+05 6.0006860e+06 6.4757100e+06 3.2150500e+05 6.9590000e+03]\n",
      " [2.1648600e+05 2.0088290e+06 2.2253150e+06 1.8294200e+05 1.8960000e+03]\n",
      " [8.4496000e+04 2.0056170e+06 2.0901130e+06 5.8700000e+03 1.0330000e+03]\n",
      " [4.2011400e+05 2.9290360e+06 3.3491500e+06 2.3866000e+05 1.1331000e+04]\n",
      " [5.6671000e+04 3.0597200e+05 3.6264300e+05 4.7406000e+04 1.1920000e+03]\n",
      " [6.2137000e+04 4.8292200e+05 1.6088480e+06 3.9390000e+03 1.4130000e+03]\n",
      " [2.3209900e+05 2.2960920e+06 2.5281910e+06 1.1984400e+05 4.5660000e+03]\n",
      " [8.5991000e+04 2.5400400e+05 3.3999500e+05 6.8449000e+04 1.1100000e+03]\n",
      " [4.0059400e+05 4.2899280e+06 4.6905220e+06 3.6015200e+05 4.9430000e+03]\n",
      " [1.2493230e+06 1.0111653e+07 1.1360976e+07 1.0307160e+06 2.2594000e+04]\n",
      " [2.1540700e+05 1.1803210e+06 1.9222360e+06 1.5302700e+05 9.3900000e+02]\n",
      " [2.5505300e+05 3.2688220e+06 3.4922010e+06 2.5235000e+04 4.2000000e+03]\n",
      " [1.6330000e+03 2.7660000e+04 2.9293000e+04 1.5130000e+03 2.3000000e+01]\n",
      " [5.0150000e+03 2.2886500e+05 5.8380200e+05 2.9510000e+03 7.9000000e+01]\n",
      " [4.4106700e+05 2.1967220e+06 4.6232270e+06 3.4899500e+05 3.9520000e+03]\n",
      " [5.4997000e+04 1.1683660e+06 1.2233630e+06 3.5082000e+04 8.3800000e+02]\n",
      " [3.6317000e+04 1.4457600e+05 4.1762700e+05 2.9656000e+04 2.5700000e+02]]\n"
     ]
    }
   ],
   "source": [
    "XC2, S2, C2, SSE2, varexpl2 = PCHAm(dec6_wo_st, noc=3, I = None, delta=0)"
   ]
  },
  {
   "cell_type": "code",
   "execution_count": 10,
   "metadata": {},
   "outputs": [
    {
     "data": {
      "text/plain": [
       "matrix([[3.62343229e+03, 1.07775631e+06, 1.04205424e+06],\n",
       "        [8.54219181e+04, 1.64501502e+06, 1.42112439e+06],\n",
       "        [7.54358292e+04, 1.76311992e+06, 1.61497669e+06],\n",
       "        [3.14508159e+04, 2.37046109e+06, 2.01881076e+06],\n",
       "        [8.28367089e+03, 3.47809921e+06, 1.60883071e+06],\n",
       "        [7.45274051e+03, 3.42203576e+06, 3.29437749e+06],\n",
       "        [8.61148915e+03, 7.34619557e+05, 7.11495791e+05],\n",
       "        [9.74339110e+03, 7.78284049e+05, 4.00854183e+05],\n",
       "        [3.05862932e+03, 8.65734966e+04, 7.95708828e+04],\n",
       "        [6.05908574e+03, 7.01763097e+05, 2.95153404e+05],\n",
       "        [8.01922568e+04, 1.09857228e+06, 8.85198247e+05],\n",
       "        [2.17996037e+04, 4.90379807e+05, 3.98026679e+05],\n",
       "        [1.14202313e+05, 4.57713173e+06, 1.92826509e+06],\n",
       "        [2.69253812e+03, 8.45173211e+05, 6.76890445e+05],\n",
       "        [1.59942248e+04, 2.73195717e+06, 2.56853903e+06],\n",
       "        [1.03882949e+05, 3.60801957e+06, 3.35695487e+06],\n",
       "        [8.97152005e+04, 8.97008737e+06, 3.25073531e+06],\n",
       "        [6.79835300e+03, 4.68539154e+06, 2.22559682e+06],\n",
       "        [5.11060856e+03, 9.14162980e+05, 9.00830404e+05],\n",
       "        [1.03219596e+05, 6.96493446e+06, 6.53847176e+06],\n",
       "        [1.54776628e+05, 4.43159990e+06, 2.30113620e+06],\n",
       "        [1.53824654e+01, 1.71156786e+04, 1.70099693e+04],\n",
       "        [6.58102941e+04, 1.14730744e+06, 9.82393872e+05],\n",
       "        [2.52957978e+04, 6.88202279e+05, 6.20338140e+05],\n",
       "        [1.59409630e+05, 5.61117744e+06, 5.21627805e+06],\n",
       "        [3.86782488e+04, 1.13200518e+06, 2.74493568e+05],\n",
       "        [3.52181747e+04, 1.45634310e+06, 6.31739942e+05],\n",
       "        [9.97583833e+03, 8.61457191e+05, 4.15976280e+05],\n",
       "        [3.15460650e+04, 6.28670117e+06, 5.91878766e+06],\n",
       "        [1.92413692e+04, 1.64794691e+06, 1.53988562e+06],\n",
       "        [5.72843294e+04, 2.05943182e+07, 1.98888334e+07],\n",
       "        [1.62862739e+05, 6.47559662e+06, 6.00067694e+06],\n",
       "        [9.16308824e+04, 2.22527705e+06, 2.00882620e+06],\n",
       "        [3.43044389e+03, 2.09007511e+06, 2.00561367e+06],\n",
       "        [1.24005906e+05, 3.34909466e+06, 2.92903234e+06],\n",
       "        [2.40978242e+04, 3.62637219e+05, 3.05971670e+05],\n",
       "        [2.66500398e+03, 1.60881878e+06, 4.82923749e+05],\n",
       "        [6.17031794e+04, 2.52814762e+06, 2.29608874e+06],\n",
       "        [3.44863643e+04, 3.39990201e+05, 2.54003885e+05],\n",
       "        [1.81001227e+05, 4.69044095e+06, 4.28992177e+06],\n",
       "        [5.22266509e+05, 1.13607850e+07, 1.01116396e+07],\n",
       "        [7.63209405e+04, 1.92220375e+06, 1.18032089e+06],\n",
       "        [1.46259318e+04, 3.49213984e+06, 3.26881698e+06],\n",
       "        [7.61513829e+02, 2.92924774e+04, 2.76599560e+04],\n",
       "        [1.50249780e+03, 5.83791064e+05, 2.28865384e+05],\n",
       "        [1.74971481e+05, 4.62314798e+06, 2.19672421e+06],\n",
       "        [1.78109313e+04, 1.22334093e+06, 1.16836408e+06],\n",
       "        [1.48285222e+04, 4.17619796e+05, 1.44576413e+05]])"
      ]
     },
     "execution_count": 10,
     "metadata": {},
     "output_type": "execute_result"
    }
   ],
   "source": [
    "XC2"
   ]
  },
  {
   "cell_type": "code",
   "execution_count": null,
   "metadata": {},
   "outputs": [],
   "source": [
    "C2"
   ]
  },
  {
   "cell_type": "code",
   "execution_count": null,
   "metadata": {},
   "outputs": [],
   "source": [
    "C2[:,0]"
   ]
  },
  {
   "cell_type": "code",
   "execution_count": null,
   "metadata": {},
   "outputs": [],
   "source": [
    "XC2"
   ]
  },
  {
   "cell_type": "code",
   "execution_count": null,
   "metadata": {},
   "outputs": [],
   "source": [
    "ans = 0\n",
    "\n",
    "for i in range(len(XC)):\n",
    "    a = XC[i] - XC2[i]\n",
    "    ans = ans + a\n",
    "    \n",
    "print(ans)"
   ]
  },
  {
   "cell_type": "code",
   "execution_count": null,
   "metadata": {},
   "outputs": [],
   "source": [
    "ans = 0\n",
    "\n",
    "for i in range(len(S)):\n",
    "    a = S[i] - S2[i]\n",
    "    ans = ans + a\n",
    "    \n",
    "print(ans)"
   ]
  },
  {
   "cell_type": "code",
   "execution_count": null,
   "metadata": {},
   "outputs": [],
   "source": [
    "ans = 0\n",
    "\n",
    "for i in range(len(C)):\n",
    "    a = C[i] - C2[i]\n",
    "    ans = ans + a\n",
    "    \n",
    "print(ans)"
   ]
  },
  {
   "cell_type": "code",
   "execution_count": null,
   "metadata": {},
   "outputs": [],
   "source": []
  },
  {
   "cell_type": "markdown",
   "metadata": {},
   "source": [
    "Attempts to understand"
   ]
  },
  {
   "cell_type": "code",
   "execution_count": null,
   "metadata": {},
   "outputs": [],
   "source": [
    "#dimensions = 7\n",
    "#examples = 2\n",
    "#X = np.random.random((dimensions, examples)) * 10\n",
    "I_list = ['rd','be','gn','bl','cf','dg','co','pi','yu','we','oi','or','mq','mt','nz']\n",
    "\n",
    "a = [[5, 0],[5, 1],[10 ,1],[2, 4],[6, 1],\n",
    "     [0, 1],[1, 7],[3,1],[3,2],[3,3],\n",
    "     [4,1],[2,2],[2,3],[3,5],[7,1]]\n",
    "a\n",
    "\n",
    "arr_a = np.array(a)\n",
    "\n",
    "x = arr_a[:,0]\n",
    "y = arr_a[:,1]\n",
    "print(x)\n",
    "print(y)\n",
    "plt.scatter(x,y)"
   ]
  },
  {
   "cell_type": "code",
   "execution_count": null,
   "metadata": {},
   "outputs": [],
   "source": [
    "XC, S, C, SSE, varexpl = PCHA(arr_a, noc=2, I = None, delta=0.1)"
   ]
  },
  {
   "cell_type": "code",
   "execution_count": null,
   "metadata": {},
   "outputs": [],
   "source": [
    "XC"
   ]
  },
  {
   "cell_type": "code",
   "execution_count": null,
   "metadata": {},
   "outputs": [],
   "source": [
    "S"
   ]
  },
  {
   "cell_type": "code",
   "execution_count": null,
   "metadata": {},
   "outputs": [],
   "source": [
    "C"
   ]
  },
  {
   "cell_type": "code",
   "execution_count": null,
   "metadata": {},
   "outputs": [],
   "source": [
    "SSE"
   ]
  },
  {
   "cell_type": "code",
   "execution_count": null,
   "metadata": {},
   "outputs": [],
   "source": [
    "varexpl"
   ]
  },
  {
   "cell_type": "code",
   "execution_count": null,
   "metadata": {},
   "outputs": [],
   "source": [
    "XC*C"
   ]
  },
  {
   "cell_type": "code",
   "execution_count": null,
   "metadata": {},
   "outputs": [],
   "source": []
  },
  {
   "cell_type": "code",
   "execution_count": null,
   "metadata": {},
   "outputs": [],
   "source": []
  }
 ],
 "metadata": {
  "kernelspec": {
   "display_name": "Python 3",
   "language": "python",
   "name": "python3"
  },
  "language_info": {
   "codemirror_mode": {
    "name": "ipython",
    "version": 3
   },
   "file_extension": ".py",
   "mimetype": "text/x-python",
   "name": "python",
   "nbconvert_exporter": "python",
   "pygments_lexer": "ipython3",
   "version": "3.8.3"
  }
 },
 "nbformat": 4,
 "nbformat_minor": 4
}
